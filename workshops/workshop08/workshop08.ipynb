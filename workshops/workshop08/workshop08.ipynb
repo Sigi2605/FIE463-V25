{
 "cells": [
  {
   "cell_type": "markdown",
   "metadata": {},
   "source": [
    "# Exercise 1: Wealth dynamics with AR(1) returns\n",
    "\n",
    "Recall the household wealth dynamics we studied in the previous lecture, where assets $a_{i,t}$ \n",
    "evolved according to\n",
    "$$\n",
    "a_{i,t+1} = R s a_{i,t} + y_{i,t+1}\n",
    "$$\n",
    "and we assumed a fixed savings rate $s$, a fixed gross return $R$\n",
    "and some stochastic income process $y_{i,t}$.\n",
    "\n",
    "In this exercise, we alter this setting to *stochastic returns* which follow an AR(1)\n",
    "so that the model of wealth dynamics is now given by\n",
    "$$\n",
    "\\begin{aligned}\n",
    "a_{i,t+1} &= R_{i,t+1} s a_{i,t} + y_{i,t+1} \\\\\n",
    "\\log R_{i,t+1} &= \\mu_r + \\rho_r \\log R_{i,t} + \\epsilon_{i,t+1}\\,, \\qquad \n",
    "    \\epsilon_{i,t+1} \\stackrel{\\text{iid}}{\\sim} \\mathcal{N}\\left(0, \\sigma_r^2 \\right) \\\\\n",
    "\\log y_{i,t+1} &\\stackrel{\\text{iid}}{\\sim} \\mathcal{N}\\left(\\mu_y, \\sigma_y^2 \\right)\n",
    "\\end{aligned}\n",
    "$$\n",
    "where $R_{i,t+1}$ follows an AR(1) in logs and $y_{i,t+1}$ is log-normally distributed.\n",
    "\n",
    "## Parameters\n",
    "\n",
    "To remain comparable with the scenarios discussed in the lecture, we set the following parameters:\n",
    "\n",
    "| Parameter  | Description | Value       |\n",
    "|------------|-------------|-------------|\n",
    "| s | Savings rate | 0.75 |\n",
    "| $\\sigma_y$ | Volatility of log labor income | 0.1 |\n",
    "| $\\mu_y$ | Mean of log labor income | $-\\frac{1}{2}\\sigma_y^2$|\n",
    "| $\\rho_r$  | Autocorrelation of log returns | 0.6 |\n",
    "| $\\sigma_r$ | Volatility of log return shocks | 0.2 |\n",
    "| $\\mu_r$ | Intercept of log returns | $(1-\\rho_r) \\log(1.1) - \\frac{1}{2}\\frac{\\sigma_r^2}{1+\\rho_r}$\n",
    "\n",
    "The parameter $\\mu_y$ is chosen so that average income in levels is one, $\\mathbb{E}[y_{i,t}] = 1$,\n",
    "while $\\mu_r$ is chosen so that average gross returns are 1.1 as in the lecture, i.e., $\\mathbb{E}[R_{i,t}] = 1.1$.\n",
    "\n",
    "The following code defines the parameters class for this problem:"
   ]
  },
  {
   "cell_type": "code",
   "execution_count": 1,
   "metadata": {},
   "outputs": [],
   "source": [
    "import numpy as np\n",
    "from dataclasses import dataclass\n",
    "\n",
    "@dataclass\n",
    "class Parameters:\n",
    "    \"\"\"\n",
    "    Parameters for model with stochastic returns.\n",
    "    \"\"\"\n",
    "    s: float = 0.75                             # Exogenous savings rate\n",
    "    sigma_y: float = 0.1                        # Standard deviation of log income\n",
    "    mu_y: float = -sigma_y**2.0/2.0             # Mean of log income\n",
    "    rho_r: float = 0.6                          # Persistence of log gross returns  \n",
    "    sigma_r: float = 0.2                        # Standard deviation of log gross returns\n",
    "    mu_r: float = (1-rho_r) * np.log(1.1) - sigma_r**2/2/(1+rho_r)    # Mean of log gross returns    "
   ]
  },
  {
   "cell_type": "code",
   "execution_count": 2,
   "metadata": {},
   "outputs": [],
   "source": [
    "# Create an instance of the Parameters class\n",
    "par = Parameters()"
   ]
  },
  {
   "cell_type": "markdown",
   "metadata": {},
   "source": [
    "The following code verifies that the calibration of parameters yields the desired moments $E[y_{i,t}] = 1$ and $E[R_{i,t}] = 1.1$. For this we use the formulas for the mean and variance of log-normal variables,\n",
    "$$\n",
    "\\begin{aligned}\n",
    "    \\log X \\stackrel{\\text{iid}}{\\sim} \\mathcal{N}\\left(\\mu, \\sigma^2 \\right)\n",
    "    \\quad\\Longrightarrow\\quad\n",
    "\n",
    "    \\begin{cases}\n",
    "    \\mathbb{E}[X] &= e^{ \\mu + \\frac{1}{2}\\sigma^2} \\\\\n",
    "    \\text{Var}(X) &= \\left( e^{\\sigma^2} - 1 \\right) e^{2 \\mu + \\sigma^2}\n",
    "    \\end{cases}\n",
    "\\end{aligned}\n",
    "$$"
   ]
  },
  {
   "cell_type": "code",
   "execution_count": 3,
   "metadata": {},
   "outputs": [
    {
     "name": "stdout",
     "output_type": "stream",
     "text": [
      "Mean income:       1.000\n",
      "Mean gross return: 1.100\n"
     ]
    }
   ],
   "source": [
    "# Mean of income in levels (from log-normal formula)\n",
    "y_mean = np.exp(par.mu_y + par.sigma_y**2 / 2)\n",
    "\n",
    "# From the formulas for mean & variance of AR(1) process:\n",
    "# Unconditional mean of log gross returns\n",
    "uncond_mean_log_R = par.mu_r / (1 - par.rho_r)\n",
    "# Unconditional variance of log gross returns\n",
    "uncond_var_log_R = par.sigma_r**2 / (1 - par.rho_r**2)\n",
    "\n",
    "# Unconditional mean of gross returns (from log-normal formula)\n",
    "R_mean = np.exp(uncond_mean_log_R + uncond_var_log_R/2)\n",
    "\n",
    "print(f'Mean income:       {y_mean:.3f}')\n",
    "print(f'Mean gross return: {R_mean:.3f}')"
   ]
  },
  {
   "cell_type": "markdown",
   "metadata": {},
   "source": [
    "Lastly, we can use the variance formula above to get an idea of the conditional standard deviation of returns:"
   ]
  },
  {
   "cell_type": "code",
   "execution_count": 4,
   "metadata": {},
   "outputs": [
    {
     "name": "stdout",
     "output_type": "stream",
     "text": [
      "Conditional standard deviation of gross returns: 0.211\n"
     ]
    }
   ],
   "source": [
    "# Use variance formula for log-normal random variables\n",
    "R_var_cond = (np.exp(par.sigma_r**2) - 1) * np.exp(2*par.mu_r + par.sigma_r**2)\n",
    "print(f'Conditional standard deviation of gross returns: {np.sqrt(R_var_cond):.3f}')"
   ]
  },
  {
   "cell_type": "markdown",
   "metadata": {},
   "source": [
    "This value is slightly higher that the volatility of annual returns of the S&P500, but still within reasonable bounds."
   ]
  },
  {
   "cell_type": "markdown",
   "metadata": {},
   "source": [
    "## Tasks\n",
    "\n",
    "We are interested in simulating the wealth dynamics and compute the Gini coefficient using the same approach as we did in the lecture.\n",
    "\n",
    "1.  Simulate gross returns for 1,000,000 periods and compute the unconditional mean. Verify that this mean is close to the calibration target of 1.1.\n",
    "\n",
    "    *Hint:* Use the `simulate_ar1()` function for this purpose. This function is replicated in the module `workshop08_ex1.py` for convenience.\n",
    "    \n",
    "2.  Write a function `simulate_wealth()` to simulate the wealth trajectories of a panel of households who face AR(1) returns. The function signature should look\n",
    "    as follows:\n",
    "\n",
    "    ```python\n",
    "    def simulate_wealth(par: Parameters, a0, T, N, rng=None):\n",
    "        \"\"\"\n",
    "        Simulate the evolution of wealth when returns are stochastic.\n",
    "\n",
    "        Parameters\n",
    "        ----------\n",
    "        par : Parameters\n",
    "        a0 : float\n",
    "            Initial wealth.\n",
    "        T : int\n",
    "            Number of time periods to simulate.\n",
    "        N : int\n",
    "            Number of individuals to simulate.\n",
    "        rng : numpy.random.Generator, optional\n",
    "            A random number generator instance.\n",
    "\n",
    "        Returns\n",
    "        -------\n",
    "        a_sim : numpy.ndarray\n",
    "            A (T+1, N) array of simulated wealth paths.\n",
    "        \"\"\"\n",
    "    ```\n",
    "\n",
    "    Set the initial value of $\\log R_{i,t}$ to the unconditional mean $\\frac{\\mu_r}{1-\\rho_r}$ for all households.\n",
    "\n",
    "    *Hint:* Use the wealth simulation routine from the lecture as a template and make the necessary changes.\n",
    "\n",
    "3.  Using an initial wealth of $a_0 = 1$ for all households, simulate $N=20$ households for $T=100$ periods. \n",
    "    Plot the wealth trajectories for these households in a single graph and also include the average simulated wealth.\n",
    "\n",
    "4.  Simulate a larger panel of $N=1,000,000$ households for $T=200$ periods. Compute the cross-sectional mean and variance\n",
    "    of wealth for each period $t$ and plot these in a figure with two subplots (one for the mean, one for the variance).\n",
    "    \n",
    "    How do these plots compare to the scenarios (with IID and AR(1) income) discussed in the lecture?\n",
    "\n",
    "5.  From the previous plots you suspect that the Gini coefficient changes somewhat across periods.\n",
    "    Compute a cross-sectional Gini coefficients each of the last 100 periods of your simulation\n",
    "    and plot these Ginis as a time series. Add a horizontal line indicating the average Gini coefficient.\n",
    "\n",
    "    *Hint:* Use the `gini()` function from the `workshop08_ex1` module for this purpose."
   ]
  },
  {
   "cell_type": "code",
   "execution_count": 5,
   "metadata": {},
   "outputs": [],
   "source": [
    "# Enable automatic reloading of external modules\n",
    "%load_ext autoreload\n",
    "%autoreload 2"
   ]
  },
  {
   "cell_type": "markdown",
   "metadata": {},
   "source": [
    "***\n",
    "# Exercise 2: AR(1) vs Random Walk\n",
    "\n",
    "Recall the AR(1) process we studied in the lecture, defined as \n",
    "$$\n",
    "x_{i,t+1} = \\rho x_{i,t} + \\epsilon_{i,t+1}\\,, \\qquad \\epsilon_{t+1} \\stackrel{\\text{iid}}{\\sim} \\mathcal{N}\\left(0, \\sigma^2\\right)\n",
    "$$\n",
    "In the lecture, we restricted our attention to the stationary case with $\\rho \\in (-1, 1)$. With $\\rho = 1$, the above process is called a Random walk\n",
    "which is no longer stationary as its variance is linearly increasing in time.\n",
    "\n",
    "To demonstrate this, perform the following tasks:\n",
    "\n",
    "1. Write a function `simulate_panel()` which simulates a *panel* of individuals $i$ where each individual-specific realization $x_{i,t}$ follows the\n",
    "    stochastic process defined above. The function signature should look as follows:\n",
    "\n",
    "    ```python\n",
    "    def simulate_panel(rho, sigma, T, N, x0=0, rng=None):\n",
    "        \"\"\"\n",
    "        Simulates a panel of stochastic processes.\n",
    "\n",
    "        Parameters\n",
    "        ----------\n",
    "        rho : float\n",
    "            The autoregressive parameter.\n",
    "        sigma : float\n",
    "            The standard deviation of the noise term.\n",
    "        T : int\n",
    "            The number of time periods to simulate.\n",
    "        N : int\n",
    "            The number of individuals to simulate.\n",
    "        x0 : float, optional\n",
    "            The initial value of the process.\n",
    "        rng : Generator, optional\n",
    "            Random number generator to use.\n",
    "\n",
    "        Returns\n",
    "        -------\n",
    "        numpy.ndarray\n",
    "            A (T+1, N) array with the simulated values.\n",
    "        \"\"\"\n",
    "    ```\n",
    "2. Let $\\sigma=0.1$. Simulate the trajectories of a cross section of $N=100,000$ individuals for $T=300$ periods for two different scenarios:\n",
    "\n",
    "    1.  AR(1) with $\\rho = 0.9$;\n",
    "    2.  Random walk with $\\rho = 1$\n",
    "\n",
    "    Make sure to use the same seed for both simulations.\n",
    "\n",
    "\n",
    "3.  Create a figure with two subplots:\n",
    "\n",
    "    1.  The first subplot should contain two lines showing the average value of the simulated AR(1) and Random walk for each period $t$,\n",
    "        i.e., average across $N$ individuals for each $t$.\n",
    "    2.  The second subplot should contain two lines showing the variance of the simulated AR(1) and Random walk for each period $t$.\n",
    "\n",
    "4.  Repeat the previous exercise, but use $\\rho=0.99$ for the AR(1) instead. How does behavior of the cross-sectional mean and variance of the AR(1) change?"
   ]
  }
 ],
 "metadata": {
  "kernelspec": {
   "display_name": "FIE463",
   "language": "python",
   "name": "python3"
  },
  "language_info": {
   "codemirror_mode": {
    "name": "ipython",
    "version": 3
   },
   "file_extension": ".py",
   "mimetype": "text/x-python",
   "name": "python",
   "nbconvert_exporter": "python",
   "pygments_lexer": "ipython3",
   "version": "3.12.9"
  }
 },
 "nbformat": 4,
 "nbformat_minor": 2
}
