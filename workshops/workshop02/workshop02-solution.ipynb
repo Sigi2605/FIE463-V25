{
 "cells": [
  {
   "cell_type": "markdown",
   "metadata": {},
   "source": [
    "# Exercise 1: CRRA utility function\n",
    "\n",
    "The CRRA utility function (constant relative risk aversion) is the most widely used utility function in macroeconomics and finance. It is defined as \n",
    "$$\n",
    "u(c) = \\begin{cases}\n",
    "    \\frac{c^{1-\\gamma}}{1-\\gamma} & \\text{if } \\gamma \\neq 1 \\\\\n",
    "    \\log(c) & \\text{else}\n",
    "\\end{cases}\n",
    "$$\n",
    "where $c$ is consumption and $\\gamma$ is the (constant) risk-aversion parameter, and $\\log(\\bullet)$ denotes the natural logarithm.\n",
    "\n",
    "1. You want to evaluate the utility at $c = 2$ for various levels of $\\gamma$. \n",
    "    1. Define a list `gammas` with the values 0.5, 1, and 2.\n",
    "    2. Loop over all elements in `gammas` and evaluate the corresponding utility. Use an `if` statement to correctly handle the two cases from the above formula.\n",
    "\n",
    "        *Hint:* Import the `log` function from the `math` module to evaluate the natural logarithm:\n",
    "\n",
    "        ```python\n",
    "        from math import log\n",
    "        ```\n",
    "\n",
    "        *Hint:* To perform exponentiation, use the `**` operator (see the [list of operator](https://www.w3schools.com/python/python_operators.asp)).\n",
    "    3. Store the utility in a dictionary, using the values of $\\gamma$ as keys, and print the result.\n",
    "2. Can you solve the exercise using a single list comprehension to create the result dictionary?\n",
    "\n",
    "    *Hint:* You will need to use a conditional expression we covered in the lecture.\n"
   ]
  },
  {
   "cell_type": "markdown",
   "metadata": {},
   "source": [
    "### Solution"
   ]
  },
  {
   "cell_type": "markdown",
   "metadata": {},
   "source": [
    "#### Part (1)"
   ]
  },
  {
   "cell_type": "code",
   "execution_count": 1,
   "metadata": {},
   "outputs": [],
   "source": [
    "# Define list of gammas that should be considered\n",
    "gammas = [0.5, 1.0, 2.0]"
   ]
  },
  {
   "cell_type": "code",
   "execution_count": 2,
   "metadata": {},
   "outputs": [
    {
     "data": {
      "text/plain": [
       "{0.5: 2.8284271247461903, 1.0: 0.6931471805599453, 2.0: -0.5}"
      ]
     },
     "execution_count": 2,
     "metadata": {},
     "output_type": "execute_result"
    }
   ],
   "source": [
    "# Import log function from math module\n",
    "from math import log\n",
    "\n",
    "# Create empty dictionary to store gamma & utility values\n",
    "utils = {}\n",
    "\n",
    "# Consumption level at which to evaluate utility\n",
    "cons = 2.0\n",
    "\n",
    "for gamma in gammas:\n",
    "    if gamma == 1.0:\n",
    "        # Handle log case\n",
    "        u = log(cons)\n",
    "    else:\n",
    "        # Handle general CRRA case\n",
    "        u = cons**(1.0-gamma) / (1.0 - gamma)\n",
    "\n",
    "    # Store resulting utility level in dictionary\n",
    "    utils[gamma] = u\n",
    "\n",
    "# Print utility levels\n",
    "utils"
   ]
  },
  {
   "cell_type": "markdown",
   "metadata": {},
   "source": [
    "#### Part (2)\n",
    "\n",
    "It is possible to compress the entire loop into a single list comprehension. We need to use a conditional expression within the list comprehension to correctly handle the two CRRA cases."
   ]
  },
  {
   "cell_type": "code",
   "execution_count": 3,
   "metadata": {},
   "outputs": [],
   "source": [
    "# Compute utilities in a single list comprehension\n",
    "utils = {\n",
    "    gamma: log(cons) if gamma == 1.0 else cons**(1.0-gamma) / (1.0-gamma) \n",
    "    for gamma in gammas\n",
    "}"
   ]
  },
  {
   "cell_type": "code",
   "execution_count": 4,
   "metadata": {},
   "outputs": [
    {
     "data": {
      "text/plain": [
       "{0.5: 2.8284271247461903, 1.0: 0.6931471805599453, 2.0: -0.5}"
      ]
     },
     "execution_count": 4,
     "metadata": {},
     "output_type": "execute_result"
    }
   ],
   "source": [
    "# Print utility levels\n",
    "utils"
   ]
  },
  {
   "cell_type": "markdown",
   "metadata": {},
   "source": [
    "# Exercise 2: Maximizing quadratic utility"
   ]
  },
  {
   "cell_type": "markdown",
   "metadata": {},
   "source": [
    "Consider the following quadratic utility function\n",
    "$$\n",
    "u(c) = - A (c - B)^2 + C\n",
    "$$\n",
    "\n",
    "where $A > 0$, $B > 0$ and $C$ are parameters, and $c$ is the consumption level.\n",
    "\n",
    "In this exercise, you are asked to locate the consumption level which delivers the maximum utility.\n",
    "\n",
    "1. Find the maximum using a loop:\n",
    "    1. Create an array `cons` of 51 candidate consumption levels which are uniformly spaced on the interval $[0, 4]$.\n",
    "    2. Use the parameters $A = 1$, $B=2$, and $C=10$.\n",
    "    3. Loop through all candidate consumption levels, and compute the associated utility. If this utility is larger than \n",
    "      the previous maximum value `u_max`, update `u_max` and store the associated consumption level `cons_max`.\n",
    "    4. Print `u_max` and `cons_max` after the loop terminates.\n",
    "2. Repeat the exercise, but instead use vectorized operations from NumPy:\n",
    "    1. Compute and store the utility levels for *all* elements in `cons` at once (simply apply the formula to the whole array).\n",
    "    2. Locate the index of the maximum utility level using \n",
    "       [`np.argmax()`](https://numpy.org/doc/stable/reference/generated/numpy.argmax.html).\n",
    "    3. Use the index returned by `np.argmax()` to retrieve the maximum utility and the \n",
    "        corresponding consumption level, and print the results.\n",
    "\n"
   ]
  },
  {
   "cell_type": "markdown",
   "metadata": {},
   "source": [
    "### Solution"
   ]
  },
  {
   "cell_type": "markdown",
   "metadata": {},
   "source": [
    "#### Part (1)"
   ]
  },
  {
   "cell_type": "code",
   "execution_count": 5,
   "metadata": {},
   "outputs": [],
   "source": [
    "# Import NumPy\n",
    "import numpy as np \n",
    "\n",
    "# Candidate consumption levels\n",
    "cons = np.linspace(0.0, 4.0, 51)"
   ]
  },
  {
   "cell_type": "code",
   "execution_count": 6,
   "metadata": {},
   "outputs": [],
   "source": [
    "# Parameters\n",
    "A = 1.0\n",
    "B = 2.0\n",
    "C = 10.0"
   ]
  },
  {
   "cell_type": "code",
   "execution_count": 7,
   "metadata": {},
   "outputs": [
    {
     "name": "stdout",
     "output_type": "stream",
     "text": [
      "Utility is maximized at c=2.0 with u=10.0\n"
     ]
    }
   ],
   "source": [
    "# Initialize max. utility level at the lowest possible value\n",
    "u_max = -np.inf\n",
    "\n",
    "# Consumption level at which utility is maximized\n",
    "cons_max = None\n",
    "\n",
    "# Evaluate utility for each candidate consumption level, update maximum\n",
    "for c in cons:\n",
    "    u = - A * (c - B)**2.0 + C\n",
    "    if u > u_max:\n",
    "        # New maximum found, update values\n",
    "        u_max = u\n",
    "        cons_max = c\n",
    "\n",
    "# Print maximum and maximizer\n",
    "print(f'Utility is maximized at c={cons_max} with u={u_max}')"
   ]
  },
  {
   "cell_type": "markdown",
   "metadata": {},
   "source": [
    "#### Part (2)"
   ]
  },
  {
   "cell_type": "code",
   "execution_count": 8,
   "metadata": {},
   "outputs": [
    {
     "data": {
      "text/plain": [
       "array([ 6.    ,  6.3136,  6.6144,  6.9024,  7.1776,  7.44  ,  7.6896,\n",
       "        7.9264,  8.1504,  8.3616,  8.56  ,  8.7456,  8.9184,  9.0784,\n",
       "        9.2256,  9.36  ,  9.4816,  9.5904,  9.6864,  9.7696,  9.84  ,\n",
       "        9.8976,  9.9424,  9.9744,  9.9936, 10.    ,  9.9936,  9.9744,\n",
       "        9.9424,  9.8976,  9.84  ,  9.7696,  9.6864,  9.5904,  9.4816,\n",
       "        9.36  ,  9.2256,  9.0784,  8.9184,  8.7456,  8.56  ,  8.3616,\n",
       "        8.1504,  7.9264,  7.6896,  7.44  ,  7.1776,  6.9024,  6.6144,\n",
       "        6.3136,  6.    ])"
      ]
     },
     "execution_count": 8,
     "metadata": {},
     "output_type": "execute_result"
    }
   ],
   "source": [
    "# Evaluate all utilities at once using vectorized NumPy operations\n",
    "util = -A * (cons - B)**2.0 + C\n",
    "\n",
    "# Print utility levels\n",
    "util"
   ]
  },
  {
   "cell_type": "code",
   "execution_count": 9,
   "metadata": {},
   "outputs": [
    {
     "name": "stdout",
     "output_type": "stream",
     "text": [
      "Utility is maximized at c=2.0 with u=10.0\n"
     ]
    }
   ],
   "source": [
    "# Locate the index of the maximum\n",
    "imax = np.argmax(util)\n",
    "\n",
    "# Recover the utility and the consumption level at the maximum\n",
    "u_max = util[imax]\n",
    "cons_max = cons[imax]\n",
    "\n",
    "print(f'Utility is maximized at c={cons_max} with u={u_max}')"
   ]
  },
  {
   "cell_type": "markdown",
   "metadata": {},
   "source": [
    "# Exercise 3: Summing finite values\n",
    "\n",
    "In this exercise, we explore how to ignore non-finite array elements when computing sums,\n",
    "i.e., elements which are either NaN (\"Not a number\", represented by `np.nan`), $-\\infty$ (`-np.inf`) or $\\infty$ (`np.inf`).\n",
    "Such situations arise if data for some observations is missing and is then frequently encoded as `np.nan`.\n",
    "\n",
    "1. Create an array of 1001 elements which are uniformly spaced on the interval $[0, 10]$. \n",
    "   Set every second element to the value `np.nan`.\n",
    "\n",
    "   *Hint:* You can select and overwrite every second element using `start:stop:step`\n",
    "   array indexing.\n",
    "\n",
    "   Using [`np.sum()`](https://numpy.org/doc/stable/reference/generated/numpy.sum.html),\n",
    "   verify that the sum of this array is NaN.\n",
    "\n",
    "2. Write a loop that computes the sum of finite elements in this array. Check that an array element \n",
    "    is finite using the function \n",
    "    [`np.isfinite()`](https://numpy.org/doc/stable/reference/generated/numpy.isfinite.html)\n",
    "    and ignore non-finite elements.\n",
    "\n",
    "    Print the resulting sum of finite elements.\n",
    "\n",
    "3. Since this use case is quite common, NumPy implements the function\n",
    "    [`np.nansum()`](https://numpy.org/doc/stable/reference/generated/numpy.nansum.html)\n",
    "    which performs exactly this task for you. \n",
    "\n",
    "    Verify that `np.nansum()` gives the same result and benchmark it against\n",
    "    your loop-based implementation.\n",
    "\n",
    "    *Hint:* You'll need to use the `%%timeit` \n",
    "    [cell magic](https://ipython.readthedocs.io/en/stable/interactive/magics.html#magic-timeit)\n",
    "    (with two %)\n",
    "    if you want to benchmark all code contained in a cell."
   ]
  },
  {
   "cell_type": "markdown",
   "metadata": {},
   "source": [
    "### Solution"
   ]
  },
  {
   "cell_type": "markdown",
   "metadata": {},
   "source": [
    "#### Part (1)"
   ]
  },
  {
   "cell_type": "code",
   "execution_count": 10,
   "metadata": {},
   "outputs": [
    {
     "data": {
      "text/plain": [
       "array([0.  ,  nan, 0.02,  nan, 0.04,  nan, 0.06,  nan, 0.08,  nan])"
      ]
     },
     "execution_count": 10,
     "metadata": {},
     "output_type": "execute_result"
    }
   ],
   "source": [
    "import numpy as np\n",
    "\n",
    "# Create uniformly spaced data\n",
    "data = np.linspace(0, 10, 1001)\n",
    "\n",
    "# Set every second element to NaN\n",
    "data[1::2] = np.nan\n",
    "\n",
    "# Print first 10 elements to illustrate pattern\n",
    "data[:10]"
   ]
  },
  {
   "cell_type": "code",
   "execution_count": 11,
   "metadata": {},
   "outputs": [
    {
     "data": {
      "text/plain": [
       "np.float64(nan)"
      ]
     },
     "execution_count": 11,
     "metadata": {},
     "output_type": "execute_result"
    }
   ],
   "source": [
    "# Check that \"standard\" summation returns NaN\n",
    "np.sum(data)"
   ]
  },
  {
   "cell_type": "markdown",
   "metadata": {},
   "source": [
    "#### Part (2)"
   ]
  },
  {
   "cell_type": "markdown",
   "metadata": {},
   "source": [
    "To implement a loop summing all finite elements, we proceed as follows:"
   ]
  },
  {
   "cell_type": "code",
   "execution_count": 12,
   "metadata": {},
   "outputs": [
    {
     "name": "stdout",
     "output_type": "stream",
     "text": [
      "The sum of finite values is 2505.0000000000005\n"
     ]
    }
   ],
   "source": [
    "# Initialize sum to zero\n",
    "s = 0.0\n",
    "\n",
    "# Loop through elements and only add them if they are finite\n",
    "for x in data:\n",
    "    if np.isfinite(x):\n",
    "        # Add finite element\n",
    "        s += x\n",
    "\n",
    "print(f'The sum of finite values is {s}')"
   ]
  },
  {
   "cell_type": "markdown",
   "metadata": {},
   "source": [
    "#### Part (3)\n",
    "\n",
    "To benchmark the loop, we copy the code from above but remove the `print()` statement\n",
    "as we are not interested in benchmarking that part. Note that we need to use the \n",
    "`%%timeit` cell magic with *two* leading % to benchmark the entire cell, not just the first line."
   ]
  },
  {
   "cell_type": "code",
   "execution_count": 13,
   "metadata": {},
   "outputs": [
    {
     "name": "stdout",
     "output_type": "stream",
     "text": [
      "664 μs ± 1.66 μs per loop (mean ± std. dev. of 7 runs, 1,000 loops each)\n"
     ]
    }
   ],
   "source": [
    "%%timeit\n",
    "# Initialize sum to zero\n",
    "s = 0.0\n",
    "\n",
    "# Loop through elements and only add them if they are finite\n",
    "for x in data:\n",
    "    if np.isfinite(x):\n",
    "        # Add finite element\n",
    "        s += x"
   ]
  },
  {
   "cell_type": "markdown",
   "metadata": {},
   "source": [
    "We can compare this to NumPy's `np.nansum()` function:"
   ]
  },
  {
   "cell_type": "code",
   "execution_count": 14,
   "metadata": {},
   "outputs": [
    {
     "name": "stdout",
     "output_type": "stream",
     "text": [
      "8.11 μs ± 55.9 ns per loop (mean ± std. dev. of 7 runs, 100,000 loops each)\n"
     ]
    }
   ],
   "source": [
    "%timeit np.nansum(data)"
   ]
  },
  {
   "cell_type": "markdown",
   "metadata": {},
   "source": [
    "As you can see, `np.nansum()` is approximately 80 times faster (the exact value depends on your hardware and software)."
   ]
  },
  {
   "cell_type": "markdown",
   "metadata": {},
   "source": [
    "# Exercise 4: Approximating the sum of a geometric series\n",
    "\n",
    "Let $\\alpha \\in (-1,1)$. The sum of the\n",
    "geometric series $(1,\\alpha,\\alpha^2,\\dots)$ is given by\n",
    "$$\\sigma = \\sum_{i=0}^{\\infty} \\alpha^i = \\frac{1}{1-\\alpha}$$\n",
    "\n",
    "In this exercise, you are asked to approximate this sum using the first $N$ values of the sequence, i.e.,\n",
    "$$\n",
    "\\sigma \\approx s_N = \\sum_{i=0}^N \\alpha^i\n",
    "$$\n",
    "where $N$ is chosen to be sufficiently large.\n",
    "\n",
    "1. Assume that $\\alpha=0.9$. \n",
    "    Write a `while` loop to approximate the sum $\\sigma$ by computing $s_N$\n",
    "    for an increasing $N$.\n",
    "    Terminate the computation as soon as an additional increment $\\alpha^N$\n",
    "    is smaller than $10^{-10}$.\n",
    "    Compare your result to the exact value $\\sigma$.\n",
    "\n",
    "2. Now assume that $\\alpha = -0.9$. Adapt your previous solution so that it terminates when the \n",
    "    *absolute value* of the increment is less than $10^{-10}$.\n",
    "    Compare your result to the exact value $\\sigma$. \n",
    "\n",
    "    *Hint:* Use the built-in function `abs()` to compute the absolute value."
   ]
  },
  {
   "cell_type": "markdown",
   "metadata": {},
   "source": [
    "## Solution\n",
    "\n",
    "### Part (1)"
   ]
  },
  {
   "cell_type": "code",
   "execution_count": 15,
   "metadata": {},
   "outputs": [
    {
     "name": "stdout",
     "output_type": "stream",
     "text": [
      "Approximation: 9.9999999990\n",
      "Exact value:   10.0000000000\n",
      "Difference: 9.53034984e-10\n",
      "Number of iterations: 219\n"
     ]
    }
   ],
   "source": [
    "alpha = 0.9\n",
    "\n",
    "# True sum\n",
    "sigma = 1 / (1 - alpha)\n",
    "\n",
    "# Termination tolerance\n",
    "tol = 1e-10\n",
    "\n",
    "# Variable to store the running sum\n",
    "s_N = 0.0\n",
    "# Iteration counter\n",
    "N = 0\n",
    "\n",
    "while True:\n",
    "    # Increment to be added to sum\n",
    "    increment = alpha**N\n",
    "\n",
    "    # Check whether increment satisfies termination criterion\n",
    "    if increment < 1e-10:\n",
    "        break\n",
    "\n",
    "    # Increment sum and loop counter\n",
    "    s_N += increment\n",
    "    N += 1\n",
    "\n",
    "print(f'Approximation: {s_N:.10f}')\n",
    "print(f'Exact value:   {sigma:.10f}')\n",
    "print(f'Difference: {sigma-s_N:.8e}')\n",
    "print(f'Number of iterations: {N}')"
   ]
  },
  {
   "cell_type": "markdown",
   "metadata": {},
   "source": [
    "### Part (2)"
   ]
  },
  {
   "cell_type": "code",
   "execution_count": 16,
   "metadata": {},
   "outputs": [
    {
     "name": "stdout",
     "output_type": "stream",
     "text": [
      "Approximation: 0.5263157895\n",
      "Exact value:   0.5263157895\n",
      "Difference: -5.01603203e-11\n",
      "Number of iterations: 219\n"
     ]
    }
   ],
   "source": [
    "alpha = -0.9\n",
    "\n",
    "# True sum\n",
    "sigma = 1 / (1 - alpha)\n",
    "\n",
    "# Variable to store the running sum\n",
    "s_N = 0.0\n",
    "# Iteration counter\n",
    "N = 0\n",
    "\n",
    "while True:\n",
    "    # Increment to be added to sum\n",
    "    increment = alpha**N\n",
    "\n",
    "    # Check whether increment satisfies termination criterion\n",
    "    if abs(increment) < 1e-10:\n",
    "        break\n",
    "\n",
    "    # Increment sum and loop counter\n",
    "    s_N += increment\n",
    "    N += 1\n",
    "\n",
    "print(f'Approximation: {s_N:.10f}')\n",
    "print(f'Exact value:   {sigma:.10f}')\n",
    "print(f'Difference: {sigma-s_N:.8e}')\n",
    "print(f'Number of iterations: {N}')"
   ]
  }
 ],
 "metadata": {
  "kernelspec": {
   "display_name": "FIE463",
   "language": "python",
   "name": "python3"
  },
  "language_info": {
   "codemirror_mode": {
    "name": "ipython",
    "version": 3
   },
   "file_extension": ".py",
   "mimetype": "text/x-python",
   "name": "python",
   "nbconvert_exporter": "python",
   "pygments_lexer": "ipython3",
   "version": "3.12.8"
  }
 },
 "nbformat": 4,
 "nbformat_minor": 2
}
