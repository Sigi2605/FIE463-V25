{
 "cells": [
  {
   "cell_type": "markdown",
   "metadata": {},
   "source": [
    "# Exercise 1: Data cleaning\n",
    "\n",
    "Before doing actual data analysis, we usually first need to clean the data. \n",
    "This might involve steps such as dealing with missing values and encoding categorical variables as integers.\n",
    "\n",
    "Load the Titanic data set in `titanic.csv` and perform the following tasks:\n",
    "\n",
    "1. Report the number of observations with missing `Age`, for example using [`isna()`](https://pandas.pydata.org/docs/reference/api/pandas.isna.html).\n",
    "\n",
    "2. Compute the average age in the data set. Use the following approaches and compare your results:\n",
    "    1.  Use the [`mean()`](https://pandas.pydata.org/docs/reference/api/pandas.DataFrame.mean.html) method.\n",
    "    2.  Convert the `Age` column to a NumPy array using [`to_numpy()`](https://pandas.pydata.org/docs/reference/api/pandas.DataFrame.to_numpy.html). Experiment with NumPy's [`np.mean()`](https://numpy.org/doc/2.0/reference/generated/numpy.mean.html) and [`np.nanmean()`](https://numpy.org/doc/2.0/reference/generated/numpy.nanmean.html) to see if you obtain the same results.\n",
    "\n",
    "3. Replace the all missing ages with the mean age you computed above, rounded to the nearest integer. Convert this updated `Age` column to integer type using [`astype()`](https://pandas.pydata.org/docs/reference/api/pandas.DataFrame.astype.html).\n",
    "\n",
    "   Note that in \"real\" applications, replacing missing values with sample means is usually not a good idea. \n",
    "\n",
    "4. Generate a new column `Female` which takes on the value one if `Sex` is equal to `\"female\"` and zero otherwise. \n",
    "   This is called an _indicator_ or _dummy_ variable, and is preferrable to storing such categorical data as strings.\n",
    "   Delete the original column `Sex`.\n",
    "\n",
    "5. Save your cleaned data set as `titanic-clean.csv` using [`to_csv()`](https://pandas.pydata.org/docs/reference/api/pandas.DataFrame.to_csv.html) with `,` as the field separator.\n",
    "   Tell `to_csv()` to *not* write the `DataFrame` index to the CSV file as it's not needed in this example."
   ]
  },
  {
   "attachments": {},
   "cell_type": "markdown",
   "metadata": {},
   "source": [
    "***\n",
    "# Exercise 2: Daily returns of US stock market indices\n",
    "\n",
    "In this exercise, we examine how the three major US stock market indices performed last year using data from Yahoo! Finance."
   ]
  },
  {
   "attachments": {},
   "cell_type": "markdown",
   "metadata": {},
   "source": [
    "1. Use the [`yfinance`](https://pypi.org/project/yfinance/) library and its `download()` \n",
    "    function to obtain the time series of daily observations for the \n",
    "    [S&P 500](https://en.wikipedia.org/wiki/S%26P_500), the \n",
    "    [Dow Jones Industrial Average (DJIA)](https://en.wikipedia.org/wiki/Dow_Jones_Industrial_Average) \n",
    "    and the \n",
    "    [NASDAQ Composite](https://en.wikipedia.org/wiki/Nasdaq_Composite) \n",
    "    indices. \n",
    "    Restrict the sample to the period from 2024-01-01 to 2024-12-31\n",
    "    and keep only the closing price stored in column `Close`.\n",
    "\n",
    "    _Hint_: The corresponding ticker symbols are `^GSPC`, `^DJI`, `^IXIC`, respectively.\n",
    "\n",
    "2. Rename the DataFrame columns to `'SP500'`, `'Dow Jones'` and `'NASDAQ'` using the \n",
    "    [`rename()`](https://pandas.pydata.org/docs/reference/api/pandas.DataFrame.rename.html) \n",
    "    method.\n",
    "\n",
    "    *Hint:* `rename(columns=dict)` expects a dictionary as an argument which maps existing to new column names.\n",
    "\n",
    "3.  Plot the three time series (one for each index) in a single graph. Label all axes and make sure your graph contains a legend.\n",
    "\n",
    "    _Hint:_ You can directly use the [`DataFrame.plot()`](https://pandas.pydata.org/docs/reference/api/pandas.DataFrame.plot.html) \n",
    "    method implemented in `pandas`.\n",
    "\n",
    "4.  The graph you created in the previous sub-question is not well-suited to illustrate how each index developed in 2024 \n",
    "    since the indices are reported on vastly different scales (the S&P500 appears to be an almost flat line).\n",
    "\n",
    "    To get a better idea about how each index fared in 2024 relative to its value at the beginning of the year, normalize each index by its value on the first trading day in 2024 (which was 2024-01-02). Plot the resulting normalized indices.\n",
    "\n",
    "5.  For each index, compute the daily returns, i.e., the relative change vs. the previous closing price in percent.\n",
    "    Create a plot of the daily returns for all indices.\n",
    "\n",
    "    *Hint:* Use [`pct_change()`](https://pandas.pydata.org/docs/reference/api/pandas.DataFrame.pct_change.html) to compute the change \n",
    "    relative to the previous observation."
   ]
  }
 ],
 "metadata": {
  "kernelspec": {
   "display_name": "FIE463",
   "language": "python",
   "name": "python3"
  },
  "language_info": {
   "codemirror_mode": {
    "name": "ipython",
    "version": 3
   },
   "file_extension": ".py",
   "mimetype": "text/x-python",
   "name": "python",
   "nbconvert_exporter": "python",
   "pygments_lexer": "ipython3",
   "version": "3.12.9"
  },
  "orig_nbformat": 4
 },
 "nbformat": 4,
 "nbformat_minor": 2
}
