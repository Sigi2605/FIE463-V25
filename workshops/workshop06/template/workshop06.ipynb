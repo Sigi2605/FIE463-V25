{
 "cells": [
  {
   "cell_type": "markdown",
   "metadata": {},
   "source": [
    "\n",
    "# Exercise 1: Labor supply without capital\n",
    "\n",
    "Recall the consumption & labor choice problem studied in the lecture. \n",
    "In this exercise, we revisit this setting but assume that there is \n",
    "no capital in the economy.\n",
    "\n",
    "## Household problem\n",
    "\n",
    "Households choose $c$ and $h$ to maximize utility\n",
    "$$\n",
    "u(c,h) = \\frac{c^{1-\\gamma} - 1}{1-\\gamma} - \\psi \\frac{h^{1+1/\\theta}}{1+1/\\theta}\n",
    "$$\n",
    "subject to the budget constraint\n",
    "$$\n",
    "c = w \\cdot h + \\pi\n",
    "$$\n",
    "where $\\pi$ are firm profits which are distributed to all households equally.\n",
    "Since all households are identical, we assume that the economy is populated by a *single* representative household."
   ]
  },
  {
   "cell_type": "markdown",
   "metadata": {},
   "source": [
    "## Firm problem\n",
    "\n",
    "We assume that firms have the decreasing-returns-to-scale production function\n",
    "$$\n",
    "Y = z L^{1-\\alpha}\n",
    "$$\n",
    "where $z$ is productivity (TFP) and labor $L$ is the only input factor.\n",
    "Firms maximize profits $\\Pi$,\n",
    "$$\n",
    "\\max_L \\Pi = zL^{1-\\alpha} - wL\n",
    "$$\n",
    "which gives rise to the first-order condition\n",
    "$$\n",
    "\\frac{\\partial \\Pi}{\\partial L} = \n",
    "(1-\\alpha) z L^{-\\alpha} - w = 0\n",
    "$$\n",
    "We can solve for $L$ to obtain the firm's optimal labor demand for given $w$:\n",
    "<a id='ex1-labor-demand'></a>\n",
    "$$\n",
    "\\tag{1.1}\n",
    "L = \\left(\\frac{(1-\\alpha) z}{w}\\right)^{\\frac{1}{\\alpha}}\n",
    "$$\n",
    "For simplicity, we assume there is a *single* firm which takes wages\n",
    "and the price of output as given, where the latter is normalized to one."
   ]
  },
  {
   "cell_type": "markdown",
   "metadata": {},
   "source": [
    "## Equilibrium\n",
    "\n",
    "The general equilibrium in this economy is a set of quantities $(L,Y,\\Pi,c,h,\\pi)$ and the wage rate $w$ \n",
    "which solve the household's and firm's problem, and the following conditions are satisfied:\n",
    "\n",
    "- Labor market: $L = h$ (hours $h$ supplied by households equal labor $L$ demanded by firms).\n",
    "- Goods market: $Y = c$ (the amount of goods $c$ consumed by households equals aggregate output).\n",
    "- Profits: $\\Pi = \\pi$ (profits distributed by firms equal profits received by households).\n"
   ]
  },
  {
   "cell_type": "markdown",
   "metadata": {},
   "source": [
    "## Analytical solution\n",
    "\n",
    "By combining the household and firm first-order conditions, the \n",
    "problem can be reduced to a single equation in a single unknown, $L$ (or $h$):\n",
    "<a id='ex1-exact-labor'></a>\n",
    "$$\n",
    "\\tag{1.2}\n",
    "h = L = \\left(\\frac{(1-\\alpha) z^{1-\\gamma}}{\\psi} \\right)^{\\frac{1}{1/\\theta + \\alpha + \\gamma(1-\\alpha)}}\n",
    "$$\n",
    "We will use this expression later to compare the numerical to this exact solution."
   ]
  },
  {
   "cell_type": "markdown",
   "metadata": {},
   "source": [
    "## Numerical solution\n",
    "\n",
    "In the following, you are asked to adapt the code from the lecture to solve this problem.\n",
    "You should use the template file [`workshop06_ex1.py`](`workshop06_ex1.py`)\n",
    "provided for this exercise to implement your solution.\n",
    "\n",
    "1. Adapt the `Parameters` data class \n",
    "\n",
    "    ```python\n",
    "    @dataclass\n",
    "    class Parameters:\n",
    "        pass\n",
    "    ```\n",
    "\n",
    "    so that it contains the following parameters as attributes:\n",
    "    $\\alpha = 0.36$, $z = 1$, $\\gamma = 2$, $\\psi = 1$, $\\theta = 0.5$.\n",
    "\n",
    "2. Write the function `solve_hh(w, pi, par)` to solve the household problem\n",
    "   for a given $w$ and $\\pi$. This function should return the household\n",
    "   choices, in particular the **labor supply $h$**.\n",
    "\n",
    "   Use the utility function `util(c, h, par)` defined in the template file \n",
    "   for this purpose (this is the same function we used in the lecture).\n",
    "\n",
    "3. Write the function `solve_firm(w, par)` which returns the firm's **labor\n",
    "    demand $L$** given by [(1.1)](#ex1-labor-demand), \n",
    "    output $Y$, and profits $\\Pi$ for a given wage $w$.\n",
    "\n",
    "4. Write the function `compute_labor_ex_demand(w, par)` which returns\n",
    "   the **excess labor demand** for a given wage $w$.\n",
    "\n",
    "5. Write the function `compute_equilibrium(par)` which uses a root-finder \n",
    "    to locate the equilibrium, computes the equilibrium\n",
    "    quantities $(L,Y,\\Pi,c,h,\\pi)$ and prices $(w, r)$ and stores these\n",
    "    using an instance of the `Equilibrium` data class defined in\n",
    "    [`workshop06_ex1.py`](workshop06_ex1.py).\n",
    "\n",
    "6.  Compute the equilibrium using the function you just implemented \n",
    "    and print the quantities and prices using \n",
    "    `print_equilibrium()` implemented in [`workshop06_ex1.py`](workshop06_ex1.py)\n",
    "    (you don't need to write this function yourself).\n",
    "\n",
    "7.  Compare your numerical solution to the analytical solution for the equilibrium $L$ returned by\n",
    "    `compute_analytical_solution()` implemented in [`workshop06_ex1.py`](workshop06_ex1.py)."
   ]
  },
  {
   "cell_type": "markdown",
   "metadata": {},
   "source": [
    "*Note:* Include the following cell magic to automatically reload any changes you make to the template file:"
   ]
  },
  {
   "cell_type": "code",
   "execution_count": 1,
   "metadata": {},
   "outputs": [],
   "source": [
    "%load_ext autoreload\n",
    "%autoreload 2"
   ]
  },
  {
   "cell_type": "markdown",
   "metadata": {},
   "source": [
    "***\n",
    "# Exercise 2: Unequal distribution of profits\n",
    "\n",
    "We now extend the setting from Exercise 1 and assume that a fraction of households solely live on their labor income (type 1),\n",
    "while profits are only distributed to a subset of households (type 2). We can think of these households as workers and entrepreneurs, respectively.\n",
    "We assume the economy is populated by $N_1$ households of type 1 and $N_2$ households of type 2.\n",
    "\n",
    "## Household problem\n",
    "\n",
    "All households have identical preferences which are unchanged from the previous exercise, but their budget constraints differ. For type-1 households, it is given by \n",
    "$$\n",
    "c_1 = w \\cdot h_1\n",
    "$$\n",
    "whereas for type-2 households it's\n",
    "$$\n",
    "c_2 = w \\cdot h_2 + \\pi_2\n",
    "$$\n",
    "The subscripts in $c_1$, $c_2$, $h_1$, $h_2$, and $\\pi_2$ index the household type since different households will\n",
    "choose different levels of consumption and labor supply."
   ]
  },
  {
   "cell_type": "markdown",
   "metadata": {},
   "source": [
    "## Firm problem\n",
    "\n",
    "The firm problem remains unchanged from the previous exercise. For convenience, we repeat the central equations:\n",
    "$$\n",
    "\\begin{aligned}\n",
    "\\text{Labor demand: } && L &= \\left(\\frac{(1-\\alpha) z}{w}\\right)^{\\frac{1}{\\alpha}}  \\\\\n",
    "\\text{Output: } && Y &= z L^{1-\\alpha}  \\\\\n",
    "\\text{Profits: } && \\Pi &= zL^{1-\\alpha} - wL \n",
    "\\end{aligned}\n",
    "$$\n"
   ]
  },
  {
   "cell_type": "markdown",
   "metadata": {},
   "source": [
    "## Equilibrium\n",
    "\n",
    "The general equilibrium in this economy is a set of quantities $(L,Y,\\Pi,c_1,c_2,h_1,h_2,\\pi_2)$ and the wage rate $w$ \n",
    "which solve the household's and firm's problem, and the following conditions are satisfied:\n",
    "\n",
    "- Labor market clearing: $L = N_1 h_1 + N_2 h_2$ (hours supplied by households equal labor $L$ demanded by firms).\n",
    "- Goods market clearing: $Y = N_1 c_1 + N_2 h_2$ (the amount of goods consumed by households equals aggregate output).\n",
    "- Profits: $\\Pi = N_2 \\pi_2$ (profits distributed by firms equal profits received by type-2 households)."
   ]
  },
  {
   "cell_type": "markdown",
   "metadata": {},
   "source": [
    "## Numerical solution"
   ]
  },
  {
   "cell_type": "markdown",
   "metadata": {},
   "source": [
    "In the following, you are asked to adapt the code you wrote for exercise 1 to solve the modified problem.\n",
    "The new solution only requires changes at a few selected points to take into account the unequal distribution of profits.\n",
    "You should use the template file [`workshop06_ex2.py`](workshop06_ex2.py) provided for this exercise.\n",
    "\n",
    "1.  Adapt the `Parameters` class to include the two new parameters `N1` and `N2` which represent the \n",
    "    number of type-1 and type-2 households, respectively.\n",
    "    Set $N_1 = 5$ and $N_2 = 5$.\n",
    "\n",
    "    For the remaining parameters, use the same values as in exercise 1.\n",
    "\n",
    "2.  Write the function `compute_labor_ex_demand(w, par)` which returns the excess labor demand for given $w$.\n",
    "    Use the function `solve_hh()` and `solve_firm()` you wrote for exercise 1 to solve this task.\n",
    "\n",
    "    *Hint:* Don't copy the implementations for `solve_hh()` and `solve_firm()` but \n",
    "    directly import them from the module which contains the solution for exercise 1:\n",
    "\n",
    "    ```python\n",
    "    from workshop01_ex1 import solve_firm, solve_hh\n",
    "    ```\n",
    "\n",
    "3.  Write the function `compute_equilibrium(par)` which uses a root-finder \n",
    "    to locate the equilibrium, computes the equilibrium\n",
    "    quantities $(L,Y,\\Pi,c_1,h_1,c_2,h_2,\\pi_2)$ and the wage rate $w$, and stores these\n",
    "    using an instance of the `Equilibrium` data class defined in [`workshop06_ex2.py`](workshop06_ex2.py).\n",
    "\n",
    "4.  Compute the equilibrium using the function you just implemented \n",
    "    and print the quantities and prices using \n",
    "    `print_equilibrium()` defined in [`workshop06_ex2.py`](workshop06_ex2.py).\n",
    "\n",
    "    How does the unequal distribution of profits affect consumption and labor supply of \n",
    "    type-1 vs type-2 households?\n",
    "\n",
    "5.  You are interested to see if and how the allocation and prices in the economy change as we vary the number of type-1 and type-2 households.\n",
    "    Assume that there are a total of $N = N_1 + N_2 = 10$ households in the economy\n",
    "    \n",
    "    -   Using the function `compute_equilibrium()` you wrote earlier, compute the equilibrium when $N_1$ takes on the integer values from $0,\\dots,9$\n",
    "        and $N_2 = N - N_1$.\n",
    "\n",
    "    -   Create a graph with four panels ($2 \\times 2$) which shows the aggregates $Y$, $L$, $\\Pi$, and $w$ as a function of $N_1$.\n",
    "\n",
    "    -   Create a graph with three columns which shows $(c_1, c_2)$ in the first, $(h_1, h_2)$ in the second, and $\\pi_2$ in the third column.\n",
    "        Use different colors and line styles to distinguish household types and include a legend.\n",
    "\n",
    "        What do you conclude about the effects of inequality on the equilibrium allocation and prices?"
   ]
  },
  {
   "cell_type": "markdown",
   "metadata": {},
   "source": [
    "## Bonus: using analytical results and root-finding\n",
    "\n",
    "Unlike the previous exercise, this economy no longer has a closed-form solution for the equilibrium quantities. \n",
    "From the households' first-order conditions, we can derive that the equilibrium is characterized by the two non-linear equations\n",
    "$$\n",
    "\\begin{aligned}\n",
    "(w h_1)^{-\\gamma} &= \\psi \\frac{h_1^{1/\\theta}}{w} \\\\\n",
    "(w h_1 + \\pi_2)^{-\\gamma} &= \\psi \\frac{h_2^{1/\\theta}}{w}\n",
    "\\end{aligned}\n",
    "$$\n",
    "Note that $w$ and $\\pi_2 = \\frac{\\Pi}{N_2}$ itself are functions of $(h_1, h_2)$ via the labor market clearing $L = N_1 h_1 + N_2 h_2$:\n",
    "$$\n",
    "\\begin{aligned}\n",
    "w &= (1-\\alpha) z L^{-\\alpha} = (1-\\alpha) z \\bigl(N_1 h_1 + N_2 h_2 \\bigr)^{-\\alpha} \\\\\n",
    "\\Pi &= \\alpha z L^{1-\\alpha} = \\alpha z \\bigl(N_1 h_1 + N_2 h_2 \\bigr)^{1-\\alpha} \n",
    "\\end{aligned}\n",
    "$$\n",
    "We can substitute these two equations into the non-linear equation system above and numerically find a solution $(h_1, h_2)$ that satisfies these conditions.\n",
    "\n",
    "1. Use the multivariate root-finder\n",
    "    [`root()`](https://docs.scipy.org/doc/scipy/reference/generated/scipy.optimize.root.html)\n",
    "    from `scipy.optimize`\n",
    "    with `method='hybr'` to solve the above equation system. \n",
    "    \n",
    "    To do this, you need to write a function\n",
    "    which takes as argument a vector `x` which contains the values $(h_1, h_2)$, and return the \n",
    "    errors in the two first-order conditions, i.e., a vector that contains the left-hand \n",
    "    minus the right-hand side for each of the two equations.\n",
    "\n",
    "2.  Make sure the results obtained from this approach are the same as in the main exercise."
   ]
  },
  {
   "cell_type": "markdown",
   "metadata": {},
   "source": [
    "*Note:* Include the following cell magic to automatically reload any changes you make to the template file:"
   ]
  },
  {
   "cell_type": "code",
   "execution_count": null,
   "metadata": {},
   "outputs": [],
   "source": [
    "%load_ext autoreload\n",
    "%autoreload 2"
   ]
  }
 ],
 "metadata": {
  "kernelspec": {
   "display_name": "FIE463",
   "language": "python",
   "name": "python3"
  },
  "language_info": {
   "codemirror_mode": {
    "name": "ipython",
    "version": 3
   },
   "file_extension": ".py",
   "mimetype": "text/x-python",
   "name": "python",
   "nbconvert_exporter": "python",
   "pygments_lexer": "ipython3",
   "version": "3.12.8"
  }
 },
 "nbformat": 4,
 "nbformat_minor": 2
}
