{
 "cells": [
  {
   "cell_type": "markdown",
   "metadata": {},
   "source": [
    "\n",
    "# Exercise 1: Labor supply without capital\n",
    "\n",
    "Recall the consumption & labor choice problem studied in the lecture. \n",
    "In this exercise, we revisit this setting but assume that there is \n",
    "no capital in the economy.\n",
    "\n",
    "## Household problem\n",
    "\n",
    "Households choose $c$ and $h$ to maximize utility\n",
    "$$\n",
    "u(c,h) = \\frac{c^{1-\\gamma} - 1}{1-\\gamma} - \\psi \\frac{h^{1+1/\\theta}}{1+1/\\theta}\n",
    "$$\n",
    "subject to the budget constraint\n",
    "$$\n",
    "c = w \\cdot h + \\pi\n",
    "$$\n",
    "where $\\pi$ are firm profits which are distributed to all households equally.\n",
    "Since all households are identical, we assume that the economy is populated by a *single* representative household."
   ]
  },
  {
   "cell_type": "markdown",
   "metadata": {},
   "source": [
    "## Firm problem\n",
    "\n",
    "We assume that firms have the decreasing-returns-to-scale production function\n",
    "$$\n",
    "Y = z L^{1-\\alpha}\n",
    "$$\n",
    "where $z$ is productivity (TFP) and labor $L$ is the only input factor.\n",
    "Firms maximize profits $\\Pi$,\n",
    "$$\n",
    "\\max_L \\Pi = zL^{1-\\alpha} - wL\n",
    "$$\n",
    "which gives rise to the first-order condition\n",
    "$$\n",
    "\\frac{\\partial \\Pi}{\\partial L} = \n",
    "(1-\\alpha) z L^{-\\alpha} - w = 0\n",
    "$$\n",
    "We can solve for $L$ to obtain the firm's optimal labor demand for given $w$:\n",
    "<a id='ex1-labor-demand'></a>\n",
    "$$\n",
    "\\tag{1.1}\n",
    "L = \\left(\\frac{(1-\\alpha) z}{w}\\right)^{\\frac{1}{\\alpha}}\n",
    "$$\n",
    "For simplicity, we assume there is a *single* firm which takes wages\n",
    "and the price of output as given, where the latter is normalized to one."
   ]
  },
  {
   "cell_type": "markdown",
   "metadata": {},
   "source": [
    "## Equilibrium\n",
    "\n",
    "The general equilibrium in this economy is a set of quantities $(L,Y,\\Pi,c,h,\\pi)$ and the wage rate $w$ \n",
    "which solve the household's and firm's problem, and the following conditions are satisfied:\n",
    "\n",
    "- Labor market: $L = h$ (hours $h$ supplied by households equal labor $L$ demanded by firms).\n",
    "- Goods market: $Y = c$ (the amount of goods $c$ consumed by households equals aggregate output).\n",
    "- Profits: $\\Pi = \\pi$ (profits distributed by firms equal profits received by households).\n"
   ]
  },
  {
   "cell_type": "markdown",
   "metadata": {},
   "source": [
    "## Analytical solution\n",
    "\n",
    "By combining the household and firm first-order conditions, the \n",
    "problem can be reduced to a single equation in a single unknown, $L$ (or $h$):\n",
    "<a id='ex1-exact-labor'></a>\n",
    "$$\n",
    "\\tag{1.2}\n",
    "h = L = \\left(\\frac{(1-\\alpha) z^{1-\\gamma}}{\\psi} \\right)^{\\frac{1}{1/\\theta + \\alpha + \\gamma(1-\\alpha)}}\n",
    "$$\n",
    "We will use this expression later to compare the numerical to this exact solution."
   ]
  },
  {
   "cell_type": "markdown",
   "metadata": {},
   "source": [
    "## Numerical solution\n",
    "\n",
    "In the following, you are asked to adapt the code from the lecture to solve this problem.\n",
    "You should use the template file [`workshop06_ex1.py`](`workshop06_ex1.py`)\n",
    "provided for this exercise to implement your solution.\n",
    "\n",
    "1. Adapt the `Parameters` data class \n",
    "\n",
    "    ```python\n",
    "    @dataclass\n",
    "    class Parameters:\n",
    "        pass\n",
    "    ```\n",
    "\n",
    "    so that it contains the following parameters as attributes:\n",
    "    $\\alpha = 0.36$, $z = 1$, $\\gamma = 2$, $\\psi = 1$, $\\theta = 0.5$.\n",
    "\n",
    "2. Write the function `solve_hh(w, pi, par)` to solve the household problem\n",
    "   for a given $w$ and $\\pi$. This function should return the household\n",
    "   choices, in particular the **labor supply $h$**.\n",
    "\n",
    "   Use the utility function `util(c, h, par)` defined in the template file \n",
    "   for this purpose (this is the same function we used in the lecture).\n",
    "\n",
    "3. Write the function `solve_firm(w, par)` which returns the firm's **labor\n",
    "    demand $L$** given by [(1.1)](#ex1-labor-demand), \n",
    "    output $Y$, and profits $\\Pi$ for a given wage $w$.\n",
    "\n",
    "4. Write the function `compute_labor_ex_demand(w, par)` which returns\n",
    "   the **excess labor demand** for a given wage $w$.\n",
    "\n",
    "5. Write the function `compute_equilibrium(par)` which uses a root-finder \n",
    "    to locate the equilibrium, computes the equilibrium\n",
    "    quantities $(L,Y,\\Pi,c,h,\\pi)$ and prices $(w, r)$ and stores these\n",
    "    using an instance of the `Equilibrium` data class defined in\n",
    "    [`workshop06_ex1.py`](workshop06_ex1.py).\n",
    "\n",
    "6.  Compute the equilibrium using the function you just implemented \n",
    "    and print the quantities and prices using \n",
    "    `print_equilibrium()` implemented in [`workshop06_ex1.py`](workshop06_ex1.py)\n",
    "    (you don't need to write this function yourself).\n",
    "\n",
    "7.  Compare your numerical solution to the analytical solution for the equilibrium $L$ returned by\n",
    "    `compute_analytical_solution()` implemented in [`workshop06_ex1.py`](workshop06_ex1.py)."
   ]
  },
  {
   "cell_type": "markdown",
   "metadata": {},
   "source": [
    "*Note:* Include the following cell magic to automatically reload any changes you make to the template file:"
   ]
  },
  {
   "cell_type": "code",
   "execution_count": 1,
   "metadata": {},
   "outputs": [],
   "source": [
    "%load_ext autoreload\n",
    "%autoreload 2"
   ]
  },
  {
   "cell_type": "markdown",
   "metadata": {},
   "source": [
    "## Solution\n",
    "\n",
    "The complete solution is provided in the file `workshop06_ex1.py`. In what follows, some of the code blocks from that file are replicated below to discuss the solution."
   ]
  },
  {
   "cell_type": "markdown",
   "metadata": {},
   "source": [
    "### Part (1)\n",
    "\n",
    "The definition of the `Parameters` class is almost identical to the lecture:"
   ]
  },
  {
   "cell_type": "code",
   "execution_count": 2,
   "metadata": {},
   "outputs": [],
   "source": [
    "from dataclasses import dataclass\n",
    "\n",
    "@dataclass\n",
    "class Parameters:\n",
    "    \"\"\"\n",
    "    Container to store the problem's parameters.\n",
    "    \"\"\"\n",
    "    alpha: float = 0.36     # Capital share in production function\n",
    "    z: float = 1.0          # TFP \n",
    "    gamma: float = 2.0      # RRA in utility\n",
    "    psi: float = 1.0        # Weight on disutility of working\n",
    "    theta: float = 0.5      # Frisch elasticity of labor supply"
   ]
  },
  {
   "cell_type": "markdown",
   "metadata": {},
   "source": [
    "### Part (2)"
   ]
  },
  {
   "cell_type": "markdown",
   "metadata": {},
   "source": [
    "The function to solve the household problem has to be adapted from the lecture to take into account the new budget constraint."
   ]
  },
  {
   "cell_type": "code",
   "execution_count": 3,
   "metadata": {},
   "outputs": [],
   "source": [
    "from scipy.optimize import minimize\n",
    "# Import the utility function implementation from the solution file\n",
    "from workshop06_ex1 import util\n",
    "\n",
    "def solve_hh(w, pi, par: Parameters):\n",
    "    \"\"\"\n",
    "    Solve household problem for given prices and parameters.\n",
    "\n",
    "    Parameters\n",
    "    ----------\n",
    "    w : float\n",
    "        Wage rate\n",
    "    pi : float\n",
    "        Firm profits distributed to households\n",
    "    par : Parameters\n",
    "        Parameter instance\n",
    "\n",
    "    Returns\n",
    "    -------\n",
    "    c_opt : float\n",
    "        Optimal consumption\n",
    "    h_opt : float \n",
    "        Optimal labor supply\n",
    "    \"\"\"\n",
    "\n",
    "    # Initial guess for h\n",
    "    h_guess = 0.5\n",
    "\n",
    "    res = minimize(\n",
    "        lambda h: -util(w * h + pi, h, par),\n",
    "        x0=h_guess,\n",
    "        method='L-BFGS-B',\n",
    "        bounds=((0, None), )\n",
    "    )\n",
    "\n",
    "    if not res.success:\n",
    "        # Print diagnostic error message if minimizer had problems\n",
    "        print('Minimizer did not terminate successfully')\n",
    "        print(res.message)\n",
    "        print(f'  Arguments: w={w}, pi={pi}')\n",
    "\n",
    "    # Store optimal hours choice\n",
    "    h_opt = res.x[0]\n",
    "    # Optimal consumption follows from budget constraint\n",
    "    c_opt = w * h_opt + pi\n",
    "\n",
    "    return c_opt, h_opt"
   ]
  },
  {
   "cell_type": "markdown",
   "metadata": {},
   "source": [
    "### Part (3)\n",
    "\n",
    "The function `solve_firm()` has to be adapted to reflect the fact that labor is now the only production factor:"
   ]
  },
  {
   "cell_type": "code",
   "execution_count": 4,
   "metadata": {},
   "outputs": [],
   "source": [
    "def solve_firm(w, par: Parameters):\n",
    "    \"\"\"\n",
    "    Compute labor demand and profits implied by firm's first-order condition \n",
    "    for given prices w.\n",
    "\n",
    "    Parameters\n",
    "    ----------\n",
    "    w : float\n",
    "        Wage rate\n",
    "    par : Parameters\n",
    "        Parameter instance\n",
    "\n",
    "    Returns\n",
    "    -------\n",
    "    L : float\n",
    "        Labor demand\n",
    "    Y : float\n",
    "        Output\n",
    "    Pi : float\n",
    "        Profits\n",
    "    \"\"\"\n",
    "\n",
    "    # Labor demand\n",
    "    L = ((1-par.alpha) * par.z / w)**(1/par.alpha)\n",
    "\n",
    "    # Output\n",
    "    Y = par.z * L**(1-par.alpha)\n",
    "\n",
    "    # Profits\n",
    "    Pi = Y - w * L\n",
    "\n",
    "    return L, Y, Pi"
   ]
  },
  {
   "cell_type": "markdown",
   "metadata": {},
   "source": [
    "### Part (4)\n",
    "\n",
    "The function `compute_labor_ex_demand()` calls the functions defined above to solve the household and firm problems, and computes the excess demand for labor as the difference between the firm's demand and the household's labor supply."
   ]
  },
  {
   "cell_type": "code",
   "execution_count": 5,
   "metadata": {},
   "outputs": [],
   "source": [
    "def compute_labor_ex_demand(w, par: Parameters):\n",
    "    \"\"\"\n",
    "    Compute excess demand for labor.\n",
    "\n",
    "    Parameters\n",
    "    ----------\n",
    "    w : float\n",
    "        Wage rate\n",
    "    par : Parameters\n",
    "        Parameter instance\n",
    "\n",
    "    Returns\n",
    "    -------\n",
    "    ex_demand : float\n",
    "        Excess demand for labor\n",
    "    \"\"\"\n",
    "\n",
    "    # Wage and profits implied by firm's first-order condition\n",
    "    L, Y, Pi = solve_firm(w, par)    \n",
    "\n",
    "    # Optimal household choices for given prices\n",
    "    c_opt, h_opt = solve_hh(w, Pi, par)\n",
    "\n",
    "    # Excess demand for labor\n",
    "    ex_demand = L - h_opt\n",
    "\n",
    "    return ex_demand"
   ]
  },
  {
   "cell_type": "markdown",
   "metadata": {},
   "source": [
    "### Part (5)\n",
    "\n",
    "Lastly, the following function calls the scalar root-finder with an \n",
    "initial bracket to locate the equilibrium wage.\n",
    "\n",
    "The equilibrium quantities and prices are stored in the `Equilibrium` data class\n",
    "defined as follows:"
   ]
  },
  {
   "cell_type": "code",
   "execution_count": 6,
   "metadata": {},
   "outputs": [],
   "source": [
    "@dataclass\n",
    "class Equilibrium:\n",
    "    \"\"\"\n",
    "    Container to store equilibrium allocations and prices.\n",
    "    \"\"\"\n",
    "    par: Parameters = None\n",
    "    c: float = None\n",
    "    h: float = None\n",
    "    w: float = None\n",
    "    L: float = None\n",
    "    Y: float = None\n",
    "    Pi: float = None"
   ]
  },
  {
   "cell_type": "code",
   "execution_count": 7,
   "metadata": {},
   "outputs": [],
   "source": [
    "from scipy.optimize import root_scalar\n",
    "\n",
    "def compute_equilibrium(par):\n",
    "    \"\"\"\n",
    "    Compute the equilibrium for given parameters.\n",
    "\n",
    "    Parameters\n",
    "    ----------\n",
    "    par : Parameters\n",
    "        Parameter instance\n",
    "\n",
    "    Returns\n",
    "    -------\n",
    "    eq : Equilibrium\n",
    "        Equilibrium instance containing equilibrium values\n",
    "    \"\"\"\n",
    "\n",
    "    # Define initial bracket for root finder\n",
    "    bracket = (1.0e-3, 5)\n",
    "\n",
    "    res = root_scalar(\n",
    "        compute_labor_ex_demand, bracket=bracket, args=(par, )\n",
    "    )\n",
    "\n",
    "    if not res.converged:\n",
    "        print('Equilibrium root-finder did not terminated successfully')\n",
    "\n",
    "    # Create instance of equilibrium class\n",
    "    eq = Equilibrium(par=par, w=res.root)\n",
    "\n",
    "    # Equilibrium wage, output and profits\n",
    "    eq.L, eq.Y, eq.Pi = solve_firm(eq.w, par)\n",
    "\n",
    "    # Equilibrium household choices\n",
    "    eq.c, eq.h = solve_hh(eq.w, eq.Pi, par)\n",
    "\n",
    "    return eq"
   ]
  },
  {
   "cell_type": "markdown",
   "metadata": {},
   "source": [
    "### Part (6)\n",
    "\n",
    "We can now initialize a `Parameters` object, call `compute_equilibrium()` and print the results. We use the `print_equilibrium()` function defined in \n",
    "[`workshop06_ex1.py`](workshop06_ex1.py) to perform the latter task."
   ]
  },
  {
   "cell_type": "code",
   "execution_count": 8,
   "metadata": {},
   "outputs": [
    {
     "name": "stdout",
     "output_type": "stream",
     "text": [
      "Equilibrium:\n",
      "  Households:\n",
      "    c = 0.92453\n",
      "    h = 0.88461\n",
      "  Firms:\n",
      "    Y = 0.92453\n",
      "    L = 0.88461\n",
      "    Pi = 0.33283\n",
      "  Prices:\n",
      "    w = 0.66888\n",
      "  Market clearing:\n",
      "    Labor market: -7.30551e-10\n",
      "    Goods market: 4.88652e-10\n"
     ]
    }
   ],
   "source": [
    "from workshop06_ex1 import print_equilibrium\n",
    "\n",
    "# Get instance of default parameter values\n",
    "par = Parameters()\n",
    "\n",
    "# Solve for equilibrium\n",
    "eq = compute_equilibrium(par)\n",
    "\n",
    "# Print equilibrium quantities and prices\n",
    "print_equilibrium(eq)"
   ]
  },
  {
   "cell_type": "markdown",
   "metadata": {},
   "source": [
    "### Part (7)\n",
    "\n",
    "Finally, the module `workshop06_ex1.py` also contains a function to compute the analytical solution. We can use it to verify that the numerical solution is correct."
   ]
  },
  {
   "cell_type": "code",
   "execution_count": 9,
   "metadata": {},
   "outputs": [
    {
     "name": "stdout",
     "output_type": "stream",
     "text": [
      "Analytical solution: h = L = 0.88461\n"
     ]
    }
   ],
   "source": [
    "from workshop06_ex1 import compute_analytical_solution\n",
    "\n",
    "# Compare to analytical solution\n",
    "L = compute_analytical_solution(par)\n",
    "print(f'Analytical solution: h = L = {L:.5f}')"
   ]
  },
  {
   "cell_type": "markdown",
   "metadata": {},
   "source": [
    "As you can see, the analytical solution is basically identical to the numerical one."
   ]
  },
  {
   "cell_type": "markdown",
   "metadata": {},
   "source": [
    "***\n",
    "# Exercise 2: Unequal distribution of profits\n",
    "\n",
    "We now extend the setting from Exercise 1 and assume that a fraction of households solely live on their labor income (type 1),\n",
    "while profits are only distributed to a subset of households (type 2). We can think of these households as workers and entrepreneurs, respectively.\n",
    "We assume the economy is populated by $N_1$ households of type 1 and $N_2$ households of type 2.\n",
    "\n",
    "## Household problem\n",
    "\n",
    "All households have identical preferences which are unchanged from the previous exercise, but their budget constraints differ. For type-1 households, it is given by \n",
    "$$\n",
    "c_1 = w \\cdot h_1\n",
    "$$\n",
    "whereas for type-2 households it's\n",
    "$$\n",
    "c_2 = w \\cdot h_2 + \\pi_2\n",
    "$$\n",
    "The subscripts in $c_1$, $c_2$, $h_1$, $h_2$, and $\\pi_2$ index the household type since different households will\n",
    "choose different levels of consumption and labor supply."
   ]
  },
  {
   "cell_type": "markdown",
   "metadata": {},
   "source": [
    "## Firm problem\n",
    "\n",
    "The firm problem remains unchanged from the previous exercise. For convenience, we repeat the central equations:\n",
    "$$\n",
    "\\begin{aligned}\n",
    "\\text{Labor demand: } && L &= \\left(\\frac{(1-\\alpha) z}{w}\\right)^{\\frac{1}{\\alpha}}  \\\\\n",
    "\\text{Output: } && Y &= z L^{1-\\alpha}  \\\\\n",
    "\\text{Profits: } && \\Pi &= zL^{1-\\alpha} - wL \n",
    "\\end{aligned}\n",
    "$$\n"
   ]
  },
  {
   "cell_type": "markdown",
   "metadata": {},
   "source": [
    "## Equilibrium\n",
    "\n",
    "The general equilibrium in this economy is a set of quantities $(L,Y,\\Pi,c_1,c_2,h_1,h_2,\\pi_2)$ and the wage rate $w$ \n",
    "which solve the household's and firm's problem, and the following conditions are satisfied:\n",
    "\n",
    "- Labor market clearing: $L = N_1 h_1 + N_2 h_2$ (hours supplied by households equal labor $L$ demanded by firms).\n",
    "- Goods market clearing: $Y = N_1 c_1 + N_2 h_2$ (the amount of goods consumed by households equals aggregate output).\n",
    "- Profits: $\\Pi = N_2 \\pi_2$ (profits distributed by firms equal profits received by type-2 households)."
   ]
  },
  {
   "cell_type": "markdown",
   "metadata": {},
   "source": [
    "## Numerical solution"
   ]
  },
  {
   "cell_type": "markdown",
   "metadata": {},
   "source": [
    "In the following, you are asked to adapt the code you wrote for exercise 1 to solve the modified problem.\n",
    "The new solution only requires changes at a few selected points to take into account the unequal distribution of profits.\n",
    "You should use the template file [`workshop06_ex2.py`](workshop06_ex2.py) provided for this exercise.\n",
    "\n",
    "1.  Adapt the `Parameters` class to include the two new parameters `N1` and `N2` which represent the \n",
    "    number of type-1 and type-2 households, respectively.\n",
    "    Set $N_1 = 5$ and $N_2 = 5$.\n",
    "\n",
    "    For the remaining parameters, use the same values as in exercise 1.\n",
    "\n",
    "2.  Write the function `compute_labor_ex_demand(w, par)` which returns the excess labor demand for given $w$.\n",
    "    Use the function `solve_hh()` and `solve_firm()` you wrote for exercise 1 to solve this task.\n",
    "\n",
    "    *Hint:* Don't copy the implementations for `solve_hh()` and `solve_firm()` but \n",
    "    directly import them from the module which contains the solution for exercise 1:\n",
    "\n",
    "    ```python\n",
    "    from workshop01_ex1 import solve_firm, solve_hh\n",
    "    ```\n",
    "\n",
    "3.  Write the function `compute_equilibrium(par)` which uses a root-finder \n",
    "    to locate the equilibrium, computes the equilibrium\n",
    "    quantities $(L,Y,\\Pi,c_1,h_1,c_2,h_2,\\pi_2)$ and the wage rate $w$, and stores these\n",
    "    using an instance of the `Equilibrium` data class defined in [`workshop06_ex2.py`](workshop06_ex2.py).\n",
    "\n",
    "4.  Compute the equilibrium using the function you just implemented \n",
    "    and print the quantities and prices using \n",
    "    `print_equilibrium()` defined in [`workshop06_ex2.py`](workshop06_ex2.py).\n",
    "\n",
    "    How does the unequal distribution of profits affect consumption and labor supply of \n",
    "    type-1 vs type-2 households?\n",
    "\n",
    "5.  You are interested to see if and how the allocation and prices in the economy change as we vary the number of type-1 and type-2 households.\n",
    "    Assume that there are a total of $N = N_1 + N_2 = 10$ households in the economy\n",
    "    \n",
    "    -   Using the function `compute_equilibrium()` you wrote earlier, compute the equilibrium when $N_1$ takes on the integer values from $0,\\dots,9$\n",
    "        and $N_2 = N - N_1$.\n",
    "\n",
    "    -   Create a graph with four panels ($2 \\times 2$) which shows the aggregates $Y$, $L$, $\\Pi$, and $w$ as a function of $N_1$.\n",
    "\n",
    "    -   Create a graph with three columns which shows $(c_1, c_2)$ in the first, $(h_1, h_2)$ in the second, and $\\pi_2$ in the third column.\n",
    "        Use different colors and line styles to distinguish household types and include a legend.\n",
    "\n",
    "        What do you conclude about the effects of inequality on the equilibrium allocation and prices?"
   ]
  },
  {
   "cell_type": "markdown",
   "metadata": {},
   "source": [
    "## Bonus: using analytical results and root-finding\n",
    "\n",
    "Unlike the previous exercise, this economy no longer has a closed-form solution for the equilibrium quantities. \n",
    "From the households' first-order conditions, we can derive that the equilibrium is characterized by the two non-linear equations\n",
    "$$\n",
    "\\begin{aligned}\n",
    "(w h_1)^{-\\gamma} &= \\psi \\frac{h_1^{1/\\theta}}{w} \\\\\n",
    "(w h_1 + \\pi_2)^{-\\gamma} &= \\psi \\frac{h_2^{1/\\theta}}{w}\n",
    "\\end{aligned}\n",
    "$$\n",
    "Note that $w$ and $\\pi_2 = \\frac{\\Pi}{N_2}$ itself are functions of $(h_1, h_2)$ via the labor market clearing $L = N_1 h_1 + N_2 h_2$:\n",
    "$$\n",
    "\\begin{aligned}\n",
    "w &= (1-\\alpha) z L^{-\\alpha} = (1-\\alpha) z \\bigl(N_1 h_1 + N_2 h_2 \\bigr)^{-\\alpha} \\\\\n",
    "\\Pi &= \\alpha z L^{1-\\alpha} = \\alpha z \\bigl(N_1 h_1 + N_2 h_2 \\bigr)^{1-\\alpha} \n",
    "\\end{aligned}\n",
    "$$\n",
    "We can substitute these two equations into the non-linear equation system above and numerically find a solution $(h_1, h_2)$ that satisfies these conditions.\n",
    "\n",
    "1. Use the multivariate root-finder\n",
    "    [`root()`](https://docs.scipy.org/doc/scipy/reference/generated/scipy.optimize.root.html)\n",
    "    from `scipy.optimize`\n",
    "    with `method='hybr'` to solve the above equation system. \n",
    "    \n",
    "    To do this, you need to write a function\n",
    "    which takes as argument a vector `x` which contains the values $(h_1, h_2)$, and return the \n",
    "    errors in the two first-order conditions, i.e., a vector that contains the left-hand \n",
    "    minus the right-hand side for each of the two equations.\n",
    "\n",
    "2.  Make sure the results obtained from this approach are the same as in the main exercise."
   ]
  },
  {
   "cell_type": "markdown",
   "metadata": {},
   "source": [
    "## Solution\n",
    "\n",
    "The solution is provided in the file `workshop06_ex2.py`. In what follows, some of the code blocks from that file are replicated below to discuss the solution.\n",
    "\n",
    "### Part (1)\n",
    "\n",
    "We extend the definition of the `Parameters` from exercise 1 to include the additional parameters `N1` and `N2`:"
   ]
  },
  {
   "cell_type": "code",
   "execution_count": 10,
   "metadata": {},
   "outputs": [],
   "source": [
    "from dataclasses import dataclass\n",
    "\n",
    "@dataclass\n",
    "class Parameters:\n",
    "    alpha: float = 0.36     # Capital share in production function\n",
    "    z: float = 1.0          # TFP \n",
    "    gamma: float = 2.0      # RRA in utility\n",
    "    psi: float = 1.0        # Weight on disutility of working\n",
    "    theta: float = 0.5      # Frisch elasticity of labor supply\n",
    "    N1: int = 5             # Number of type-1 households\n",
    "    N2: int = 5             # Number of type-2 households"
   ]
  },
  {
   "cell_type": "markdown",
   "metadata": {},
   "source": [
    "### Part (2)\n",
    "\n",
    "The function `compute_labor_ex_demand()` needs to be adapted from exercise 1 since now profits are only distributed to type-2 households. We directly use the implementations of the household and firm problems from Exercise 1, and compute the excess demand for labor as the difference of the firm's demand and the household's labor supply.\n",
    "\n",
    "Note that now the aggregate labor demand is the sum of labor supplies of type-1 and type-2 households."
   ]
  },
  {
   "cell_type": "code",
   "execution_count": 11,
   "metadata": {},
   "outputs": [],
   "source": [
    "# Import functions from exercise 1\n",
    "from workshop06_ex1 import solve_firm, solve_hh\n",
    "\n",
    "def compute_labor_ex_demand(w, par: Parameters):\n",
    "    \"\"\"\n",
    "    Compute the excess demand for labor.\n",
    "\n",
    "    Parameters\n",
    "    ----------\n",
    "    w : float\n",
    "        Wage rate.\n",
    "    par : Parameters\n",
    "        Model parameters.\n",
    "\n",
    "    Returns\n",
    "    -------\n",
    "    float\n",
    "        Excess demand for labor.\n",
    "    \"\"\"\n",
    "    # Wage and profits implied by firm's first-order condition\n",
    "    L, Y, Pi = solve_firm(w, par)    \n",
    "\n",
    "    # Equilibrium household choices\n",
    "    # Type 1 receives no profits\n",
    "    c1, h1 = solve_hh(w, 0.0, par)\n",
    "    # Per-capita profits for type 2 households\n",
    "    pi2 = Pi / par.N2\n",
    "    c2, h2 = solve_hh(w, pi2, par)\n",
    "\n",
    "    # Excess demand for labor\n",
    "    ex_demand = L - par.N1 * h1 - par.N2 * h2\n",
    "\n",
    "    return ex_demand"
   ]
  },
  {
   "cell_type": "markdown",
   "metadata": {},
   "source": [
    "### Part (3)\n",
    "\n",
    "Finally, the `compute_equilibrium()` function needs to be adapted from exercise 1 to take into account the unequal distribution of profits."
   ]
  },
  {
   "cell_type": "code",
   "execution_count": 12,
   "metadata": {},
   "outputs": [],
   "source": [
    "from scipy.optimize import root_scalar\n",
    "\n",
    "def compute_equilibrium(par):\n",
    "    \"\"\"\n",
    "    Compute the equilibrium of the model.\n",
    "\n",
    "    Parameters\n",
    "    ----------\n",
    "    par : Parameters\n",
    "        Model parameters.\n",
    "\n",
    "    Returns\n",
    "    -------\n",
    "    Equilibrium\n",
    "        Equilibrium object containing the equilibrium values.\n",
    "    \"\"\"\n",
    "    # Initial bracket for root-finder\n",
    "    bracket = (1.0e-3, 5)\n",
    "\n",
    "    # Find equilibrium wage\n",
    "    res = root_scalar(\n",
    "        compute_labor_ex_demand, bracket=bracket, args=(par, )\n",
    "    )\n",
    "\n",
    "    if not res.converged:\n",
    "        print('Equilibrium root-finder did not terminated successfully')\n",
    "\n",
    "    # Create instance of equilibrium class\n",
    "    eq = Equilibrium(par=par, w=res.root)\n",
    "\n",
    "    # Equilibrium wage, output and profits\n",
    "    eq.L, eq.Y, eq.Pi = solve_firm(eq.w, par)\n",
    "\n",
    "    # Equilibrium household choices\n",
    "    eq.c1, eq.h1 = solve_hh(eq.w, 0.0, par)\n",
    "    # Per-capita profits for type 2 households\n",
    "    eq.pi2 = eq.Pi / par.N2\n",
    "    eq.c2, eq.h2 = solve_hh(eq.w, eq.pi2, par)\n",
    "\n",
    "    return eq"
   ]
  },
  {
   "cell_type": "markdown",
   "metadata": {},
   "source": [
    "### Part (4)\n",
    "\n",
    "We can now initialize a `Parameters` object, call `compute_equilibrium()` and print the results using `print_equilibrium()` defined in `workshop06_ex2.py`."
   ]
  },
  {
   "cell_type": "code",
   "execution_count": 13,
   "metadata": {},
   "outputs": [
    {
     "name": "stdout",
     "output_type": "stream",
     "text": [
      "Equilibrium:\n",
      "  Households:\n",
      "    Type 1 (N = 5):\n",
      "      c1 = 0.37079\n",
      "      h1 = 1.39195\n",
      "    Type 2 (N = 5):\n",
      "      c2 = 0.57936\n",
      "      h2 = 0.89085\n",
      "      pi2 = 0.34205\n",
      "  Firms:\n",
      "    Y = 4.75073\n",
      "    L = 11.41401\n",
      "    Pi = 1.71026\n",
      "  Prices:\n",
      "    w = 0.26638\n",
      "  Market clearing:\n",
      "    Labor market: 4.10562e-09\n",
      "    Goods market: -1.09365e-09\n",
      "    Profits: 0.00000e+00\n"
     ]
    }
   ],
   "source": [
    "from workshop06_ex2 import print_equilibrium\n",
    "\n",
    "# Get instance of default parameter values\n",
    "par = Parameters()\n",
    "\n",
    "# Solve for equilibrium\n",
    "eq = compute_equilibrium(par)\n",
    "\n",
    "# Print equilibrium quantities and prices\n",
    "print_equilibrium(eq)"
   ]
  },
  {
   "cell_type": "markdown",
   "metadata": {},
   "source": [
    "As you can see, type-1 households choose to work more and consume less compared to type-2 households. This is of course due to the fact that type-2 households receive extra income in the form of profits."
   ]
  },
  {
   "cell_type": "markdown",
   "metadata": {},
   "source": [
    "### Part (5)\n",
    "\n",
    "We use the implementation from the `workshop06_ex2` module to compute the equilibria for each value of $N_1$. Within the loop body, we need to update the `N1` and `N2` attributes of the `Parameters` instance."
   ]
  },
  {
   "cell_type": "code",
   "execution_count": 14,
   "metadata": {},
   "outputs": [],
   "source": [
    "import workshop06_ex2 as ex2\n",
    "import numpy as np\n",
    "\n",
    "N = 10\n",
    "N1_grid = np.arange(0, N)\n",
    "equilibria = []\n",
    "\n",
    "for N1 in range(0, N):\n",
    "\n",
    "    # Create new parameter instance with updated N1 and N2\n",
    "    par = ex2.Parameters(N1=N1, N2=N-N1)\n",
    "\n",
    "    # Compute equilibrium\n",
    "    eq = ex2.compute_equilibrium(par)\n",
    "\n",
    "    equilibria.append(eq)"
   ]
  },
  {
   "cell_type": "markdown",
   "metadata": {},
   "source": [
    "Next, we pack the individual equilibrium quantities and the wage rate into individual lists."
   ]
  },
  {
   "cell_type": "code",
   "execution_count": 15,
   "metadata": {},
   "outputs": [],
   "source": [
    "# Store equilibrium allocations and prices in separate lists\n",
    "Y_grid = [eq.Y for eq in equilibria]\n",
    "L_grid = [eq.L for eq in equilibria]\n",
    "Pi_grid = [eq.Pi for eq in equilibria]\n",
    "w_grid = [eq.w for eq in equilibria]\n",
    "c1_grid = [eq.c1 for eq in equilibria]\n",
    "c2_grid = [eq.c2 for eq in equilibria]\n",
    "h1_grid = [eq.h1 for eq in equilibria]\n",
    "h2_grid = [eq.h2 for eq in equilibria]\n",
    "pi2_grid = [eq.pi2 for eq in equilibria]"
   ]
  },
  {
   "cell_type": "markdown",
   "metadata": {},
   "source": [
    "We now create the graph showing the aggregates $(Y, \\Pi)$ and the wage rate $w$ against the number of type-1 households in the economy."
   ]
  },
  {
   "cell_type": "code",
   "execution_count": 16,
   "metadata": {},
   "outputs": [
    {
     "data": {
      "text/plain": [
       "Text(0.5, 0, 'Number of type-1 households')"
      ]
     },
     "execution_count": 16,
     "metadata": {},
     "output_type": "execute_result"
    },
    {
     "data": {
      "application/pdf": "[encoded data removed]",
      "image/png": "[encoded data removed]",
      "text/plain": [
       "<Figure size 700x500 with 4 Axes>"
      ]
     },
     "metadata": {},
     "output_type": "display_data"
    }
   ],
   "source": [
    "import matplotlib.pyplot as plt\n",
    "\n",
    "fig, ax = plt.subplots(2, 2, figsize=(7, 5), sharex=True, sharey=False)\n",
    "ax[0, 0].plot(N1_grid, Y_grid, marker='o', ms=4)\n",
    "ax[0, 0].set_title('Output $Y$')\n",
    "\n",
    "ax[0, 1].plot(N1_grid, L_grid, marker='o', ms=4)\n",
    "ax[0, 1].set_title('Labor $L$')\n",
    "\n",
    "ax[1, 0].plot(N1_grid, Pi_grid, marker='o', ms=4)\n",
    "ax[1, 0].set_title(r'Profits $\\Pi$')\n",
    "ax[1, 0].set_xlabel('Number of type-1 households')\n",
    "\n",
    "ax[1, 1].plot(N1_grid, w_grid, marker='o', ms=4)\n",
    "ax[1, 1].set_title('Wage $w$')\n",
    "ax[1, 1].set_xlabel('Number of type-1 households')"
   ]
  },
  {
   "cell_type": "markdown",
   "metadata": {},
   "source": [
    "As can be seen, aggregate labor $L$ and output increase in the number of type-1 households since these households supply more labor than type2-households. At the same time, the wage rate drops slightly to accommodate this increase in labor supply. Lastly, profits are a fixed share of output, so they incrase in tandem with output."
   ]
  },
  {
   "cell_type": "markdown",
   "metadata": {},
   "source": [
    "The next figure shows how household-level variables change in equilibrium as the number of type-1 households increases."
   ]
  },
  {
   "cell_type": "code",
   "execution_count": 17,
   "metadata": {},
   "outputs": [
    {
     "data": {
      "text/plain": [
       "Text(0.5, 0, 'Number of type-1 households')"
      ]
     },
     "execution_count": 17,
     "metadata": {},
     "output_type": "execute_result"
    },
    {
     "data": {
      "application/pdf": "[encoded data removed]",
      "image/png": "[encoded data removed]",
      "text/plain": [
       "<Figure size 1000x250 with 3 Axes>"
      ]
     },
     "metadata": {},
     "output_type": "display_data"
    }
   ],
   "source": [
    "fig, ax = plt.subplots(1, 3, figsize=(10, 2.5), sharex=True, sharey=False)\n",
    "\n",
    "ax[0].plot(N1_grid, c1_grid, marker='o', ms=4, color='orange', label='$c_1$')\n",
    "ax[0].plot(N1_grid, c2_grid, marker='o', ms=4, color='black', ls='--', label='$c_2$')\n",
    "ax[0].set_title('Consumption $c$')\n",
    "ax[0].legend()\n",
    "ax[0].set_xlabel('Number of type-1 households')\n",
    "\n",
    "ax[1].plot(N1_grid, h1_grid, marker='o', ms=4, color='orange', label='$h_1$')\n",
    "ax[1].plot(N1_grid, h2_grid, marker='o', ms=4, color='black', ls='--', label='$h_2$')\n",
    "ax[1].set_title('Labor supply $h$')\n",
    "ax[1].legend()\n",
    "ax[1].set_xlabel('Number of type-1 households')\n",
    "\n",
    "ax[2].plot(N1_grid, pi2_grid, marker='o', ms=4, color='black', ls='--', label=r'$\\pi_2$')\n",
    "ax[2].set_title(r'Profits $\\pi_2$')\n",
    "ax[2].legend()\n",
    "ax[2].set_xlabel('Number of type-1 households')\n"
   ]
  },
  {
   "cell_type": "markdown",
   "metadata": {},
   "source": [
    "We see that for each $N_1$, type-1 households consume less and supply more labor than type-2 households. Their choices diverge at a fast rate for higher values of $N_1$ because profits are more and more concentrated among a smaller fraction of the population (and for $N_1=9$, only a single households receives all the profits)."
   ]
  },
  {
   "cell_type": "markdown",
   "metadata": {},
   "source": [
    "### Bonus question\n",
    "\n",
    "#### Part (1)\n",
    "\n",
    "The alternative root-finding approach is implemented in the function `foc_error(x, par)`:"
   ]
  },
  {
   "cell_type": "code",
   "execution_count": 18,
   "metadata": {},
   "outputs": [],
   "source": [
    "def foc_error(x, par: Parameters):\n",
    "    \"\"\"\n",
    "    Compute errors in first-order conditions of the household problem\n",
    "    for type 1 and type 2.\n",
    "\n",
    "    (for bonus question)\n",
    "\n",
    "    Parameters\n",
    "    ----------\n",
    "    x : array_like\n",
    "        Candidate guess for labor supply (h1, h2).\n",
    "    par : Parameters\n",
    "        Model parameters.\n",
    "\n",
    "    Returns\n",
    "    -------\n",
    "    numpy.ndarray\n",
    "        Array containing the differences from the first-order conditions.\n",
    "    \"\"\"\n",
    "    # Extract candidate guess for labor supply\n",
    "    h1, h2 = x\n",
    "\n",
    "    # Aggregate labor supply\n",
    "    L = par.N1 * h1 + par.N2 * h2\n",
    "    # wage from firm's FOC\n",
    "    w = (1-par.alpha) * par.z * L**(-par.alpha)\n",
    "    # Aggregate firm profits\n",
    "    Pi = par.alpha * par.z * L**(1-par.alpha)\n",
    "\n",
    "    # FOC for HH type 1\n",
    "    diff1 = par.psi * h1**(1/par.theta) / w - (w * h1)**(-par.gamma)\n",
    "    # Profits per capita for HH type 2\n",
    "    pi2 = Pi / par.N2\n",
    "    # FOC for HH type 2\n",
    "    diff2 = par.psi * h2**(1/par.theta) / w - (w * h2 + pi2)**(-par.gamma)\n",
    "\n",
    "    fx = np.array((diff1, diff2))\n",
    "\n",
    "    return fx"
   ]
  },
  {
   "cell_type": "markdown",
   "metadata": {},
   "source": [
    "The function `foc_error()` can then be passed to the multivariate root-finder as follows:"
   ]
  },
  {
   "cell_type": "code",
   "execution_count": 19,
   "metadata": {},
   "outputs": [],
   "source": [
    "from scipy.optimize import root\n",
    "\n",
    "# Initial guess for labor supply (h1, h2)\n",
    "x0 = np.array((0.5, 0.5))\n",
    "\n",
    "# Find (h1, h2) that satisfy the FOCs\n",
    "res = root(foc_error, x0=x0, args=(par, ), method='hybr')"
   ]
  },
  {
   "cell_type": "markdown",
   "metadata": {},
   "source": [
    "You can inspect the result object to confirm that the root-finder terminated successfully. The root is stored in the vector `res.x` of the result object, and `res.fun` contains the multivariate function values at the root (which are numerically very close to zero)."
   ]
  },
  {
   "cell_type": "code",
   "execution_count": 20,
   "metadata": {},
   "outputs": [
    {
     "data": {
      "text/plain": [
       " message: The solution converged.\n",
       " success: True\n",
       "  status: 1\n",
       "     fun: [-4.195e-09  1.139e-09]\n",
       "       x: [ 1.408e+00  2.629e-01]\n",
       "  method: hybr\n",
       "    nfev: 17\n",
       "    fjac: [[-9.968e-01 -7.966e-02]\n",
       "           [ 7.966e-02 -9.968e-01]]\n",
       "       r: [-1.647e+01  1.386e+00 -2.662e+00]\n",
       "     qtf: [ 2.347e-08 -1.499e-08]"
      ]
     },
     "execution_count": 20,
     "metadata": {},
     "output_type": "execute_result"
    }
   ],
   "source": [
    "res"
   ]
  },
  {
   "cell_type": "markdown",
   "metadata": {},
   "source": [
    "#### Part (2)"
   ]
  },
  {
   "cell_type": "markdown",
   "metadata": {},
   "source": [
    "The solution in the module `workshop06_ex2` contains the function `compute_equilibrium_root()` which runs the root finder and computes the remaining equilibrium quantities. We can use this to compute and print the result:"
   ]
  },
  {
   "cell_type": "code",
   "execution_count": 21,
   "metadata": {},
   "outputs": [
    {
     "name": "stdout",
     "output_type": "stream",
     "text": [
      "Equilibrium:\n",
      "  Households:\n",
      "    Type 1 (N = 9):\n",
      "      c1 = 0.35850\n",
      "      h1 = 1.40768\n",
      "    Type 2 (N = 1):\n",
      "      c2 = 1.91950\n",
      "      h2 = 0.26291\n",
      "      pi2 = 1.85255\n",
      "  Firms:\n",
      "    Y = 5.14597\n",
      "    L = 12.93206\n",
      "    Pi = 1.85255\n",
      "  Prices:\n",
      "    w = 0.25467\n",
      "  Market clearing:\n",
      "    Labor market: -8.88178e-16\n",
      "    Goods market: 8.88178e-16\n",
      "    Profits: 0.00000e+00\n"
     ]
    }
   ],
   "source": [
    "import workshop06_ex2 as ex2\n",
    "\n",
    "# Compute equilibrium using root-finding approach\n",
    "eq = ex2.compute_equilibrium_root(par)\n",
    "\n",
    "# Print equilibrium values using print function we defined earlier\n",
    "ex2.print_equilibrium(eq)\n"
   ]
  },
  {
   "cell_type": "markdown",
   "metadata": {},
   "source": [
    "As you can see, the results are basically identical to those we computed earlier."
   ]
  }
 ],
 "metadata": {
  "kernelspec": {
   "display_name": "FIE463",
   "language": "python",
   "name": "python3"
  },
  "language_info": {
   "codemirror_mode": {
    "name": "ipython",
    "version": 3
   },
   "file_extension": ".py",
   "mimetype": "text/x-python",
   "name": "python",
   "nbconvert_exporter": "python",
   "pygments_lexer": "ipython3",
   "version": "3.12.8"
  }
 },
 "nbformat": 4,
 "nbformat_minor": 2
}
