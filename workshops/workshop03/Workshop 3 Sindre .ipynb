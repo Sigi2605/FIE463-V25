{
 "cells": [
  {
   "cell_type": "markdown",
   "metadata": {
    "vscode": {
     "languageId": "plaintext"
    }
   },
   "source": [
    "# Standard deviation of a sequence of numbers\n",
    "\n",
    "The standard deviation $\\sigma$ characterizes the dispersion of a sequence of data $(x_1, x_2, \\dots, x_N)$ around its mean $\\overline{x}$.\n",
    "It is computed as the square root of the variance $\\sigma^2$, defined as \n",
    "$$\n",
    "\\begin{aligned}\n",
    "\\sigma^2 = \\frac{1}{N} \\sum_{i=1}^N \\Bigl(x_i - \\overline{x}\\Bigr)^2\n",
    "\\end{aligned}\n",
    "$$\n",
    "where $N$ is the number of elements (we ignore the degrees-of-freedom correction), \n",
    "and the mean $\\overline{x}$ is defined as\n",
    "$$\n",
    "\\overline{x} = \\frac{1}{N}\\sum_{i=1}^N x_i\n",
    "$$\n",
    "The above formula for the variance can be rewritten as \n",
    "$$\n",
    "\\sigma^2 = \\left(\\frac{1}{N}\\sum_{i=1}^N x_i^2 \\right)\n",
    "     - \\overline{x}^2\n",
    "$$\n",
    "This suggests the following algorithm to compute the standard deviation:\n",
    "\n",
    "1. Compute the mean $\\overline{x} = \\frac{1}{N}\\sum_{i=1}^N x_i$\n",
    "2. Compute the mean of squares $S = \\frac{1}{N}\\sum_{i=1}^N x_i^2$\n",
    "3. Compute the variance $\\sigma^2 = S - \\overline{x}^2$\n",
    "4. Compute the standard deviation $\\sigma = \\sqrt{\\sigma^2}$\n",
    "\n",
    "In this exercise, you are asked to implement the above algorithm and compare your function with\n",
    "NumPy's implementation\n",
    "[`np.std()`](https://numpy.org/doc/stable/reference/generated/numpy.std.html).\n",
    "\n",
    "1. Create a module `my_stats.py` and add the function\n",
    "\n",
    "     ```python\n",
    "     def my_std(x): \n",
    "          \"\"\"\n",
    "          Compute and return the standard deviation of the sequence x.\n",
    "          \"\"\"\n",
    "     ```\n",
    "     \n",
    "     which implements the above algorithm to compute the standard deviation\n",
    "     of a given sequence `x` (this could be a tuple, list, array, etc.). \n",
    "     Your implementation should only use \n",
    "     built-in functions such as `len()`, `sum()`, and `sqrt()` from the `math` module.\n",
    "2.   Import this function into the Jupyter notebook. Using an array \n",
    "     of 11 elements which are uniformly spaced on the interval `[0, 10]`,\n",
    "     confirm that your function returns the same value as \n",
    "     [`np.std()`](https://numpy.org/doc/stable/reference/generated/numpy.std.html).\n",
    "3.   Benchmark your implementation against \n",
    "     [`np.std()`](https://numpy.org/doc/stable/reference/generated/numpy.std.html)\n",
    "     for three different arrays with 11, 101, and 10001 elements which\n",
    "     are uniformly spaced on the interval `[0, 10]`.\n",
    "\n",
    "     *Hint:* Use the cell magic \n",
    "    [`%timeit`](https://ipython.readthedocs.io/en/stable/interactive/magics.html#magic-timeit)\n",
    "    to time the execution of a statement."
   ]
  },
  {
   "cell_type": "code",
   "execution_count": null,
   "metadata": {},
   "outputs": [],
   "source": []
  },
  {
   "cell_type": "markdown",
   "metadata": {},
   "source": [
    "# Locating maximum values\n",
    "\n",
    "In this exercise, you are asked to write a function that returns the position of the largest element from a given sequence (list, tuple, array, etc.).\n",
    "\n",
    "1. Write a function `my_argmax()` that takes as argument a sequence and returns the (first) index\n",
    "   where the maximum value is located. Only use built-in functionality in your implementation (no NumPy).\n",
    "2. Create an array with 101 values constructed using the sine function, \n",
    "\n",
    "   ```python\n",
    "   arr = np.sin(np.linspace(0.0, np.pi, 101))\n",
    "   ```\n",
    "   and use to it to test your function.\n",
    "3. Compare the result returned by your function to NumPy's implementation\n",
    "    [`np.argmax()`](https://numpy.org/doc/stable/reference/generated/numpy.argmax.html)."
   ]
  },
  {
   "cell_type": "markdown",
   "metadata": {},
   "source": [
    "# Two-period consumption-savings problem\n",
    "\n",
    "This exercise asks you to find the utility-maximizing consumption levels\n",
    "using grid search, an algorithm that evaluates all possible\n",
    "alternatives from a given set (the \"grid\") to locate the maximum.\n",
    "\n",
    "Consider the following standard consumption-savings problem over\n",
    "two periods with lifetime utility $U(c_1, c_2)$ given by\n",
    "$$\n",
    "\\begin{aligned}\n",
    "\\max_{c_1,~c_2} \\quad & U(c_1, c_2) = u(c_1) + \\beta u(c_2) \\\\\n",
    "\\text{s.t.} \\quad c_1 &+ \\frac{c_2}{1+r} = w \\\\\n",
    "    c_1 &\\geq 0, ~ c_2 \\geq 0\n",
    "\\end{aligned}\n",
    "$$\n",
    "where $\\gamma$ is the RRA coefficient, $\\beta$ is the discount factor,\n",
    "$r$ is the interest rate,\n",
    "$w$ is initial wealth, $(c_1,c_2)$ is the optimal consumption allocation\n",
    "to be determined, and $u(c)$ is the per-period CRRA utility function given by\n",
    "$$\n",
    "u(c) = \\begin{cases}\n",
    "    \\frac{c^{1-\\gamma}}{1-\\gamma} & \\text{if } \\gamma \\neq 1 \\\\\n",
    "    \\ln(c) & \\text{if } \\gamma = 1\n",
    "    \\end{cases}\n",
    "$$\n",
    "The second line is the budget constraint which ensures that the chosen\n",
    "consumption bundle $(c_1, c_2)$ is feasible.\n",
    "\n",
    "1. Write a function `util(x, gamma)` which evaluates the per-period utility \n",
    "   $u(c)$ for a given consumption level $c$ and the parameter $\\gamma$.\n",
    "   Make sure to take into account the log case!\n",
    "\n",
    "   *Hint:* You can use the [`np.log()`](https://numpy.org/doc/stable/reference/generated/numpy.log.html) \n",
    "   function from NumPy to compute the natural logarithm.\n",
    "2. Write a function `util_life(c_1, c_2, beta, gamma)` which uses `util()` from above to compute\n",
    "   the lifetime utility $U(c_1, c_2)$ for given consumption levels $(c_1, c_2)$\n",
    "   and parameters.\n",
    "3. Assume that $r=0.04$, $\\beta=0.96$, $\\gamma=1$, and $w=1$. \n",
    "    \n",
    "    - Create a candidate array (grid) of period-1 consumption levels with 100 grid points with \n",
    "        are uniformly spaced on the on the interval $[10^{-5}, w]$.\n",
    "    - Compute the implied array of period-2 consumption levels from the budget constraint.\n",
    "    - Given these candidate consumption levels, use the function `util_life()` you \n",
    "      wrote earlier to evaluate lifetime utility for each bundle of consumption levels $(c_1, c_2)$.\n",
    "\n",
    "4.  Use the function\n",
    "    [`np.argmax()`](https://numpy.org/doc/stable/reference/generated/numpy.argmax.html)\n",
    "    to locale the index at which lifetime utility is maximized.\n",
    "    Print the maximizing consumption levels $(c_1, c_2)$ as well as the \n",
    "    associated maximized utility level."
   ]
  },
  {
   "cell_type": "code",
   "execution_count": 4,
   "metadata": {},
   "outputs": [
    {
     "data": {
      "text/plain": [
       "[<matplotlib.lines.Line2D at 0x2c86ea48450>]"
      ]
     },
     "execution_count": 4,
     "metadata": {},
     "output_type": "execute_result"
    },
    {
     "data": {
      "image/png": "[encoded data removed]",
      "text/plain": [
       "<Figure size 640x480 with 1 Axes>"
      ]
     },
     "metadata": {},
     "output_type": "display_data"
    }
   ],
   "source": [
    "import matplotlib.pyplot as plt \n",
    "yvalues = [1, 4, 2, 3]\n",
    "plt.plot(yvalues)\n"
   ]
  }
 ],
 "metadata": {
  "kernelspec": {
   "display_name": "Python 3",
   "language": "python",
   "name": "python3"
  },
  "language_info": {
   "codemirror_mode": {
    "name": "ipython",
    "version": 3
   },
   "file_extension": ".py",
   "mimetype": "text/x-python",
   "name": "python",
   "nbconvert_exporter": "python",
   "pygments_lexer": "ipython3",
   "version": "3.11.9"
  }
 },
 "nbformat": 4,
 "nbformat_minor": 2
}
