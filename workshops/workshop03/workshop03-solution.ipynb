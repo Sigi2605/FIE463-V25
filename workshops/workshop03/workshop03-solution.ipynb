{
 "cells": [
  {
   "cell_type": "markdown",
   "metadata": {
    "vscode": {
     "languageId": "plaintext"
    }
   },
   "source": [
    "# Exercise 1: Standard deviation of a sequence of numbers\n",
    "\n",
    "The standard deviation $\\sigma$ characterizes the dispersion of a sequence of data $(x_1, x_2, \\dots, x_N)$ around its mean $\\overline{x}$.\n",
    "It is computed as the square root of the variance $\\sigma^2$, defined as \n",
    "$$\n",
    "\\begin{aligned}\n",
    "\\sigma^2 = \\frac{1}{N} \\sum_{i=1}^N \\Bigl(x_i - \\overline{x}\\Bigr)^2\n",
    "\\end{aligned}\n",
    "$$\n",
    "where $N$ is the number of elements (we ignore the degrees-of-freedom correction), \n",
    "and the mean $\\overline{x}$ is defined as\n",
    "$$\n",
    "\\overline{x} = \\frac{1}{N}\\sum_{i=1}^N x_i\n",
    "$$\n",
    "The above formula for the variance can be rewritten as \n",
    "$$\n",
    "\\sigma^2 = \\left(\\frac{1}{N}\\sum_{i=1}^N x_i^2 \\right)\n",
    "     - \\overline{x}^2\n",
    "$$\n",
    "This suggests the following algorithm to compute the standard deviation:\n",
    "\n",
    "1. Compute the mean $\\overline{x} = \\frac{1}{N}\\sum_{i=1}^N x_i$\n",
    "2. Compute the mean of squares $S = \\frac{1}{N}\\sum_{i=1}^N x_i^2$\n",
    "3. Compute the variance $\\sigma^2 = S - \\overline{x}^2$\n",
    "4. Compute the standard deviation $\\sigma = \\sqrt{\\sigma^2}$\n",
    "\n",
    "In this exercise, you are asked to implement the above algorithm and compare your function with\n",
    "NumPy's implementation\n",
    "[`np.std()`](https://numpy.org/doc/stable/reference/generated/numpy.std.html).\n",
    "\n",
    "1. Create a module `my_stats.py` and add the function\n",
    "\n",
    "     ```python\n",
    "     def my_std(x): \n",
    "          \"\"\"\n",
    "          Compute and return the standard deviation of the sequence x.\n",
    "          \"\"\"\n",
    "     ```\n",
    "     \n",
    "     which implements the above algorithm to compute the standard deviation\n",
    "     of a given sequence `x` (this could be a tuple, list, array, etc.). \n",
    "     Your implementation should *only use \n",
    "     built-in functions* such as `len()`, `sum()`, and `sqrt()` from the `math` module.\n",
    "2.   Import this function into the Jupyter notebook. Using an array \n",
    "     of 11 elements which are uniformly spaced on the interval $[0, 10]$,\n",
    "     confirm that your function returns the same value as \n",
    "     [`np.std()`](https://numpy.org/doc/stable/reference/generated/numpy.std.html).\n",
    "3.   Benchmark your implementation against \n",
    "     [`np.std()`](https://numpy.org/doc/stable/reference/generated/numpy.std.html)\n",
    "     for three different arrays with 11, 101, and 10001 elements which\n",
    "     are uniformly spaced on the interval $[0, 10]$.\n",
    "\n",
    "     *Hint:* Use the cell magic \n",
    "    [`%timeit`](https://ipython.readthedocs.io/en/stable/interactive/magics.html#magic-timeit)\n",
    "    to time the execution of a statement."
   ]
  },
  {
   "cell_type": "markdown",
   "metadata": {},
   "source": [
    "### Solution"
   ]
  },
  {
   "cell_type": "markdown",
   "metadata": {},
   "source": [
    "#### Part (1)\n",
    "\n",
    "You should implement `my_std()` in the separate file `my_stats.py`, but we'll directly implement it in the notebook to keep the solution within one file."
   ]
  },
  {
   "cell_type": "code",
   "execution_count": 1,
   "metadata": {},
   "outputs": [],
   "source": [
    "from math import sqrt\n",
    "\n",
    "def my_std(x):\n",
    "    \"\"\"\n",
    "    Compute standard deviation of x using the built-in functions sum()\n",
    "    and len().\n",
    "\n",
    "    Parameters\n",
    "    ----------\n",
    "    x: Sequence of numbers\n",
    "\n",
    "    Returns\n",
    "    -------\n",
    "    sd : float\n",
    "        Standard deviation of x.\n",
    "    \"\"\"\n",
    "    \n",
    "    # Number of observations\n",
    "    N = len(x)\n",
    "\n",
    "    # Compute mean\n",
    "    mean = sum(x) / N\n",
    "\n",
    "    # Compute the mean of squares\n",
    "    S = sum(xi**2.0 for xi in x) / N\n",
    "\n",
    "    # Compute variance\n",
    "    var = S - mean**2.0\n",
    "\n",
    "    # Compute standard deviation\n",
    "    sd = sqrt(var)\n",
    "\n",
    "    return sd"
   ]
  },
  {
   "cell_type": "markdown",
   "metadata": {},
   "source": [
    "#### Part (2)"
   ]
  },
  {
   "cell_type": "code",
   "execution_count": 2,
   "metadata": {},
   "outputs": [],
   "source": [
    "import numpy as np\n",
    "\n",
    "# Create the test data\n",
    "data = np.linspace(0.0, 10.0, 11)"
   ]
  },
  {
   "cell_type": "code",
   "execution_count": 3,
   "metadata": {},
   "outputs": [
    {
     "data": {
      "text/plain": [
       "3.1622776601683795"
      ]
     },
     "execution_count": 3,
     "metadata": {},
     "output_type": "execute_result"
    }
   ],
   "source": [
    "# Uncomment this to import my_std from the separate module\n",
    "# from my_stats import my_std\n",
    "\n",
    "# Call your own implementation\n",
    "my_std(data)"
   ]
  },
  {
   "cell_type": "code",
   "execution_count": 4,
   "metadata": {},
   "outputs": [
    {
     "data": {
      "text/plain": [
       "np.float64(3.1622776601683795)"
      ]
     },
     "execution_count": 4,
     "metadata": {},
     "output_type": "execute_result"
    }
   ],
   "source": [
    "# Call NumPy's implementation\n",
    "np.std(data)"
   ]
  },
  {
   "cell_type": "markdown",
   "metadata": {},
   "source": [
    "As you can see, both implementations return the same value."
   ]
  },
  {
   "cell_type": "markdown",
   "metadata": {},
   "source": [
    "#### Part (3)\n",
    "\n",
    "We now compare the runtime for our own vs. NumPy's implementation for increasing sample sizes.\n",
    "For simplicity, we can directly embed the `%timeit` magic into the loop iterating over sample sizes, but this is strictly speaking not valid Python syntax and only works in Jupyter notebooks. It should be avoided in real applications."
   ]
  },
  {
   "cell_type": "code",
   "execution_count": 5,
   "metadata": {},
   "outputs": [
    {
     "name": "stdout",
     "output_type": "stream",
     "text": [
      "Running own implementation for N=11\n",
      "4.12 μs ± 23.1 ns per loop (mean ± std. dev. of 7 runs, 100,000 loops each)\n",
      "Running own implementation for N=101\n",
      "23.5 μs ± 42.7 ns per loop (mean ± std. dev. of 7 runs, 10,000 loops each)\n",
      "Running own implementation for N=10001\n",
      "2.14 ms ± 4.58 μs per loop (mean ± std. dev. of 7 runs, 100 loops each)\n"
     ]
    }
   ],
   "source": [
    "# Sample sizes to benchmark\n",
    "N = [11, 101, 10001]\n",
    "\n",
    "# Benchmark our own implementation for various sample sizes\n",
    "for n in N:\n",
    "    # Create test data of given size\n",
    "    data = np.linspace(0.0, 10.0, n)\n",
    "    print(f'Running own implementation for N={n}')\n",
    "    # Time the execution\n",
    "    %timeit my_std(data)"
   ]
  },
  {
   "cell_type": "code",
   "execution_count": 6,
   "metadata": {},
   "outputs": [
    {
     "name": "stdout",
     "output_type": "stream",
     "text": [
      "Running NumPy implementation for N=11\n",
      "12.1 μs ± 28.7 ns per loop (mean ± std. dev. of 7 runs, 100,000 loops each)\n",
      "Running NumPy implementation for N=101\n",
      "12.2 μs ± 68.9 ns per loop (mean ± std. dev. of 7 runs, 100,000 loops each)\n",
      "Running NumPy implementation for N=10001\n",
      "21.7 μs ± 93.1 ns per loop (mean ± std. dev. of 7 runs, 10,000 loops each)\n"
     ]
    }
   ],
   "source": [
    "# Benchmark NumPy implementation for various sample sizes\n",
    "for n in N:\n",
    "    # Create test data of given size\n",
    "    data = np.linspace(0.0, 10.0, n)\n",
    "    print(f'Running NumPy implementation for N={n}')\n",
    "    # Time the execution\n",
    "    %timeit np.std(data)"
   ]
  },
  {
   "cell_type": "markdown",
   "metadata": {},
   "source": [
    "As you can see, our implementation is fast for small arrays, but substantially slower for arrays of 10,000 elements (by a factor of around 100, depending on hardware & software)."
   ]
  },
  {
   "cell_type": "markdown",
   "metadata": {},
   "source": [
    "# Exercise 2: Locating maximum values\n",
    "\n",
    "In this exercise, you are asked to write a function that returns the position of the largest element from a given sequence (list, tuple, array, etc.).\n",
    "\n",
    "1. Write a function `my_argmax()` that takes as argument a sequence and returns the (first) index\n",
    "   where the maximum value is located. Only use built-in functionality in your implementation (no NumPy).\n",
    "2. Create an array with 101 values constructed using the sine function, \n",
    "\n",
    "   ```python\n",
    "   arr = np.sin(np.linspace(0.0, np.pi, 101))\n",
    "   ```\n",
    "\n",
    "   and use it to test your function.\n",
    "3. Compare the result returned by your function to NumPy's implementation\n",
    "    [`np.argmax()`](https://numpy.org/doc/stable/reference/generated/numpy.argmax.html)."
   ]
  },
  {
   "cell_type": "markdown",
   "metadata": {},
   "source": [
    "### Solution"
   ]
  },
  {
   "cell_type": "markdown",
   "metadata": {},
   "source": [
    "#### Part (1)"
   ]
  },
  {
   "cell_type": "code",
   "execution_count": 7,
   "metadata": {},
   "outputs": [],
   "source": [
    "def my_argmax(x):\n",
    "    \"\"\"\n",
    "    Return the location of the (first) maximum element.\n",
    "\n",
    "    Parameters\n",
    "    ----------\n",
    "    x : array-like\n",
    "        A list or array of numerical values.\n",
    "\n",
    "    Returns\n",
    "    -------\n",
    "    int\n",
    "        The index of the first occurrence of the maximum value in x.\n",
    "    \"\"\"\n",
    "\n",
    "    # Initially, the maximum element must be the first one.\n",
    "    imax = 0\n",
    "    xmax = x[0]\n",
    "\n",
    "    # Iterate through REMAINING elements to see if there is a larger one\n",
    "    for i, xi in enumerate(x[1:]):\n",
    "        if xi > xmax:\n",
    "            # Update the location of the maximum if a larger value is found\n",
    "            imax = i \n",
    "            xmax = xi\n",
    "            \n",
    "    return imax"
   ]
  },
  {
   "cell_type": "markdown",
   "metadata": {},
   "source": [
    "#### Part (2)"
   ]
  },
  {
   "cell_type": "code",
   "execution_count": 8,
   "metadata": {},
   "outputs": [],
   "source": [
    "import numpy as np\n",
    "\n",
    "# Construct test array\n",
    "arr = np.sin(np.linspace(0.0, np.pi, 101))"
   ]
  },
  {
   "cell_type": "code",
   "execution_count": 9,
   "metadata": {},
   "outputs": [
    {
     "name": "stdout",
     "output_type": "stream",
     "text": [
      "The maximum is located at index 49 with value = 0.9995065603657316\n"
     ]
    }
   ],
   "source": [
    "# Find maximum location and print the result\n",
    "i = my_argmax(arr)\n",
    "print(f'The maximum is located at index {i} with value = {arr[i]}')"
   ]
  },
  {
   "cell_type": "markdown",
   "metadata": {},
   "source": [
    "#### Part (3)"
   ]
  },
  {
   "cell_type": "code",
   "execution_count": 10,
   "metadata": {},
   "outputs": [
    {
     "name": "stdout",
     "output_type": "stream",
     "text": [
      "The maximum is located at index 49 with value = 0.9995065603657316\n"
     ]
    }
   ],
   "source": [
    "# Find location using NumPy's argmax()\n",
    "j = np.argmax(arr)\n",
    "print(f'The maximum is located at index {i} with value = {arr[i]}')"
   ]
  },
  {
   "cell_type": "markdown",
   "metadata": {},
   "source": [
    "# Exercise 3: Two-period consumption-savings problem\n",
    "\n",
    "This exercise asks you to find the utility-maximizing consumption levels\n",
    "using grid search, an algorithm that evaluates all possible\n",
    "alternatives from a given set (the \"grid\") to locate the maximum.\n",
    "\n",
    "Consider the following standard consumption-savings problem over\n",
    "two periods with lifetime utility $U(c_1, c_2)$ given by\n",
    "$$\n",
    "\\begin{aligned}\n",
    "\\max_{c_1,~c_2} \\quad & U(c_1, c_2) = u(c_1) + \\beta u(c_2) \\\\\n",
    "\\text{s.t.} \\quad c_1 &+ \\frac{c_2}{1+r} = w \\\\\n",
    "    c_1 &\\geq 0, ~ c_2 \\geq 0\n",
    "\\end{aligned}\n",
    "$$\n",
    "where $\\beta$ is the discount factor,\n",
    "$r$ is the interest rate,\n",
    "$w$ is initial wealth, $(c_1,c_2)$ is the optimal consumption allocation\n",
    "to be determined. \n",
    "The second line is the budget constraint which ensures that the chosen\n",
    "consumption bundle $(c_1, c_2)$ is feasible.\n",
    "The per-period CRRA utility function $u(c)$ is given by\n",
    "$$\n",
    "u(c) = \\begin{cases}\n",
    "    \\frac{c^{1-\\gamma}}{1-\\gamma} & \\text{if } \\gamma \\neq 1 \\\\\n",
    "    \\log(c) & \\text{if } \\gamma = 1\n",
    "    \\end{cases}\n",
    "$$\n",
    "where $\\gamma$ is the coefficient of relative risk aversion (RRA) and \n",
    "$\\log(\\bullet)$ denotes the natural logarithm.\n",
    "\n",
    "\n",
    "1. Write a function `util(c, gamma)` which evaluates the per-period utility \n",
    "   $u(c)$ for a given consumption level $c$ and the parameter $\\gamma$.\n",
    "   Make sure to take into account the log case!\n",
    "\n",
    "   *Hint:* You can use the [`np.log()`](https://numpy.org/doc/stable/reference/generated/numpy.log.html) \n",
    "   function from NumPy to compute the natural logarithm.\n",
    "2. Write a function `util_life(c_1, c_2, beta, gamma)` which uses `util()` from above to compute\n",
    "   the lifetime utility $U(c_1, c_2)$ for given consumption levels $(c_1, c_2)$\n",
    "   and parameters.\n",
    "3. Assume that $r=0.04$, $\\beta=0.96$, $\\gamma=1$, and $w=1$. \n",
    "    \n",
    "    - Create a candidate array (grid) of period-1 consumption levels with 100 grid points with \n",
    "        are uniformly spaced on the on the interval $[\\epsilon, w-\\epsilon]$\n",
    "        where $\\epsilon = 10^{-5}$.\n",
    "\n",
    "        Note that we enforce a minimum consuption level $\\epsilon$, as zero consumption\n",
    "        yields $-\\infty$ utility for the given preferences which can never be optimal.\n",
    "        \n",
    "    - Compute the implied array of period-2 consumption levels from the budget constraint.\n",
    "    - Given these candidate consumption levels, use the function `util_life()` you \n",
    "      wrote earlier to evaluate lifetime utility for each bundle of consumption levels $(c_1, c_2)$.\n",
    "\n",
    "4.  Use the function\n",
    "    [`np.argmax()`](https://numpy.org/doc/stable/reference/generated/numpy.argmax.html)\n",
    "    to locale the index at which lifetime utility is maximized.\n",
    "    Print the maximizing consumption levels $(c_1, c_2)$ as well as the \n",
    "    associated maximized utility level."
   ]
  },
  {
   "cell_type": "markdown",
   "metadata": {},
   "source": [
    "### Solution"
   ]
  },
  {
   "cell_type": "markdown",
   "metadata": {},
   "source": [
    "#### Part (1)"
   ]
  },
  {
   "cell_type": "code",
   "execution_count": 11,
   "metadata": {},
   "outputs": [],
   "source": [
    "import numpy as np\n",
    "\n",
    "def util(c, gamma):\n",
    "    \"\"\"\n",
    "    Return per-period utility for given consumption level c.\n",
    "    \"\"\"\n",
    "    if gamma == 1:\n",
    "        # Utility for log preferences\n",
    "        u = np.log(c)\n",
    "    else:\n",
    "        # Utility for general CRRA preferences\n",
    "        u = c**(1.0 - gamma) / (1.0 - gamma)\n",
    "\n",
    "    return u"
   ]
  },
  {
   "cell_type": "markdown",
   "metadata": {},
   "source": [
    "#### Part (2)"
   ]
  },
  {
   "cell_type": "code",
   "execution_count": 12,
   "metadata": {},
   "outputs": [],
   "source": [
    "def util_life(c1, c2, beta, gamma):\n",
    "    \"\"\"\n",
    "    Return lifetime utility for given consumption levels.\n",
    "    \"\"\"\n",
    "\n",
    "    # Utility in period 1\n",
    "    u1 = util(c1, gamma)\n",
    "\n",
    "    # Utility in period 2\n",
    "    u2 = util(c2, gamma)\n",
    "\n",
    "    # Lifetime utility\n",
    "    U = u1 + beta * u2\n",
    "\n",
    "    return U"
   ]
  },
  {
   "cell_type": "markdown",
   "metadata": {},
   "source": [
    "#### Part (3)"
   ]
  },
  {
   "cell_type": "code",
   "execution_count": 13,
   "metadata": {},
   "outputs": [],
   "source": [
    "# Parameters\n",
    "r = 0.04\n",
    "beta = 0.96\n",
    "gamma = 1.0\n",
    "\n",
    "# Initial wealth\n",
    "wealth = 1.0"
   ]
  },
  {
   "cell_type": "markdown",
   "metadata": {},
   "source": [
    "We can now create the candidate grid for period-1 consumption. Period-2 consumption then follows from the budget constraint.\n",
    "The candidate grid is created on the interval $[\\epsilon, w - \\epsilon]$ for a small value of epsilon. The reason for this is two-fold:\n",
    "\n",
    "1.  With CRRA preferences, zero consumption yields $-\\infty$ utility which cannot be optimal.\n",
    "2.  Moreover, trying to evaluate `np.log(0)` generates warnings which we wish to avoid.\n",
    "\n",
    "We avoid these complications by creating a grid of candidate consumption levels on the interval $[\\epsilon, w-\\epsilon]$ instead of $[0, w]$."
   ]
  },
  {
   "cell_type": "code",
   "execution_count": 14,
   "metadata": {},
   "outputs": [],
   "source": [
    "# Grid size\n",
    "N = 100\n",
    "\n",
    "# Minimum consumption level\n",
    "epsilon = 1.0e-5\n",
    "\n",
    "# Candidate grid for period-1 consumption\n",
    "c1_grid = np.linspace(epsilon, wealth - epsilon, N)\n",
    "\n",
    "# Candidate grid for period-2 consumption (from budget constraint)\n",
    "c2_grid = (1+r) * (wealth - c1_grid)"
   ]
  },
  {
   "cell_type": "markdown",
   "metadata": {},
   "source": [
    "With the consumption grids at hand, we can evaluate the lifetime utility for each alternative."
   ]
  },
  {
   "cell_type": "code",
   "execution_count": 15,
   "metadata": {},
   "outputs": [],
   "source": [
    "# Evaluate lifetime utility for each (c1, c2)\n",
    "u_grid = util_life(c1_grid, c2_grid, beta, gamma)"
   ]
  },
  {
   "cell_type": "markdown",
   "metadata": {},
   "source": [
    "#### Part (4)"
   ]
  },
  {
   "cell_type": "code",
   "execution_count": 16,
   "metadata": {},
   "outputs": [
    {
     "name": "stdout",
     "output_type": "stream",
     "text": [
      "Utility is maximized at c1=0.515, c2=0.504 with u=-1.32060e+00\n"
     ]
    }
   ],
   "source": [
    "# Find maximum\n",
    "imax = np.argmax(u_grid)\n",
    "\n",
    "# Recover the maximizing consumption levels and utility\n",
    "c1_max = c1_grid[imax]\n",
    "c2_max = c2_grid[imax]\n",
    "u_max = u_grid[imax]\n",
    "\n",
    "# Report consumption levels and utility at maximum\n",
    "print(f'Utility is maximized at c1={c1_max:.3f}, c2={c2_max:.3f} with u={u_max:.5e}')"
   ]
  }
 ],
 "metadata": {
  "kernelspec": {
   "display_name": "FIE463",
   "language": "python",
   "name": "python3"
  },
  "language_info": {
   "codemirror_mode": {
    "name": "ipython",
    "version": 3
   },
   "file_extension": ".py",
   "mimetype": "text/x-python",
   "name": "python",
   "nbconvert_exporter": "python",
   "pygments_lexer": "ipython3",
   "version": "3.12.8"
  }
 },
 "nbformat": 4,
 "nbformat_minor": 2
}
