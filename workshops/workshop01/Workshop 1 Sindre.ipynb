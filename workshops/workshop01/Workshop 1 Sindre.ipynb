{
 "cells": [
  {
   "cell_type": "markdown",
   "metadata": {},
   "source": [
    "# Type conversions11\n",
    "\n",
    "In the lecture, we discussed the basic built-in data types: integers, floating-point numbers, booleans, and strings. Python allows us to convert one type to another using the following functions:\n",
    "\n",
    "- [`int()`](https://docs.python.org/3/library/functions.html#int) converts its argument to an integer.\n",
    "- [`float()`](https://docs.python.org/3/library/functions.html#float) converts its argument to a floating-point number. \n",
    "- [`bool()`](https://docs.python.org/3/library/functions.html#bool) converts its argument to a boolean.\n",
    "- [`str()`](https://docs.python.org/3/library/stdtypes.html#str) converts its argument to a string.\n",
    "\n",
    "These conversions mostly work in an intuitive fashion, with some exceptions.\n",
    "\n",
    "1.  Define a string variable `s` with the value `'1.1'`. Convert this variable to integer, float, and boolean.\n",
    "2.  Define the string variables `s1`, `s2`, and `s3` with values `'True'`, `'False'`, and `''` (empty string), respectively. Convert each of these to boolean. Can you guess the conversion rule?\n",
    "3.  Define a floating-point variable `x` with the value `0.9`. Convert this variable to integer, boolean, and string.\n",
    "4.  Define the integer variables `i1` and `i2` with values `0` and `2`, respectively. Convert each of these variables to boolean.\n",
    "5.   Define the boolean variables `b1` and `b2` with values `True` and `False`, respectively. Convert each of them to integer.\n",
    "6.  NumPy arrays cannot be converted using `int()`, `float()`, etc. Instead, we have to use the \n",
    "    method [`astype()`](https://numpy.org/doc/stable/reference/generated/numpy.ndarray.astype.html) \n",
    "    and pass the desired data type (e.g., `int`, `float`, `bool`) as an argument.\n",
    "    Create a NumPy array called `arr` with elements `[0.0, 0.5, 1.0]` and convert it to integer\n",
    "    and boolean type.\n"
   ]
  },
  {
   "cell_type": "code",
   "execution_count": 68,
   "metadata": {},
   "outputs": [],
   "source": [
    "# Define the string variable\n",
    "s = '1.1'"
   ]
  },
  {
   "cell_type": "code",
   "execution_count": 69,
   "metadata": {},
   "outputs": [
    {
     "data": {
      "text/plain": [
       "1.1"
      ]
     },
     "execution_count": 69,
     "metadata": {},
     "output_type": "execute_result"
    }
   ],
   "source": [
    "# Attempt to convert to interger: This fails because string contains decimal digits\n",
    "float(s)"
   ]
  },
  {
   "cell_type": "code",
   "execution_count": 70,
   "metadata": {},
   "outputs": [
    {
     "data": {
      "text/plain": [
       "True"
      ]
     },
     "execution_count": 70,
     "metadata": {},
     "output_type": "execute_result"
    }
   ],
   "source": [
    "#Convert to boolean: This returns True because any non-empy string is considered True\n",
    "bool(s)\n"
   ]
  },
  {
   "cell_type": "markdown",
   "metadata": {},
   "source": [
    "# Working with strings\n",
    "\n",
    "Strings in Python are full-fledged objects, i.e., they contain both the character data as well as additional functionality implemented via functions or so-called _methods_.\n",
    "The official [documentation](https://docs.python.org/3/library/stdtypes.html#string-methods) \n",
    "provides a comprehensive list of these methods. For our purposes, the most important are:\n",
    "\n",
    "- [`str.lower()`](https://docs.python.org/3/library/stdtypes.html#str.lower) \n",
    "    and \n",
    "  [`str.upper()`](https://docs.python.org/3/library/stdtypes.html#str.upper)\n",
    "  convert the string to lower or upper case, respectively.\n",
    "- [`str.strip()`](https://docs.python.org/3/library/stdtypes.html#str.strip) \n",
    "  removes any leading or trailing whitespace characters from a string.\n",
    "- [`str.count()`](https://docs.python.org/3/library/stdtypes.html#str.count)\n",
    "  returns the number of occurrences of a substring within a string.\n",
    "- [`str.startswith()`](https://docs.python.org/3/library/stdtypes.html#str.startswith) \n",
    "    and \n",
    "  [`str.endswith()`](https://docs.python.org/3/library/stdtypes.html#str.endswith) \n",
    "  check whether a string starts or ends with a given substring.\n",
    "\n",
    "Moreover, strings are also sequences, and as such support indexing in the \n",
    "same way as lists or tuples.\n",
    "\n",
    "Create a string variable with the value \n",
    "```python\n",
    "s = '  NHH Norwegian School of Economics  '\n",
    "```\n",
    "and perform the following tasks:\n",
    "\n",
    "1. Strip and surrounding spaces from the string using `strip()`.\n",
    "2. Count the number of `'H'` in the string.\n",
    "3. Modify your code so that it is case-insensitive, i.e., both instances of \n",
    "   `'h'` and `'H'` are counted.\n",
    "4. Reverse the string, i.e., the last character should come first, and so on.\n",
    "5. Create a new string which contains every 2nd letter from the original.\n",
    "6. Select the last character from this new string using at least two different methods.\n"
   ]
  },
  {
   "cell_type": "code",
   "execution_count": 71,
   "metadata": {},
   "outputs": [
    {
     "data": {
      "text/plain": [
       "'NHH Norwegian School of Economics'"
      ]
     },
     "execution_count": 71,
     "metadata": {},
     "output_type": "execute_result"
    }
   ],
   "source": [
    "#Define the string variable\n",
    "s= ' NHH Norwegian School of Economics'\n",
    "\n",
    "#Strip leading and trailing whitespaces\n",
    "s = s.strip()\n",
    "s"
   ]
  },
  {
   "cell_type": "code",
   "execution_count": 72,
   "metadata": {},
   "outputs": [
    {
     "data": {
      "text/plain": [
       "2"
      ]
     },
     "execution_count": 72,
     "metadata": {},
     "output_type": "execute_result"
    }
   ],
   "source": [
    "#Count the number of H in the string\n",
    "s.count('H')\n"
   ]
  },
  {
   "cell_type": "code",
   "execution_count": 73,
   "metadata": {},
   "outputs": [
    {
     "data": {
      "text/plain": [
       "3"
      ]
     },
     "execution_count": 73,
     "metadata": {},
     "output_type": "execute_result"
    }
   ],
   "source": [
    "#We first onvert the string to lower case, then look for the number of h\n",
    "s.lower().count('h')\n"
   ]
  },
  {
   "cell_type": "code",
   "execution_count": 74,
   "metadata": {},
   "outputs": [
    {
     "data": {
      "text/plain": [
       "'scimonocE fo loohcS naigewroN HHN'"
      ]
     },
     "execution_count": 74,
     "metadata": {},
     "output_type": "execute_result"
    }
   ],
   "source": [
    "#Reverse the string\n",
    "s[::-1]\n"
   ]
  },
  {
   "cell_type": "code",
   "execution_count": null,
   "metadata": {},
   "outputs": [],
   "source": []
  },
  {
   "cell_type": "markdown",
   "metadata": {},
   "source": [
    "# Summing lists and arrays\n",
    "\n",
    "In this exercise, we investigate an additional difference between built-in lists and NumPy arrays: performance.\n",
    "You are asked to investigate performance differences for different implementations of the `sum()` function.\n",
    "\n",
    "1. Create a list `lst` and a NumPy array `arr`, each of them containing the sequence \n",
    "   of ten values `0, 1, 2, ..., 9`.\n",
    "\n",
    "   *Hint*: You can use the list constructor [`list()`](https://www.w3schools.com/python/ref_func_list.asp)\n",
    "   and combine it with the [`range()`](https://docs.python.org/3/library/functions.html#func-range)\n",
    "   function which returns an objecting representing a range of integers.\n",
    "\n",
    "   *Hint:* You should create the NumPy array using \n",
    "   [`np.arange()`](https://numpy.org/doc/stable/reference/generated/numpy.arange.html).\n",
    "\n",
    "2. We want to compute the sum of integers contained in `lst` and `arr`. Use \n",
    "   the built-in function [`sum()`](https://www.w3schools.com/python/ref_func_sum.asp)\n",
    "   to sum elements of a list.\n",
    "   For the NumPy array, use the NumPy function \n",
    "   [`np.sum()`](https://numpy.org/doc/stable/reference/generated/numpy.sum.html).\n",
    "\n",
    "3. You are interested in benchmarking which summing function is faster.\n",
    "    Repeat the steps from above, but use the cell magic \n",
    "    [`%timeit`](https://ipython.readthedocs.io/en/stable/interactive/magics.html#magic-timeit)\n",
    "    to time the execution of a statement as follows:\n",
    "\n",
    "    ```python\n",
    "    %timeit statement\n",
    "    ```\n",
    "\n",
    "4.  Recreate the list and array to contain 100 integers starting from 0,\n",
    "    and rerun the benchmark.\n",
    "\n",
    "5.  Recreate the list and array to contain 10,000 integers starting from 0,\n",
    "    and rerun the benchmark.\n",
    "\n",
    "\n",
    "What do you conclude about the relative performance of built-in lists \n",
    "vs. NumPy arrays?"
   ]
  },
  {
   "cell_type": "code",
   "execution_count": 75,
   "metadata": {},
   "outputs": [],
   "source": [
    "#Create a list with 10 elements 0,1,2,3,4,5,6,7,8,9\n",
    "lst = list(range(10))\n"
   ]
  },
  {
   "cell_type": "code",
   "execution_count": 76,
   "metadata": {},
   "outputs": [],
   "source": [
    "import numpy as np\n",
    "#Create array with 10 elements 0,1,2,3,4,5,6,7,8,9\n",
    "arr = np.array(range(10))"
   ]
  },
  {
   "cell_type": "code",
   "execution_count": 77,
   "metadata": {},
   "outputs": [
    {
     "data": {
      "text/plain": [
       "45"
      ]
     },
     "execution_count": 77,
     "metadata": {},
     "output_type": "execute_result"
    }
   ],
   "source": [
    "#Sum list using built-in sum function ()\n",
    "sum(lst)\n"
   ]
  },
  {
   "cell_type": "code",
   "execution_count": 78,
   "metadata": {},
   "outputs": [
    {
     "data": {
      "text/plain": [
       "np.int64(45)"
      ]
     },
     "execution_count": 78,
     "metadata": {},
     "output_type": "execute_result"
    }
   ],
   "source": [
    "#Sum the numpy array using built-in sum function ()\n",
    "np.sum(arr)\n"
   ]
  },
  {
   "cell_type": "code",
   "execution_count": 79,
   "metadata": {},
   "outputs": [
    {
     "name": "stdout",
     "output_type": "stream",
     "text": [
      "205 ns ± 12.9 ns per loop (mean ± std. dev. of 7 runs, 1,000,000 loops each)\n"
     ]
    }
   ],
   "source": [
    "#benchmark suming list using built-in sum function\n",
    "%timeit sum(lst)"
   ]
  },
  {
   "cell_type": "code",
   "execution_count": 80,
   "metadata": {},
   "outputs": [
    {
     "name": "stdout",
     "output_type": "stream",
     "text": [
      "6.44 μs ± 396 ns per loop (mean ± std. dev. of 7 runs, 100,000 loops each)\n"
     ]
    }
   ],
   "source": [
    "%timeit np.sum(arr)\n"
   ]
  },
  {
   "cell_type": "code",
   "execution_count": 81,
   "metadata": {},
   "outputs": [],
   "source": [
    "N = 100\n",
    "lst = list(range(N))\n",
    "arr = np.arange(N)"
   ]
  },
  {
   "cell_type": "code",
   "execution_count": 82,
   "metadata": {},
   "outputs": [
    {
     "name": "stdout",
     "output_type": "stream",
     "text": [
      "723 ns ± 94.3 ns per loop (mean ± std. dev. of 7 runs, 1,000,000 loops each)\n"
     ]
    }
   ],
   "source": [
    "%timeit sum(lst)"
   ]
  },
  {
   "cell_type": "code",
   "execution_count": 83,
   "metadata": {},
   "outputs": [
    {
     "name": "stdout",
     "output_type": "stream",
     "text": [
      "9.4 μs ± 819 ns per loop (mean ± std. dev. of 7 runs, 100,000 loops each)\n"
     ]
    }
   ],
   "source": [
    "%timeit np.sum(arr)"
   ]
  }
 ],
 "metadata": {
  "kernelspec": {
   "display_name": "Python 3",
   "language": "python",
   "name": "python3"
  },
  "language_info": {
   "codemirror_mode": {
    "name": "ipython",
    "version": 3
   },
   "file_extension": ".py",
   "mimetype": "text/x-python",
   "name": "python",
   "nbconvert_exporter": "python",
   "pygments_lexer": "ipython3",
   "version": "3.11.9"
  }
 },
 "nbformat": 4,
 "nbformat_minor": 2
}
