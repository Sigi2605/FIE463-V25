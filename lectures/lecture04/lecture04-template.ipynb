{
 "cells": [
  {
   "cell_type": "markdown",
   "metadata": {},
   "source": [
    "# Last week: Functions and modules\n",
    "\n",
    "## Functions\n",
    "\n",
    "-   Allow for code reuse\n",
    "-   Allow for robust code:\n",
    "\n",
    "    -   Local scope\n",
    "    -   Clear interface via arguments & return values\n",
    "-   Various argument types: \n",
    "\n",
    "    ```python\n",
    "    def func(x, opt='default', *args, **kwargs)`\n",
    "        pass\n",
    "    ```\n",
    "-   `lambda` expressions: short-hand syntax to declare functions\n",
    "\n",
    "## Modules\n",
    "\n",
    "-   Every Python file (`*.py`) or Jupyter notebook (`*.ipynb`) constitutes a module\n",
    "-   Modules bundle related code within one scope\n",
    "-   Need to be imported before use:\n",
    "\n",
    "    ```python\n",
    "    import mymodule\n",
    "    import mymodule as mm\n",
    "    from mymodule import myfunction\n",
    "    from mymodule import myfunction as f\n",
    "    ```"
   ]
  },
  {
   "cell_type": "markdown",
   "metadata": {},
   "source": [
    "***\n",
    "# Random number generation\n",
    "\n",
    "## Random number generators\n",
    "\n",
    "Ways to draw random numbers in Python:\n",
    "\n",
    "1.  NumPy: [*new* programming interface](https://numpy.org/doc/stable/reference/random/generator.html) \n",
    "2.  NumPy: [*legacy* programming interface](https://numpy.org/doc/stable/reference/random/legacy.html) (don't use)\n",
    "3.  Python standard library: [`random`](https://docs.python.org/3/library/random.html#random.random) module (don't use)\n",
    "\n",
    "**A note on random number generation**\n",
    "\n",
    "-   Random numbers drawn on computer are almost never truly random\n",
    "-   Sometimes referred to as *\"pseudo\"* random numbers"
   ]
  },
  {
   "cell_type": "markdown",
   "metadata": {},
   "source": [
    "***\n",
    "### Simple random data generation\n",
    "\n",
    "-   Create RNG instance using [`default_rng()`](https://numpy.org/doc/stable/reference/random/generator.html#numpy.random.default_rng)\n"
   ]
  },
  {
   "cell_type": "markdown",
   "metadata": {},
   "source": [
    "*Example: drawing random floats from [0, 1)*\n",
    "\n",
    "- Use [`random()`](https://numpy.org/doc/stable/reference/random/generated/numpy.random.Generator.random.html)"
   ]
  },
  {
   "cell_type": "markdown",
   "metadata": {},
   "source": [
    "*Example: drawing random floats using same seed*"
   ]
  },
  {
   "cell_type": "markdown",
   "metadata": {},
   "source": [
    "*Example: drawing random integers*\n",
    "\n",
    "- Use [`integers()`](https://numpy.org/doc/stable/reference/random/generated/numpy.random.Generator.integers.html)"
   ]
  },
  {
   "cell_type": "markdown",
   "metadata": {},
   "source": [
    "*Example: drawing higher-dimensional arrays*\n",
    "\n",
    "- Use the `size=` argument to specify shape of resulting array"
   ]
  },
  {
   "cell_type": "markdown",
   "metadata": {},
   "source": [
    "***\n",
    "### Drawing random numbers from distributions\n",
    "\n",
    "NumPy supports numerous distributions ([complete list](https://numpy.org/doc/stable/reference/random/generator.html#distributions)):\n",
    "\n",
    "-   [`binomial()`](https://numpy.org/doc/stable/reference/random/generated/numpy.random.RandomState.binomial.html)\n",
    "-   [`exponential()`](https://numpy.org/doc/stable/reference/random/generated/numpy.random.RandomState.exponential.html)\n",
    "-   [`normal()`](https://numpy.org/doc/stable/reference/random/generated/numpy.random.RandomState.normal.html)\n",
    "-   [`lognormal()`](https://numpy.org/doc/stable/reference/random/generated/numpy.random.RandomState.lognormal.html)\n",
    "-   [`multivariate_normal()`](https://numpy.org/doc/stable/reference/random/generated/numpy.random.RandomState.multivariate_normal.html)\n",
    "-   [`uniform()`](https://numpy.org/doc/stable/reference/random/generated/numpy.random.RandomState.uniform.html)\n",
    "-   [`standard_t()`](https://numpy.org/doc/stable/reference/random/generated/numpy.random.Generator.standard_t.html)"
   ]
  },
  {
   "cell_type": "markdown",
   "metadata": {},
   "source": [
    "*Example: Drawing from a normal distribution*\n",
    "\n",
    "- Mean $\\mu=1.0$, standard deviation $\\sigma=0.5$"
   ]
  },
  {
   "cell_type": "markdown",
   "metadata": {},
   "source": [
    "*Example: Drawing from a multivariate normal distribution*\n",
    "\n",
    "-   Mean $\\mathbf{\\mu} = \\begin{bmatrix} 0 \\\\ 1\\end{bmatrix}$,\n",
    "    variance-covariance matrix\n",
    "$\\mathbf{\\Sigma} =\\begin{bmatrix} \\sigma_1^2 & \\rho \\sigma_1\\sigma_2 \\\\ \\rho\\sigma_1\\sigma_2 & \\sigma_2^2\\end{bmatrix}$\n",
    "with $\\sigma_1 = 0.5$, $\\sigma_2 = 1.0$ and $\\rho = 0.5$"
   ]
  },
  {
   "cell_type": "markdown",
   "metadata": {},
   "source": [
    "<div class=\"alert alert-info\">\n",
    "<h3> Your turn</h3>\n",
    "\n",
    "Use the <a href=\"https://numpy.org/doc/stable/reference/random/generated/numpy.random.RandomState.uniform.html\"><tt>uniform()</tt></a> function from NumPy to draw a sample of 10 uniformly distributed\n",
    "numbers on the interval [-1, 1]. Use a seed of 456 for this exercise.\n",
    "\n",
    "</div>"
   ]
  },
  {
   "attachments": {},
   "cell_type": "markdown",
   "metadata": {
    "collapsed": true,
    "pycharm": {
     "name": "#%% md\n"
    }
   },
   "source": [
    "***\n",
    "# Plotting with Matplotlib\n",
    "\n",
    "- Matplotlib is the standard plotting library for Python\n",
    "- Not part of core Python, needs to be installed (e.g., via Anaconda) and imported:\n",
    "\n",
    "    ```python\n",
    "    import matplotlib.pyplot as plt\n",
    "    ```\n",
    "- Higher-level alternative: [seaborn](https://seaborn.pydata.org/)"
   ]
  },
  {
   "attachments": {},
   "cell_type": "markdown",
   "metadata": {
    "pycharm": {
     "name": "#%% md\n"
    }
   },
   "source": [
    "***\n",
    "## Line plots\n",
    "\n",
    "- Use [`plot()`](https://matplotlib.org/stable/api/_as_gen/matplotlib.pyplot.plot.html)"
   ]
  },
  {
   "cell_type": "markdown",
   "metadata": {},
   "source": [
    "*Example: plotting single line*"
   ]
  },
  {
   "cell_type": "markdown",
   "metadata": {},
   "source": [
    "### Plot styles"
   ]
  },
  {
   "attachments": {},
   "cell_type": "markdown",
   "metadata": {
    "pycharm": {
     "name": "#%% md\n"
    }
   },
   "source": [
    "*Main colors*\n",
    "(see [here](https://matplotlib.org/stable/tutorials/colors/colors.html) for details,\n",
    "    see [here](https://matplotlib.org/stable/gallery/color/named_colors.html#base-colors) for list of named colors):\n",
    "\n",
    "- `b`: blue\n",
    "- `g`: green\n",
    "- `r`: red\n",
    "- `c`: cyan\n",
    "- `m`: magenta\n",
    "- `y`: yellow\n",
    "- `k`: black\n",
    "- `w`: white\n",
    "\n",
    "*Line styles:*\n",
    "\n",
    "-   `-` solid line\n",
    "-   `--` dashed line\n",
    "-   `-.` dash-dotted line\n",
    "-   `:` dotted line\n",
    "\n",
    "*Marker styles ([complete list](https://matplotlib.org/stable/api/markers_api.html)):*\n",
    "\n",
    "- `o`: circle\n",
    "- `s`: square\n",
    "- `*`: star\n",
    "- `x`: x\n",
    "- `d`: (thin) diamond"
   ]
  },
  {
   "cell_type": "markdown",
   "metadata": {},
   "source": [
    "*Example: Multiple lines in single plot()*"
   ]
  },
  {
   "cell_type": "markdown",
   "metadata": {},
   "source": [
    "*Example: Multiple plot() calls*"
   ]
  },
  {
   "cell_type": "markdown",
   "metadata": {},
   "source": [
    "*Example: styling with keyword arguments*\n",
    "\n",
    "-   See section on _Other Parameters_ in [`plot()`](https://matplotlib.org/stable/api/_as_gen/matplotlib.pyplot.plot.html)\n",
    "-   Keyword arguments can be abbreviated:\n",
    "\n",
    "    - `c` or `color`\n",
    "    - `ls` or `linestyle`\n",
    "    - `lw` or `linewidth`\n",
    "    - `ms` or `markersize`"
   ]
  },
  {
   "cell_type": "markdown",
   "metadata": {},
   "source": [
    "<div class=\"alert alert-info\">\n",
    "<h3> Your turn</h3>\n",
    "Consider the standard CRRA utility function given by u(c) = c<sup>1-γ</sup> / (1-γ).\n",
    "\n",
    "Create a graph that shows function over the interval [0.1, 2] containing two lines for two distinct values of γ:\n",
    "<ol>\n",
    "    <li>γ = 1.1 using a blue dashed line with a line width of 0.5.</li>\n",
    "    <li>γ = 2 using an orange line with line width of 0.75.</li>\n",
    "</ol>\n",
    "</div>"
   ]
  },
  {
   "attachments": {},
   "cell_type": "markdown",
   "metadata": {},
   "source": [
    "***\n",
    "## Scatter plots"
   ]
  },
  {
   "cell_type": "markdown",
   "metadata": {},
   "source": [
    "- Use [`scatter()`](https://matplotlib.org/stable/api/_as_gen/matplotlib.pyplot.scatter.html) "
   ]
  },
  {
   "cell_type": "markdown",
   "metadata": {},
   "source": [
    "*Example: Scatter y-values randomly drawn from [0, 1)*"
   ]
  },
  {
   "cell_type": "markdown",
   "metadata": {},
   "source": [
    "*Example: Scatter with marker sizes randomly drawn from [0, 150)*"
   ]
  },
  {
   "cell_type": "markdown",
   "metadata": {},
   "source": [
    "<div class=\"alert alert-info\">\n",
    "<h3> Your turn</h3>\n",
    "\n",
    "\n",
    "Recall the example on how to draw a sample from a multivariate normal distribution \n",
    "covered in the previous section.\n",
    "\n",
    "<ol>\n",
    "    <li>Repeat the exercise, but now draw a sample of size 100.</li>\n",
    "    <li>Visualize the first vs. the second dimension of this random sample as a scatter plot.</li>\n",
    "</ol>\n",
    "</div>"
   ]
  },
  {
   "cell_type": "markdown",
   "metadata": {},
   "source": [
    "***\n",
    "\n",
    "## Histograms\n",
    "\n",
    "- Use [`hist()`](https://matplotlib.org/stable/api/_as_gen/matplotlib.pyplot.hist.html)"
   ]
  },
  {
   "cell_type": "markdown",
   "metadata": {},
   "source": [
    "*Example: Histogram of normal draws*\n",
    "\n",
    "- Draw 100 points from normal distribution and plot as histogram"
   ]
  },
  {
   "attachments": {},
   "cell_type": "markdown",
   "metadata": {
    "pycharm": {
     "name": "#%% md\n"
    }
   },
   "source": [
    "***\n",
    "## Plotting categorical data\n",
    "\n",
    "- Create bar charts with [`bar()`](https://matplotlib.org/stable/api/_as_gen/matplotlib.pyplot.bar.html)"
   ]
  },
  {
   "cell_type": "markdown",
   "metadata": {},
   "source": [
    "*Example: Population sizes by municipality*\n",
    "\n",
    "- Municipalities: `'Oslo', 'Bergen', 'Trondheim', 'Stavanger'`\n",
    "- Population: 717710, 291940,  214565, 149048"
   ]
  },
  {
   "cell_type": "markdown",
   "metadata": {},
   "source": [
    "*Example: Horizontal bar charts*\n",
    "\n",
    "- Use [`barh()`](https://matplotlib.org/stable/api/_as_gen/matplotlib.pyplot.barh.html)"
   ]
  },
  {
   "attachments": {},
   "cell_type": "markdown",
   "metadata": {
    "pycharm": {
     "name": "#%% md\n"
    }
   },
   "source": [
    "***\n",
    "## Adding labels and annotations\n",
    "\n",
    "-   Titles: [`title()`](https://matplotlib.org/stable/api/_as_gen/matplotlib.pyplot.title.html) \n",
    "    and [`suptitle()`](https://matplotlib.org/stable/api/_as_gen/matplotlib.pyplot.suptitle.html) \n",
    "-   Axes labels:\n",
    "    [`xlabel()`](https://matplotlib.org/stable/api/_as_gen/matplotlib.pyplot.xlabel.html) \n",
    "    and [`ylabel()`](https://matplotlib.org/stable/api/_as_gen/matplotlib.pyplot.ylabel.html)\n",
    "-   Legend: \n",
    "    [`legend()`](https://matplotlib.org/stable/api/_as_gen/matplotlib.pyplot.legend.html)\n",
    "-   Add text at arbitrary position: [`text()`](https://matplotlib.org/stable/api/_as_gen/matplotlib.pyplot.text.html)"
   ]
  },
  {
   "attachments": {},
   "cell_type": "markdown",
   "metadata": {
    "pycharm": {
     "name": "#%% md\n"
    }
   },
   "source": [
    "***\n",
    "## Plot limits, ticks and tick labels\n",
    "\n",
    "-   Plot limits:\n",
    "    [`xlim()`](https://matplotlib.org/stable/api/_as_gen/matplotlib.pyplot.xlim.html) and \n",
    "    [`ylim()`](https://matplotlib.org/stable/api/_as_gen/matplotlib.pyplot.ylim.html)\n",
    "-   Ticks and tick labels:\n",
    "    [`xticks()`](https://matplotlib.org/stable/api/_as_gen/matplotlib.pyplot.xticks.html) \n",
    "    and [`yticks()`](https://matplotlib.org/stable/api/_as_gen/matplotlib.pyplot.yticks.html)\n"
   ]
  },
  {
   "cell_type": "markdown",
   "metadata": {},
   "source": [
    "*Example: sine function plotted on $[0, 2\\pi]$*"
   ]
  },
  {
   "attachments": {},
   "cell_type": "markdown",
   "metadata": {},
   "source": [
    "***\n",
    "\n",
    "## Adding straight lines\n",
    "\n",
    "- Horizontal lines: [`axhline()`](https://matplotlib.org/stable/api/_as_gen/matplotlib.pyplot.axhline.html)\n",
    "- Vertical lines: [`axvline()`](https://matplotlib.org/stable/api/_as_gen/matplotlib.pyplot.axvline.html)\n",
    "- Other: [`axline()`](https://matplotlib.org/stable/api/_as_gen/matplotlib.pyplot.axline.html#matplotlib.pyplot.axline)"
   ]
  },
  {
   "attachments": {},
   "cell_type": "markdown",
   "metadata": {},
   "source": [
    "*Example: Adding horizontal and vertical lines*\n",
    "\n",
    "- Add horizontal line at 0, vertical lines at $\\left[\\frac{1}{2}\\pi, \\frac{3}{2}\\pi\\right]$ to previous sine function plot"
   ]
  },
  {
   "attachments": {},
   "cell_type": "markdown",
   "metadata": {},
   "source": [
    "***\n",
    "## Object-oriented interface\n",
    "\n",
    "- Useful for figures with multiple sub-plots\n",
    "- Cleaner interface\n",
    "- Operate on instances of [`Figure`](https://matplotlib.org/stable/api/figure_api.html) \n",
    "    and [`Axes`](https://matplotlib.org/stable/api/axes_api.html) objects\n",
    "- Objects are created with [`subplots()`](https://matplotlib.org/stable/api/_as_gen/matplotlib.pyplot.subplots.html) function:\n",
    "    ```python\n",
    "    fig, ax = plt.subplots()\n",
    "    ```"
   ]
  },
  {
   "cell_type": "markdown",
   "metadata": {},
   "source": [
    "*Example: Recreate annotation example using OO interface*"
   ]
  },
  {
   "cell_type": "markdown",
   "metadata": {},
   "source": [
    "<div class=\"alert alert-info\">\n",
    "<h3> Your turn</h3>\n",
    "\n",
    "Recall the example from above in which we drew from a normal distribution and visualized the sample using a histogram.\n",
    "\n",
    "<ol>\n",
    "    <li>Repeat these steps, but create the histogram using the object-oriented Matplotlib interface.</li>\n",
    "    <li>Set the x-axis label to 'Realized random number' and the y-axis label to 'Number of observations'.</li>\n",
    "    <li>Add the title 'Histogram of normal draws'.</li>\n",
    "<ol>\n",
    "\n",
    "</div>"
   ]
  },
  {
   "attachments": {},
   "cell_type": "markdown",
   "metadata": {
    "pycharm": {
     "name": "#%% md\n"
    }
   },
   "source": [
    "***\n",
    "## Working with multiple plots (axes)\n",
    "\n",
    "- Use [`subplots()`](https://matplotlib.org/stable/api/_as_gen/matplotlib.pyplot.subplots.html) to obtain multiple sub-plots (axes)"
   ]
  },
  {
   "cell_type": "markdown",
   "metadata": {},
   "source": [
    "*Example: Axes array with 2 columns*"
   ]
  },
  {
   "cell_type": "markdown",
   "metadata": {},
   "source": [
    "*Example: Axes array with 2-by-3 sub-plots*"
   ]
  },
  {
   "attachments": {},
   "cell_type": "markdown",
   "metadata": {},
   "source": [
    "*Example: Create a plot with 2 panels*\n",
    "\n",
    "- Plot 1st and 2nd-degree polynomials"
   ]
  },
  {
   "attachments": {},
   "cell_type": "markdown",
   "metadata": {
    "pycharm": {
     "name": "#%% md\n"
    }
   },
   "source": [
    "*Example: Create a figure with 2 rows and 2 columns*\n",
    "\n",
    "- Plot polynomials of degrees 1 to 4\n",
    "- Use `sharex` and `sharey` to enforce identical axes limits"
   ]
  },
  {
   "cell_type": "markdown",
   "metadata": {},
   "source": [
    "<div class=\"alert alert-info\">\n",
    "<h3> Your turn</h3>\n",
    "Create a figure with 3 columns (on a single row) and plot the following functions\n",
    "on the interval [0, 6]:\n",
    "<ol>\n",
    "    <li>Subplot 1: <i>y = sin(x)</i></li>\n",
    "    <li>Subplot 2: <i>y = sin(2*x)</i></li>\n",
    "    <li>Subplot 3: <i>y = sin(4*x)</i></li>\n",
    "</ol>\n",
    "\n",
    "<i>Hint:</i> The sine function can be imported from NumPy as <TT>np.sin()</T>.\n",
    "</div>"
   ]
  },
  {
   "cell_type": "markdown",
   "metadata": {},
   "source": [
    "***\n",
    "## Plotting with pandas\n",
    "\n",
    " - Pandas is a library to process and analyze data in Python (covered later in the course)\n",
    " - Pandas provides convenience functions for plotting\n"
   ]
  },
  {
   "cell_type": "markdown",
   "metadata": {},
   "source": [
    "### Bar charts\n",
    "\n",
    "- Use pandas's [`plot.bar()`](https://pandas.pydata.org/docs/reference/api/pandas.DataFrame.plot.bar.html):"
   ]
  },
  {
   "cell_type": "markdown",
   "metadata": {},
   "source": [
    "*Example: Plot population of 15 largest municipalities in Norway*"
   ]
  },
  {
   "cell_type": "code",
   "execution_count": null,
   "metadata": {},
   "outputs": [],
   "source": [
    "# Path to local data/ folder\n",
    "DATA_PATH = '../../data'\n",
    "\n",
    "# Path to CSV file\n",
    "filepath = f'{DATA_PATH}/population_norway.csv'"
   ]
  },
  {
   "cell_type": "markdown",
   "metadata": {},
   "source": [
    "*Example: Create bar chart in Matplotlib without pandas*"
   ]
  },
  {
   "cell_type": "markdown",
   "metadata": {},
   "source": [
    "***\n",
    "### Plotting time series data\n",
    "\n",
    "- Use\n",
    "[`DataFrame.plot()`](https://pandas.pydata.org/docs/reference/api/pandas.DataFrame.plot.html) "
   ]
  },
  {
   "cell_type": "markdown",
   "metadata": {},
   "source": [
    "*Example: Plot US unemployment rate*"
   ]
  },
  {
   "cell_type": "code",
   "execution_count": 4,
   "metadata": {},
   "outputs": [],
   "source": [
    "# Path to annual FRED data; DATA_PATH variable was defined above!\n",
    "filepath = f'{DATA_PATH}/FRED/FRED_annual.csv'"
   ]
  },
  {
   "cell_type": "markdown",
   "metadata": {},
   "source": [
    "***\n",
    "### Scatter plots\n",
    "\n",
    "- Use [`DataFrame.plot.scatter()`](https://pandas.pydata.org/docs/reference/api/pandas.DataFrame.plot.scatter.html)"
   ]
  },
  {
   "cell_type": "markdown",
   "metadata": {},
   "source": [
    "*Example: Plot inflation vs. unemployment rate*"
   ]
  },
  {
   "cell_type": "code",
   "execution_count": 5,
   "metadata": {},
   "outputs": [],
   "source": [
    "# Path to annual FRED data; DATA_PATH variable was defined above!\n",
    "filepath = f'{DATA_PATH}/FRED/FRED_annual.csv'"
   ]
  },
  {
   "cell_type": "markdown",
   "metadata": {},
   "source": [
    "*Example: Multiple scatter plots*"
   ]
  },
  {
   "cell_type": "markdown",
   "metadata": {},
   "source": [
    "- Use [`scatter_matrix()`](https://pandas.pydata.org/docs/reference/api/pandas.plotting.scatter_matrix.html)\n"
   ]
  },
  {
   "cell_type": "markdown",
   "metadata": {},
   "source": [
    "*Example: plot unemployment rate vs. inflation vs. Fed Funds Rate*"
   ]
  },
  {
   "cell_type": "code",
   "execution_count": 7,
   "metadata": {},
   "outputs": [],
   "source": [
    "from pandas.plotting import scatter_matrix"
   ]
  },
  {
   "cell_type": "markdown",
   "metadata": {},
   "source": [
    "***\n",
    "### Box plots\n",
    "\n",
    "- Use\n",
    "[`DataFrame.plot.box()`](https://pandas.pydata.org/docs/reference/api/pandas.DataFrame.plot.box.html)\n",
    "- Shows median, interquartile range (25th to 75th percentile) and outliers"
   ]
  },
  {
   "cell_type": "markdown",
   "metadata": {},
   "source": [
    "*Example: Unemployment rate, inflation, and Fed Funds Rate*"
   ]
  },
  {
   "cell_type": "code",
   "execution_count": 6,
   "metadata": {},
   "outputs": [],
   "source": [
    "# Path to annual FRED data; DATA_PATH variable was defined above!\n",
    "filepath = f'{DATA_PATH}/FRED/FRED_annual.csv'"
   ]
  }
 ],
 "metadata": {
  "kernelspec": {
   "display_name": "FIE463",
   "language": "python",
   "name": "python3"
  },
  "language_info": {
   "codemirror_mode": {
    "name": "ipython",
    "version": 3
   },
   "file_extension": ".py",
   "mimetype": "text/x-python",
   "name": "python",
   "nbconvert_exporter": "python",
   "pygments_lexer": "ipython3",
   "version": "3.12.8"
  }
 },
 "nbformat": 4,
 "nbformat_minor": 1
}
