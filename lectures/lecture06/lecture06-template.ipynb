{
 "cells": [
  {
   "cell_type": "markdown",
   "metadata": {},
   "source": [
    "# General equilibrium"
   ]
  },
  {
   "cell_type": "markdown",
   "metadata": {},
   "source": [
    "## Consumption & labor supply"
   ]
  },
  {
   "cell_type": "markdown",
   "metadata": {},
   "source": [
    "***\n",
    "### Household problem (representative household)\n",
    "\n",
    "- Household problem:\n",
    "  $$\n",
    "  \\begin{aligned}\n",
    "  \\max_{c,~ h} \\enskip& \n",
    "    \\left\\{\\frac{c^{1-\\gamma} - 1}{1-\\gamma} - \\psi \\frac{h^{1+1/\\theta}}{1+1/\\theta} \\right\\}\\\\\n",
    "    \\text{subject to} \\quad  c &= r \\cdot a + w\\cdot h \\\\\n",
    "        c &\\geq 0\\;, h \\geq 0\n",
    "  \\end{aligned}\n",
    "  $$\n",
    "\n",
    "- Choice variables:\n",
    "\n",
    "    -   $c$: Consumption\n",
    "    -   $h$: Hours worked\n",
    "\n",
    "- Parameters:\n",
    "\n",
    "    -   $\\gamma$: Relative risk aversion\n",
    "    -   $\\psi$: Weight on disutility of work\n",
    "    -   $\\theta$: Labor supply elasticity\n",
    "    -   $a$: Initial assets\n",
    "\n",
    "- Prices (taken as given, competitive equilibrium):\n",
    "\n",
    "    -   $r$: Interest rate (return on capital)\n",
    "    -   $w$: Wage rate"
   ]
  },
  {
   "cell_type": "markdown",
   "metadata": {},
   "source": [
    "***\n",
    "### Firm problem (representative firm)\n",
    "\n",
    "- Firm problem:\n",
    "    $$\n",
    "    \\max_{K,~L} \\enskip \\Pi = \n",
    "        \\underbrace{z K^{\\alpha} L^{1-\\alpha}}_{\\text{Output } Y}\n",
    "         - \\underbrace{r K}_{\\text{Cost of capital}} \n",
    "         - \\underbrace{w L}_{\\text{Cost of labor}}\n",
    "    $$\n",
    "\n",
    "- Choice variables:\n",
    "\n",
    "    - $K$: Capital\n",
    "    - $L$: Labor\n",
    "\n",
    "- Parameters:\n",
    "\n",
    "    - $\\alpha$: Capital share (or elasticity with respect to capital)\n",
    "    - $z$: Total factor productivity (TFP)\n",
    "\n",
    "- Prices (taken as given, competitive equilibrium):\n",
    "\n",
    "    -   $r$: Return on capital\n",
    "    -   $w$: Wage rate\n",
    "\n",
    "- First-order conditions:\n",
    "    $$\n",
    "    \\begin{aligned}\n",
    "    r &= \\alpha z \\left(\\frac{K}{L}\\right)^{\\alpha-1} = \\alpha z k^{\\alpha-1} \\\\\n",
    "    w &= (1-\\alpha) z\\left(\\frac{K}{L}\\right)^{\\alpha} = (1-\\alpha) z k^{\\alpha}\n",
    "    \\end{aligned}\n",
    "    $$\n",
    "    where $k \\equiv \\frac{K}{L}$ is the capital-labor ratio.\n",
    "\n",
    "- Labor demand:\n",
    "    <a id='ls-firm-L'></a>\n",
    "    $$\n",
    "    L = \\left( \\frac{w}{(1-\\alpha) z} \\right)^{-\\frac{1}{\\alpha}}K\n",
    "        \\tag{1.1}\n",
    "    $$\n"
   ]
  },
  {
   "cell_type": "markdown",
   "metadata": {},
   "source": [
    "***\n",
    "### Equilibrium\n",
    "\n",
    "Quantities $(K,L,Y,c,h)$ and prices $(r,w)$ such that:\n",
    "\n",
    "- Asset market: $K = a$ (capital $a$ supplied by households equals capital $K$ demanded by firms).\n",
    "- Labor market: $L = h$ (hours $h$ supplied by households equals labor $L$ demanded by firms).\n",
    "- Goods market: $Y = c$ (the amount of goods $c$ consumed by households equals aggregate output)."
   ]
  },
  {
   "cell_type": "markdown",
   "metadata": {},
   "source": [
    "***\n",
    "### Analytical solution\n",
    "\n",
    "- This problem is simple enough to be solved analytically:\n",
    "    $$\n",
    "    h = L = \\left[ \\frac{(1-\\alpha)\\left(z a^{\\alpha}\\right)^{1-\\gamma}}{\\psi} \n",
    "        \\right]^{\\frac{1}{1/\\theta + \\alpha + \\gamma - \\alpha \\gamma}}\n",
    "    $$"
   ]
  },
  {
   "cell_type": "markdown",
   "metadata": {},
   "source": [
    "***\n",
    "### Numerical solution\n",
    "\n",
    "- General rule: solve as much as possible analytically (we ignore this here)\n",
    "\n",
    "- **Firm problem:** use first-order conditions\n",
    "\n",
    "- **Household problem:** usually solved via minimizer (or other methods)\n",
    "\n",
    "- **Equilibrium:** usually solved via root-finder (zero excess demand)"
   ]
  },
  {
   "cell_type": "markdown",
   "metadata": {},
   "source": [
    "#### Solution algorithm\n",
    "\n",
    "\n",
    "1.  Define parameters.\n",
    "\n",
    "2.  Function to solve the household problem for given $(w, r)$ which returns \n",
    "    the **optimal labor supply $h$*** (use a minimizer).\n",
    "\n",
    "3.  Function to solve the firm problem for given $w$ which returns the **firm labor demand $L$** \n",
    "    (use the firm's first-order conditions).\n",
    "\n",
    "4.  Function $f(w)$ which returns the **excess labor demand** for a given $w$, defined \n",
    "    as $L - h$.\n",
    "\n",
    "    Use the functions from  steps (2) and (3) to compute $h$ and $L$.\n",
    "    \n",
    "5.  Make an initial guess for the equilibrium wage rate $w_0$ and call the root-finder\n",
    "    to locate the root $w^*$ of $f$, $f(w^*) = 0$.\n",
    "\n",
    "6.  Compute and store all other equilibrium quantities and prices for given $w^*$."
   ]
  },
  {
   "cell_type": "markdown",
   "metadata": {},
   "source": [
    "#### Implementation\n",
    "\n",
    "- See [lecture06_labor.py](lecture06_labor.py) for full implementation"
   ]
  },
  {
   "cell_type": "code",
   "execution_count": null,
   "metadata": {},
   "outputs": [],
   "source": [
    "# Enable automatic reloading of external modules\n",
    "%load_ext autoreload\n",
    "%autoreload 2"
   ]
  },
  {
   "cell_type": "markdown",
   "metadata": {},
   "source": [
    "##### Step 1: Define parameters"
   ]
  },
  {
   "cell_type": "markdown",
   "metadata": {},
   "source": [
    "- Recall how we used to define functions with each parameter as separate argument\n",
    "- This becomes tedious as the number of parameters grows\n",
    "- Replace with single `Parameters` class"
   ]
  },
  {
   "cell_type": "code",
   "execution_count": null,
   "metadata": {},
   "outputs": [],
   "source": [
    "import numpy as np\n",
    "\n",
    "def util(c, h, gamma, psi, theta):\n",
    "    \"\"\"\n",
    "    Compute the utility of a given consumption/labor supply choice.\n",
    "\n",
    "    Parameters\n",
    "    ----------\n",
    "    c : float or array\n",
    "        Consumption level.\n",
    "    h : float or array\n",
    "        Hours worked.\n",
    "    gamma : float\n",
    "        Relative risk aversion parameter.\n",
    "    psi : float\n",
    "        Weight on disutility of labor.\n",
    "    theta : float\n",
    "        Labor supply elasticity.\n",
    "\n",
    "    Returns\n",
    "    -------\n",
    "    u : float or array\n",
    "        Utility value.\n",
    "    \"\"\"\n",
    "\n",
    "    # Consumption utility\n",
    "    if gamma == 1:\n",
    "        # Log utility\n",
    "        u = np.log(c)\n",
    "    else:\n",
    "        # General CRRA utility\n",
    "        u = (c**(1-gamma) - 1) / (1-gamma)\n",
    "\n",
    "    # add disutility of labor\n",
    "    u -= psi * h**(1 + 1/theta) / (1 + 1/theta)\n",
    "\n",
    "    return u"
   ]
  },
  {
   "cell_type": "markdown",
   "metadata": {},
   "source": [
    "<div class=\"alert alert-info\">\n",
    "<h3> Your turn</h3>\n",
    "\n",
    "Rewrite the <TT>util()</TT> function from above so that it accepts a single <TT>par</TT> argument\n",
    "of type <TT>Parameters</TT> instead of individual <TT>gamma</TT>, <TT>psi</TT>, and <TT>theta</TT>.\n",
    "\n",
    "</div>"
   ]
  },
  {
   "cell_type": "markdown",
   "metadata": {},
   "source": [
    "##### Step 2: Solving the household problem"
   ]
  },
  {
   "cell_type": "markdown",
   "metadata": {},
   "source": [
    "- Use [L-BFGS-B minimizer](https://docs.scipy.org/doc/scipy/reference/optimize.minimize-lbfgsb.html) \n",
    "from \n",
    "`scipy.optmize` module.\n",
    "- Minimize over choice variable $h$\n",
    "- Need to specify bounds $h \\geq 0$"
   ]
  },
  {
   "cell_type": "code",
   "execution_count": null,
   "metadata": {},
   "outputs": [],
   "source": [
    "def solve_hh(r, w, par: Parameters):\n",
    "    \"\"\"\n",
    "    Solve household problem for given prices and parameters\n",
    "\n",
    "    Parameters\n",
    "    ----------\n",
    "    r : float\n",
    "        Return on capital\n",
    "    w : float\n",
    "        Wage rate\n",
    "    par : Parameters\n",
    "        Parameters for given problem\n",
    "\n",
    "    Returns\n",
    "    -------\n",
    "    c_opt : float \n",
    "        Optimal consumption choice\n",
    "    h_opt : float\n",
    "        Optimal hours choice\n",
    "    \"\"\"\n"
   ]
  },
  {
   "cell_type": "markdown",
   "metadata": {},
   "source": [
    "<div class=\"alert alert-info\">\n",
    "<h3> Your turn</h3>\n",
    "\n",
    "Plot the optimal hours <i>h</i> returned by <tt>solve_hh()</tt> \n",
    "for <tt>w</tt> on the interval [0.5, 2]. Fix the interest rate at <i>r=0.1</i> for this exercise. Does the shape intuitively make sense?\n",
    "</div>"
   ]
  },
  {
   "cell_type": "markdown",
   "metadata": {},
   "source": [
    "##### Step 2: Solving the firm problem\n",
    "\n",
    "-   Compute firm labor demand from [(1.1)](#ls-firm-L):\n",
    "    $$\n",
    "    L = \\left( \\frac{w}{(1-\\alpha) z} \\right)^{-\\frac{1}{\\alpha}}K\n",
    "        \\tag{1.1}\n",
    "    $$\n",
    "-   Addionally return output $Y$ and interest rate $r$ for later use"
   ]
  },
  {
   "cell_type": "code",
   "execution_count": null,
   "metadata": {},
   "outputs": [],
   "source": [
    "def solve_firm(w, par: Parameters):\n",
    "    \"\"\"\n",
    "    Return the solution to the firm's problem for given wage rate and parameters.\n",
    "\n",
    "    Parameters\n",
    "    ----------\n",
    "    w : float\n",
    "        Wage rate\n",
    "    par : Parameters\n",
    "        Parameters for given problem\n",
    "\n",
    "    Returns\n",
    "    -------\n",
    "    L : float\n",
    "        Firm labor demand\n",
    "    Y : float\n",
    "        Firm output\n",
    "    r : float\n",
    "        Interest rate implied by wage rate\n",
    "\n",
    "    \"\"\""
   ]
  },
  {
   "cell_type": "markdown",
   "metadata": {},
   "source": [
    "<div class=\"alert alert-info\">\n",
    "<h3> Your turn</h3>\n",
    "\n",
    "Plot the firm's optimal labor demand <i>L</i> returned by <tt>solve_firm()</tt> \n",
    "for <tt>w</tt> on the interval [0.5, 2]. Does the shape intuitively make sense?\n",
    "</div>"
   ]
  },
  {
   "cell_type": "markdown",
   "metadata": {},
   "source": [
    "##### Step 3: Compute excess demand for labor"
   ]
  },
  {
   "cell_type": "code",
   "execution_count": null,
   "metadata": {},
   "outputs": [],
   "source": [
    "def compute_labor_ex_demand(w, par: Parameters):\n",
    "    \"\"\"\n",
    "    Compute excess labor demand for given wage rate and parameters.\n",
    "\n",
    "    Parameters\n",
    "    ----------\n",
    "    w : float\n",
    "        Wage rate\n",
    "    par : Parameters\n",
    "        Parameters for given problem\n",
    "\n",
    "    Returns\n",
    "    -------\n",
    "    ex_demand : float \n",
    "        Excess labor demand (firm demand - household supply)\n",
    "    \"\"\""
   ]
  },
  {
   "cell_type": "markdown",
   "metadata": {},
   "source": [
    "<div class=\"alert alert-info\">\n",
    "<h3> Your turn</h3>\n",
    "\n",
    "Before running the root-finder, we want to visually verify that the excess demand for \n",
    "labor is indeed zero for some <tt>w</tt>.\n",
    "\n",
    "Using the code we just wrote, plot the function <tt>compute_capital_ex_labor()</tt> \n",
    "for <tt>w</tt> on the interval [0.5, 2].\n",
    "</div>"
   ]
  },
  {
   "cell_type": "markdown",
   "metadata": {},
   "source": [
    "##### Step 4: Call root-finder to find equilibrium\n",
    "\n",
    "- Use \n",
    "[`root_scalar()`](https://docs.scipy.org/doc/scipy/reference/generated/scipy.optimize.root_scalar.html)\n",
    "- Use `method='newton'` and specify initial value `x0`"
   ]
  },
  {
   "cell_type": "markdown",
   "metadata": {},
   "source": [
    "##### Step 5: Compute remaining equilibrium quantities\n",
    "\n",
    "- Use `Equilibrium` definition to store quantities and prices\n",
    "- Compute equilibrium using `compute_equilibrium()` from [`lecture06_labor`](lecture06_labor.py) module\n",
    "- Print equilibrium using `print_equilibrium()` from [`lecture06_labor`](lecture06_labor.py) module"
   ]
  },
  {
   "cell_type": "code",
   "execution_count": null,
   "metadata": {},
   "outputs": [],
   "source": [
    "@dataclass\n",
    "class Equilibrium:\n",
    "    \"\"\"\n",
    "    Container to store equilibrium allocations and prices.\n",
    "    \"\"\"\n",
    "    par: Parameters = None  # Parameters used to compute equilibrium\n",
    "    c: float = None         # Optimal consumption\n",
    "    h: float = None         # Optimal hours\n",
    "    r: float = None         # Interest rate\n",
    "    w: float = None         # Wage rate\n",
    "    L: float = None         # Labor demand\n",
    "    K: float = None         # Capital demand\n",
    "    Y: float = None         # Output"
   ]
  },
  {
   "cell_type": "code",
   "execution_count": null,
   "metadata": {},
   "outputs": [],
   "source": [
    "# Import helper functions from module\n",
    "from lecture06_labor import compute_equilibrium, print_equilibrium\n",
    "\n",
    "# Compute equilibrium, return Equilibrium object\n",
    "eq = compute_equilibrium(par)\n",
    "\n",
    "# Print equilibrium allocation and prices\n",
    "print_equilibrium(eq)"
   ]
  },
  {
   "cell_type": "markdown",
   "metadata": {},
   "source": [
    "***\n",
    "### Comparative statics\n",
    "\n",
    "#### Compute equilibrium for different parameter values\n",
    "\n",
    "- How do equilibrium prices & quantities depend on $a$?\n"
   ]
  },
  {
   "cell_type": "markdown",
   "metadata": {},
   "source": [
    "<div class=\"alert alert-info\">\n",
    "<h3> Your turn</h3>\n",
    "\n",
    "<ol>\n",
    "    <li>Use the function <TT>compute_equilibrium()</TT> to evaluate the equilibria for N=30 different\n",
    "values of <i>a</i> on the interval [1, 10].</li>\n",
    "    <li>How can you check that the algorithm returned something sensible for all <i>a</i>?</li>\n",
    "</ol>\n",
    "\n",
    "</div>"
   ]
  },
  {
   "cell_type": "markdown",
   "metadata": {},
   "source": [
    "#### Plot equilibrium quantities and prices"
   ]
  },
  {
   "cell_type": "code",
   "execution_count": null,
   "metadata": {},
   "outputs": [],
   "source": [
    "# Convert equilibrium data to arrays\n",
    "c_eq_grid = np.array([eq.c for eq in equilibria])\n",
    "h_eq_grid = np.array([eq.h for eq in equilibria])\n",
    "w_eq_grid = np.array([eq.w for eq in equilibria])\n",
    "r_eq_grid = np.array([eq.r for eq in equilibria])"
   ]
  },
  {
   "cell_type": "code",
   "execution_count": null,
   "metadata": {},
   "outputs": [],
   "source": [
    "import matplotlib.pyplot as plt \n",
    "\n",
    "fig, ax = plt.subplots(2, 2, figsize=(8,6), sharex=True)\n",
    "\n",
    "ax[0, 0].plot(a_grid, r_eq_grid)\n",
    "ax[0, 0].set_title('Equil. interest rate $r$')\n",
    "\n",
    "ax[0, 1].plot(a_grid, w_eq_grid)\n",
    "ax[0, 1].set_title('Equil. wage rate $w$')\n",
    "\n",
    "ax[1, 0].plot(a_grid, c_eq_grid)\n",
    "ax[1, 0].set_xlabel('Capital stock $K = a$')\n",
    "ax[1, 0].set_title('Equil. consumption $c$')\n",
    "\n",
    "ax[1, 1].plot(a_grid, h_eq_grid)\n",
    "ax[1, 1].set_xlabel('Capital stock $K = a$')\n",
    "ax[1, 1].set_title('Equil. labor supply $h$')"
   ]
  }
 ],
 "metadata": {
  "kernelspec": {
   "display_name": "FIE463",
   "language": "python",
   "name": "python3"
  },
  "language_info": {
   "codemirror_mode": {
    "name": "ipython",
    "version": 3
   },
   "file_extension": ".py",
   "mimetype": "text/x-python",
   "name": "python",
   "nbconvert_exporter": "python",
   "pygments_lexer": "ipython3",
   "version": "3.12.8"
  }
 },
 "nbformat": 4,
 "nbformat_minor": 2
}
