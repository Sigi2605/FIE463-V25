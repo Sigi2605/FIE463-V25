{
 "cells": [
  {
   "cell_type": "markdown",
   "metadata": {},
   "source": [
    "# General equilibrium"
   ]
  },
  {
   "cell_type": "markdown",
   "metadata": {},
   "source": [
    "## Consumption & labor supply\n",
    "\n",
    "In the previous lecture, we discussed the consumption & labor supply problem in *partial equilibrium*, i.e., we assumed that the wage was exogenously fixed, and we characterized optimal household choices for this given wage. We now extend this setting to a production economy and study how wages (and the interest rate) are determined in *general equilibrium*.\n",
    "\n",
    "### Household problem\n",
    "\n",
    "As before, we assume that households have preferences given by\n",
    "$$\n",
    "u(c,h) = \\frac{c^{1-\\gamma} - 1}{1-\\gamma} - \\psi \\frac{h^{1+1/\\theta}}{1+1/\\theta}\n",
    "$$\n",
    "where $c \\geq 0$ is the amount consumed, and $h \\geq 0$ (for \"hours\") is the amount of labor the household wishes to work (the remaining time is then consumed as leisure). \n",
    "Assume that households have initial assets $a$ which come in the form of productive capital that enters the production function. The household's budget constraint is therefore given by\n",
    "$$\n",
    "c = r \\cdot a + w \\cdot h\n",
    "$$\n",
    "For simplicity, we ignore any savings decision here and assume that households\n",
    "have the same fixed stock of $a$ each period which is set exogenously as a parameter.\n",
    "\n",
    "Since all households are identical in this setup, we model the household sector of this economy as a single representative household."
   ]
  },
  {
   "cell_type": "markdown",
   "metadata": {},
   "source": [
    "### Firm problem\n",
    "\n",
    "We assume two factors of production, capital $K$ and labor $L$, which are supplied to firms by households. We assume that the production function has\n",
    "the \n",
    "[Cobb-Douglas form](https://en.wikipedia.org/wiki/Cobb%E2%80%93Douglas_production_function),\n",
    "$$\n",
    "Y = z K^{\\alpha} L^{1-\\alpha}\n",
    "$$\n",
    "where $\\alpha > 0$ is the elasticity with respect to capital (or the capital share in output), and $z$ is total factor productivity (TFP). Each firm is assumed to maximize profits $\\Pi$ which are simply its revenue net of production costs,\n",
    "$$\n",
    "\\max_{K,~L} \\enskip \\Pi = z K^{\\alpha} L^{1-\\alpha} - r K - w L\n",
    "$$\n",
    "where one unit of capital commands a return of $r$ and one unit of labor is paid a wage $w$. We normalize the price of the output to one so that revenue and output are identical.\n",
    "\n",
    "Taking derivatives with respect to $K$ and $L$, we obtain the first-order conditions for the firm's problem:\n",
    "$$\n",
    "\\begin{aligned}\n",
    "r &= \\alpha z \\left(\\frac{K}{L}\\right)^{\\alpha-1} = \\alpha z k^{\\alpha-1} \\\\\n",
    "w &= (1-\\alpha) z\\left(\\frac{K}{L}\\right)^{\\alpha} = (1-\\alpha) z k^{\\alpha}\n",
    "\\end{aligned}\n",
    "$$\n",
    "where we define the capital-labor ratio as $k \\equiv \\frac{K}{L}$.\n",
    "The equation for $w$ can be inverted to get the firm's labor demand function \n",
    "$$\n",
    "L = \\left( \\frac{w}{(1-\\alpha) z} \\right)^{-\\frac{1}{\\alpha}}K\n",
    "$$\n",
    "for given $w$ and $K$. We'll be using equation in the code below.\n",
    "\n",
    "Note that the production function has *constant returns to scale*: doubling inputs $(K,L)$ doubles the output produced.\n",
    "In addition, we assume that input and output markets are perfectly competitive. In this setting, the firms make zero profits,\n",
    "and we can model the production sector of the economy as a single representative firm\n",
    "without loss of generality."
   ]
  },
  {
   "cell_type": "markdown",
   "metadata": {},
   "source": [
    "### Equilibrium\n",
    "\n",
    "The general equilibrium in this economy is a set of quantities $(K,L,Y,c,h)$ and prices $(r,w)$ \n",
    "which solve the household's and firm's problem\n",
    "such that the following market clearing conditions are satisfied:\n",
    "\n",
    "- Asset market: $K = a$ (capital $a$ supplied by households equals capital $K$ demanded by firms).\n",
    "- Labor market: $L = h$ (hours $h$ supplied by households equals labor $L$ demanded by firms).\n",
    "- Goods market: $Y = c$ (the amount of goods $c$ consumed by households equals aggregate output).\n",
    "\n",
    "Due to Walras' Law, we only have to make sure that two of these markets clear as \n",
    "this implies market clearing in the residual market. "
   ]
  },
  {
   "cell_type": "markdown",
   "metadata": {},
   "source": [
    "### Analytical solution\n",
    "\n",
    "Recall the household's first-order condition from the previous lecture: \n",
    "$$\n",
    "c^{-\\gamma} = \\psi \\frac{h^{1/\\theta}}{w}\n",
    "$$\n",
    "This\n",
    "condition links optimal consumption to optimal labor supply\n",
    "and must hold in equilibrium.\n",
    "\n",
    "By substituting in the firm's FOCs and market clearing conditions, we \n",
    "can rewrite it as a single equation in $L$ which can then be solved for \n",
    "equilibrium.\n",
    "\n",
    "1. From the firm's problem, wages can be alternatively written as \n",
    "    $$\n",
    "    w = (1-\\alpha) \\frac{Y}{L}\n",
    "    $$\n",
    "2. Using this expression and the market clearing conditions $c=Y$ and $h=L$,\n",
    "we obtain\n",
    "    $$\n",
    "    Y^{-\\gamma} = \\psi \\frac{L^{1/\\theta}}{(1-\\alpha)\\frac{Y}{L}}\n",
    "    \\Longleftrightarrow (1-\\alpha) Y^{1-\\gamma}\n",
    "    = \\psi L^{1 + 1/\\theta}\n",
    "    $$\n",
    "3. Using capital market clearing $a=K$, from the firm's problem we have that\n",
    "    $$\n",
    "    Y = z a^{\\alpha} L^{1-\\alpha}\n",
    "    $$\n",
    "    which can be used to substitute out $Y$ to obtain\n",
    "    $$\n",
    "    (1-\\alpha) \\left(z a^{\\alpha}\\right)^{1-\\gamma} L^{(1-\\alpha)(1-\\gamma)}\n",
    "    = \\psi L^{1 + 1/\\theta}\n",
    "    $$\n",
    "4. Collecting terms, we find that the equilibrium $L$ is pinned down by\n",
    "    $$\n",
    "    L = \\left[ \\frac{(1-\\alpha)\\left(z a^{\\alpha}\\right)^{1-\\gamma}}{\\psi} \n",
    "        \\right]^{\\frac{1}{1/\\theta + \\alpha + \\gamma - \\alpha \\gamma}}\n",
    "    $$\n",
    "\n",
    "We can use this expression to verify that our numerical solution is correct."
   ]
  },
  {
   "cell_type": "markdown",
   "metadata": {},
   "source": [
    "### Numerical solution\n",
    "\n",
    "Even though this problem has an analytical solution, we now study how to find the equilibrium numerically. While this is not necessary in this case, the structure of the algorithm directly translates to more complex settings which don't have a closed-form solution.\n",
    "\n",
    "When implementing a numerical solution, we need to decide how to incorporate any \n",
    "analytical results into our algorithm. Usually, we'd want to incorporate \n",
    "as many analytical equilibrium conditions as possible since \n",
    "this speeds up the computation and gives more precise results. In particular,\n",
    "\n",
    "- We *never* solve **firm problems** such as this one numerically since the \n",
    "  solution (given by the firm's first-order conditions) is trivial and well known.\n",
    "\n",
    "- We often have to solve the **household problem** numerically as more complicated\n",
    "  household problems don't have an analytical solution.\n",
    "  This is usually accomplished using a *minimizer*.\n",
    "\n",
    "- We usually have to solve for the **equilibrium** price vector $(w, r)$ numerically\n",
    "  as there are no closed-form solutions except for trivial cases. \n",
    "  We usually do this using a *root-finder* which varies the candidate equilibrium\n",
    "  price until it finds a price vector with zero excess demand."
   ]
  },
  {
   "cell_type": "markdown",
   "metadata": {},
   "source": [
    "#### Solution algorithm\n",
    "\n",
    "Our implementation to find the equilibrium in this economy proceeds as follows:\n",
    "\n",
    "1.  Implement a function $f(w)$ which returns the excess labor demand for a given $w$.\n",
    "2.  Make an initial guess for the equilibrium wage rate $w_0$.\n",
    "3.  Call a root-finder to locate the root of $f$ with initial guess $w_0$.\n",
    "4.  The root-finder will repeatedly call $f$. For each invocation of $f$ with the current guess of $w$,\n",
    "\n",
    "    1. Compute the optimal firm labor demand $L$ and the implied interest rate $r$ from the firm's first-order conditions.\n",
    "    2. Solve the household problem for given $(w, r)$ using a minimizer to obtain the optimal labor supply $h$.\n",
    "    3.  Compute the excess labor demand $L - h$ as the return value of $f$.\n",
    "5.  Once the root-finder terminates and returns the equilibrium $w$,\n",
    "    compute and store all other equilibrium quantities and prices."
   ]
  },
  {
   "cell_type": "markdown",
   "metadata": {},
   "source": [
    "#### Implementation\n",
    "\n",
    "As this is a more complex example, it is preferrable to place the implementation in the separate Python module \n",
    "[`lecture06_labor.py`](lecture06_labor.py).\n",
    "For expositional convenience, the following code segments replicate selected code blocks from that file.\n",
    "\n",
    "As a first step, we define a \n",
    "[`data class`](https://docs.python.org/3/library/dataclasses.html)\n",
    "called `Parameters` to store the problem parameters. This is more convenient and less error prone than passing a whole set of scalar parameter values to each function when the\n",
    "number of parameters grows large.\n",
    "\n",
    "We won't be concerned with the details of what a data class is, so \n",
    "you can just copy this declaration and adapt it to a specific problem.\n",
    "Basically, each line of the `class` body defines a model parameter using the syntax:\n",
    "```\n",
    "name: type = value\n",
    "```\n",
    "where the `type` is a Python type (usually `float`, `int`, `np.ndarray`, ...)\n",
    "and `value` is the default value given to this parameter."
   ]
  },
  {
   "cell_type": "code",
   "execution_count": 1,
   "metadata": {},
   "outputs": [],
   "source": [
    "# Enable automatic reloading of external modules\n",
    "%load_ext autoreload\n",
    "%autoreload 2"
   ]
  },
  {
   "cell_type": "markdown",
   "metadata": {},
   "source": [
    "For the problem outlined above, the definition of the `Parameters` data class looks as follows:"
   ]
  },
  {
   "cell_type": "code",
   "execution_count": 2,
   "metadata": {},
   "outputs": [],
   "source": [
    "from dataclasses import dataclass\n",
    "import numpy as np\n",
    "from scipy.optimize import minimize, root_scalar\n",
    "\n",
    "@dataclass\n",
    "class Parameters:\n",
    "    \"\"\"\n",
    "    Container to store the problem's parameters.\n",
    "    \"\"\"\n",
    "    alpha: float = 0.36     # Capital share in production function\n",
    "    z: float = 1.0          # TFP \n",
    "    gamma: float = 2.0      # RRA in utility\n",
    "    psi: float = 1.0        # Weight on disutility of working\n",
    "    theta: float = 0.5      # Frisch elasticity of labor supply\n",
    "    a: float = 5.0          # Initial assets (capital)"
   ]
  },
  {
   "cell_type": "markdown",
   "metadata": {},
   "source": [
    "A parameter *object* (also called *instance*) can then be created by calling the constructor `Parameters()`:"
   ]
  },
  {
   "cell_type": "code",
   "execution_count": 3,
   "metadata": {},
   "outputs": [],
   "source": [
    "# Create instance of parameter class\n",
    "par = Parameters()"
   ]
  },
  {
   "cell_type": "markdown",
   "metadata": {},
   "source": [
    "Individual model parameters can be accessed (and changed!) as attributes of this object, for example:"
   ]
  },
  {
   "cell_type": "code",
   "execution_count": 4,
   "metadata": {},
   "outputs": [
    {
     "data": {
      "text/plain": [
       "0.36"
      ]
     },
     "execution_count": 4,
     "metadata": {},
     "output_type": "execute_result"
    }
   ],
   "source": [
    "# Print alpha parameter value\n",
    "par.alpha"
   ]
  },
  {
   "cell_type": "markdown",
   "metadata": {},
   "source": [
    "Note that you can also change any of the parameters as follows:"
   ]
  },
  {
   "cell_type": "code",
   "execution_count": 5,
   "metadata": {},
   "outputs": [],
   "source": [
    "# Use log preferences\n",
    "par.gamma = 1.0"
   ]
  },
  {
   "cell_type": "markdown",
   "metadata": {},
   "source": [
    "Finally, the `Parameter` instance can be initialized with parameter values that differ from the defaults by simply specifying them as keyword arguments: "
   ]
  },
  {
   "cell_type": "code",
   "execution_count": 6,
   "metadata": {},
   "outputs": [],
   "source": [
    "# Create Parameter instance with custom values\n",
    "par = Parameters(alpha=0.36, gamma=2.0)"
   ]
  },
  {
   "cell_type": "markdown",
   "metadata": {},
   "source": [
    "Now that you know how to work with data classes, we define the utility function for the household problem. This is the same implementation that we have used repeatedly in this course, but it now takes a `par` argument which contains all the problem's parameters in the `Parameters` object."
   ]
  },
  {
   "cell_type": "code",
   "execution_count": 7,
   "metadata": {},
   "outputs": [],
   "source": [
    "def util(c, h, par: Parameters):\n",
    "    \"\"\"\n",
    "    Compute the utility of a given consumption/labor supply choice.\n",
    "\n",
    "    Parameters\n",
    "    ----------\n",
    "    c : float\n",
    "        Consumption\n",
    "    h : float\n",
    "        Hours worked\n",
    "    par : Parameters\n",
    "        Parameters for given problem\n",
    "\n",
    "    Returns\n",
    "    -------\n",
    "    u : float\n",
    "        Utility level\n",
    "\n",
    "    \"\"\"\n",
    "\n",
    "    # Consumption utility\n",
    "    if par.gamma == 1:\n",
    "        # Log utility\n",
    "        u = np.log(c)\n",
    "    else:\n",
    "        # General CRRA utility\n",
    "        u = (c**(1-par.gamma) - 1) / (1-par.gamma)\n",
    "\n",
    "    # add disutility of labor\n",
    "    u -= par.psi * h**(1 + 1/par.theta) / (1 + 1/par.theta)\n",
    "\n",
    "    return u"
   ]
  },
  {
   "cell_type": "markdown",
   "metadata": {},
   "source": [
    "With the utility function in hand, we implement the function `solve_hh()` which solves the household problem for given prices $(r,w)$ and parameters.\n",
    "\n",
    "For this purpose, we use the \n",
    "[L-BFGS-B minimizer](https://docs.scipy.org/doc/scipy/reference/optimize.minimize-lbfgsb.html) \n",
    "from the \n",
    "`scipy.optmize` module. The advantage of this algorithm over \n",
    "[`minimize_scalar()`](https://docs.scipy.org/doc/scipy/reference/generated/scipy.optimize.minimize_scalar.html)\n",
    "is that we don't need to provide an initial bracket (which might\n",
    "depend on prices and parameters) but can instead specify \n",
    "and initial guess using the argument `x0`.\n",
    "\n",
    "Note that the L-BFGS-B algorithm supports bounds, which we \n",
    "specify as the vector `(0, None)` to impose a lower bound $h \\geq 0$. Since $h$ is has no upper bound, this is indicated by the second value being `None`. These bounds have to specified as a nested tuple\n",
    "because `minimize()` implements a multivariate minimizer, so any additional dimension has its own tuple of bounds (we don't use this feature here)."
   ]
  },
  {
   "cell_type": "code",
   "execution_count": 8,
   "metadata": {},
   "outputs": [],
   "source": [
    "def solve_hh(r, w, par: Parameters):\n",
    "    \"\"\"\n",
    "    Solve household problem for given prices and parameters\n",
    "\n",
    "    Parameters\n",
    "    ----------\n",
    "    r : float\n",
    "        Return on capital\n",
    "    w : float\n",
    "        Wage rate\n",
    "    par : Parameters\n",
    "        Parameters for given problem\n",
    "\n",
    "    Returns\n",
    "    -------\n",
    "    c_opt : float \n",
    "        Optimal consumption choice\n",
    "    h_opt : float\n",
    "        Optimal hours choice\n",
    "    \"\"\"\n",
    "\n",
    "    # Initial guess for h\n",
    "    h_guess = 0.5\n",
    "\n",
    "    # Run minimizer to find optimal hours:\n",
    "    # The budget constraint is inserted directly in the lambda expression.\n",
    "    res = minimize(\n",
    "        lambda h: -util(r*par.a + w * h, h, par),\n",
    "        x0=h_guess,\n",
    "        method='L-BFGS-B',\n",
    "        bounds=((0, None), )\n",
    "    )\n",
    "\n",
    "    if not res.success:\n",
    "        print('Minimizer did not terminate successfully')\n",
    "        print(res.message)\n",
    "        print(f'  Prices: {r}, {w}')\n",
    "\n",
    "    # Recover optimal hours choice\n",
    "    h_opt = res.x[0]\n",
    "    # Optimal consumption follows from budget constraint\n",
    "    c_opt = r * par.a + w * h_opt\n",
    "\n",
    "    return c_opt, h_opt"
   ]
  },
  {
   "cell_type": "markdown",
   "metadata": {},
   "source": [
    "Next, we implement the function `solve_firm()` which returns the firm's labor demand $L$ for a given wage rate $w$ computed\n",
    "from the formula derived earlier.\n",
    "For convenience, this function also returns output $Y$ and the interest rate $r$ implied by $w$ which is required to solve the household problem."
   ]
  },
  {
   "cell_type": "code",
   "execution_count": 9,
   "metadata": {},
   "outputs": [],
   "source": [
    "def solve_firm(w, par: Parameters):\n",
    "    \"\"\"\n",
    "    Return the solution to the firm's problem for given wage rate and parameters.\n",
    "\n",
    "    Parameters\n",
    "    ----------\n",
    "    w : float\n",
    "        Wage rate\n",
    "    par : Parameters\n",
    "        Parameters for given problem\n",
    "\n",
    "    Returns\n",
    "    -------\n",
    "    L : float\n",
    "        Firm labor demand\n",
    "    Y : float\n",
    "        Firm output\n",
    "    r : float\n",
    "        Interest rate implied by wage rate\n",
    "\n",
    "    \"\"\"\n",
    "\n",
    "    # Capital market clearing condition\n",
    "    K = par.a\n",
    "\n",
    "    # Labor demand implied by firm FOC\n",
    "    L = (w / (1-par.alpha) / par.z)**(-1/par.alpha) * K\n",
    "\n",
    "    # Optimal capital-labor ratio\n",
    "    k = K / L\n",
    "\n",
    "    # Return on capital\n",
    "    r = par.z * par.alpha * k**(par.alpha - 1)\n",
    "\n",
    "    # Output\n",
    "    Y = par.z * K**par.alpha * L**(1-par.alpha)\n",
    "    \n",
    "    return L, Y, r"
   ]
  },
  {
   "cell_type": "markdown",
   "metadata": {},
   "source": [
    "Lastly, we implement the function to be called by the root-finder which returns the excess demand for labor, $L-h$:"
   ]
  },
  {
   "cell_type": "code",
   "execution_count": 10,
   "metadata": {},
   "outputs": [],
   "source": [
    "def compute_labor_ex_demand(w, par: Parameters):\n",
    "    \"\"\"\n",
    "    Compute excess labor demand for given wage rate and parameters.\n",
    "\n",
    "    Parameters\n",
    "    ----------\n",
    "    w : float\n",
    "        Wage rate\n",
    "    par : Parameters\n",
    "        Parameters for given problem\n",
    "\n",
    "    Returns\n",
    "    -------\n",
    "    ex_demand : float \n",
    "        Excess labor demand (firm demand - household supply)\n",
    "    \"\"\"\n",
    "\n",
    "    # Solve firm problem for given wage rate\n",
    "    L, Y, r = solve_firm(w, par)\n",
    "\n",
    "    # Optimal household choices for given prices\n",
    "    c_opt, h_opt = solve_hh(r, w, par)\n",
    "\n",
    "    # Excess demand for labor\n",
    "    ex_demand = L - h_opt\n",
    "\n",
    "    return ex_demand"
   ]
  },
  {
   "cell_type": "markdown",
   "metadata": {},
   "source": [
    "<div class=\"alert alert-info\">\n",
    "<h3> Your turn</h3>\n",
    "\n",
    "Before running the root-finder, we want to visually verify that the excess demand for \n",
    "labor is indeed zero for some <tt>w</tt>.\n",
    "\n",
    "Using the code we just wrote, plot the function <tt>compute_capital_ex_labor()</tt> for 50 points of \n",
    "<tt>w</tt> which are uniformly spaced on the interval [0.05, 2].\n",
    "\n",
    "</div>"
   ]
  },
  {
   "cell_type": "markdown",
   "metadata": {},
   "source": [
    "Now that our implementation is complete, we call \n",
    "[`root_scalar()`](https://docs.scipy.org/doc/scipy/reference/generated/scipy.optimize.root_scalar.html)\n",
    "to find the root of `compute_labor_ex_demand()`, i.e., \n",
    "to find the equilibrium wage $w$ where the excess demand for labor is zero.\n",
    "\n",
    "We use the `'newton'` method with an initial guess `x0=1`, but could have opted for a bracket-based root-finder such as the default `'brentq'` method as well."
   ]
  },
  {
   "cell_type": "code",
   "execution_count": 11,
   "metadata": {},
   "outputs": [],
   "source": [
    "res = root_scalar(\n",
    "    compute_labor_ex_demand, x0=1, method='newton', args=(par, )\n",
    ")"
   ]
  },
  {
   "cell_type": "markdown",
   "metadata": {},
   "source": [
    "It is a good idea to inspect the result object to make sure that the algorithm exited successfully, which is the case here."
   ]
  },
  {
   "cell_type": "code",
   "execution_count": 12,
   "metadata": {},
   "outputs": [
    {
     "data": {
      "text/plain": [
       "      converged: True\n",
       "           flag: converged\n",
       " function_calls: 18\n",
       "     iterations: 9\n",
       "           root: 1.2643421155116474\n",
       "         method: newton"
      ]
     },
     "execution_count": 12,
     "metadata": {},
     "output_type": "execute_result"
    }
   ],
   "source": [
    "# Inspect root-finder result\n",
    "res"
   ]
  },
  {
   "cell_type": "markdown",
   "metadata": {},
   "source": [
    "So far, we have only identified the equilibrium wage $w$ but not the other quantities and prices. To store all these, it is convenient to define another data class containing these equilibrium values as attributes:"
   ]
  },
  {
   "cell_type": "code",
   "execution_count": 13,
   "metadata": {},
   "outputs": [],
   "source": [
    "@dataclass\n",
    "class Equilibrium:\n",
    "    \"\"\"\n",
    "    Container to store equilibrium allocations and prices.\n",
    "    \"\"\"\n",
    "    par: Parameters = None  # Parameters used to compute equilibrium\n",
    "    c: float = None\n",
    "    h: float = None\n",
    "    r: float = None\n",
    "    w: float = None\n",
    "    L: float = None\n",
    "    K: float = None\n",
    "    Y: float = None"
   ]
  },
  {
   "cell_type": "markdown",
   "metadata": {},
   "source": [
    "The file \n",
    "[`lecture06_labor.py`](lecture06_labor.py)\n",
    "contains two additional helper functions which compute and print the equilibrium allocation and prices."
   ]
  },
  {
   "cell_type": "code",
   "execution_count": 14,
   "metadata": {},
   "outputs": [
    {
     "name": "stdout",
     "output_type": "stream",
     "text": [
      "Equilibrium:\n",
      "  Households:\n",
      "    c = 1.49042\n",
      "    h = 0.75444\n",
      "  Firms:\n",
      "    Y = 1.49042\n",
      "    L = 0.75444\n",
      "    K = 5.00000\n",
      "  Prices:\n",
      "    r = 0.10731\n",
      "    w = 1.26434\n",
      "  Market clearing:\n",
      "    Labor market: -4.90011e-10\n",
      "    Goods market: 6.19542e-10\n"
     ]
    }
   ],
   "source": [
    "# Import helper functions from module\n",
    "from lecture06_labor import compute_equilibrium, print_equilibrium\n",
    "\n",
    "# Compute equilibrium, return Equilibrium object\n",
    "eq = compute_equilibrium(par)\n",
    "\n",
    "# Print equilibrium allocation and prices\n",
    "print_equilibrium(eq)"
   ]
  },
  {
   "cell_type": "markdown",
   "metadata": {},
   "source": [
    "As you can see, market clearing holds at the equilibrium price vector with only negligible excess demand due to numerical precision."
   ]
  },
  {
   "cell_type": "markdown",
   "metadata": {},
   "source": [
    "### Comparative statics\n",
    "\n",
    "The `compute_equilibrium()` function allows us to quickly evaluate equilibria for various parameter values. For example, let's assume we are interested in how equilibrium quantities and prices change as a function of the capital stock $K = a$ as we vary the parameter $a$.\n",
    "We can perform the analysis as follows:"
   ]
  },
  {
   "cell_type": "code",
   "execution_count": 15,
   "metadata": {},
   "outputs": [],
   "source": [
    "import copy\n",
    "\n",
    "# Solve for 30 equilibria with uniformly spaced assets a\n",
    "N = 30\n",
    "a_grid = np.linspace(1.0, 10.0, N)\n",
    "\n",
    "equilibria = []\n",
    "\n",
    "for i, a in enumerate(a_grid):\n",
    "    # Create copy of Parameter object so that we don't overwrite previous z\n",
    "    par_ = copy.copy(par)\n",
    "    par_.a = a\n",
    "\n",
    "    # Solve for new equilibrium\n",
    "    eq_ = compute_equilibrium(par_)\n",
    "\n",
    "    # Append to list of equilibria\n",
    "    equilibria.append(eq_)"
   ]
  },
  {
   "cell_type": "markdown",
   "metadata": {},
   "source": [
    "We should check that all these equilibria were computed correctly, e.g., by inspecting the market clearing conditions for the labor and goods markets:"
   ]
  },
  {
   "cell_type": "code",
   "execution_count": 16,
   "metadata": {},
   "outputs": [
    {
     "data": {
      "text/plain": [
       "np.float64(1.0116618875954941e-08)"
      ]
     },
     "execution_count": 16,
     "metadata": {},
     "output_type": "execute_result"
    }
   ],
   "source": [
    "# Print max. absolute error in labor market clearing\n",
    "max(abs(eq.L - eq.h) for eq in equilibria)\n"
   ]
  },
  {
   "cell_type": "code",
   "execution_count": 17,
   "metadata": {},
   "outputs": [
    {
     "data": {
      "text/plain": [
       "np.float64(1.5103167161356623e-08)"
      ]
     },
     "execution_count": 17,
     "metadata": {},
     "output_type": "execute_result"
    }
   ],
   "source": [
    "# Print max. absolute error in goods market clearing\n",
    "max(abs(eq.c - eq.Y) for eq in equilibria)"
   ]
  },
  {
   "cell_type": "markdown",
   "metadata": {},
   "source": [
    "These figures indicate show that market clearing holds in all of the computed equilibria.\n",
    "\n",
    "Next, we collect the equilibrium allocations and prices from the individual equilibrium objects for each $a$:"
   ]
  },
  {
   "cell_type": "code",
   "execution_count": 18,
   "metadata": {},
   "outputs": [],
   "source": [
    "c_eq_grid = np.array([eq.c for eq in equilibria])\n",
    "h_eq_grid = np.array([eq.h for eq in equilibria])\n",
    "w_eq_grid = np.array([eq.w for eq in equilibria])\n",
    "r_eq_grid = np.array([eq.r for eq in equilibria])"
   ]
  },
  {
   "cell_type": "markdown",
   "metadata": {},
   "source": [
    "These can then be plotted as follows:"
   ]
  },
  {
   "cell_type": "code",
   "execution_count": 19,
   "metadata": {},
   "outputs": [
    {
     "data": {
      "text/plain": [
       "Text(0.5, 1.0, 'Eq. labor supply $h$')"
      ]
     },
     "execution_count": 19,
     "metadata": {},
     "output_type": "execute_result"
    },
    {
     "data": {
      "application/pdf": "[encoded data removed]",
      "image/png": "[encoded data removed]",
      "text/plain": [
       "<Figure size 800x600 with 4 Axes>"
      ]
     },
     "metadata": {},
     "output_type": "display_data"
    }
   ],
   "source": [
    "import matplotlib.pyplot as plt \n",
    "\n",
    "fig, ax = plt.subplots(2, 2, figsize=(8,6), sharex=True)\n",
    "\n",
    "ax[0, 0].plot(a_grid, r_eq_grid)\n",
    "ax[0, 0].set_title('Eq. interest rate $r$')\n",
    "\n",
    "ax[0, 1].plot(a_grid, w_eq_grid)\n",
    "ax[0, 1].set_title('Eq. wage rate $w$')\n",
    "\n",
    "ax[1, 0].plot(a_grid, c_eq_grid)\n",
    "ax[1, 0].set_xlabel('Capital stock $K = a$')\n",
    "ax[1, 0].set_title('Eq. consumption $c$')\n",
    "\n",
    "ax[1, 1].plot(a_grid, h_eq_grid)\n",
    "ax[1, 1].set_xlabel('Capital stock $K = a$')\n",
    "ax[1, 1].set_title('Eq. labor supply $h$')"
   ]
  },
  {
   "cell_type": "markdown",
   "metadata": {},
   "source": [
    "As the graphs show, the equilibrium interest rate $r$ is decreasing in $K$, which follows directly from the firm's first-order condition, while the wage $w$ is increasing. Despite the increase in wages, the labor supply drops as a function of $K$. This is because with a risk-aversion of $\\gamma = 2$, the income effect of wage increases dominates and households thus reduce labor supply. "
   ]
  },
  {
   "cell_type": "markdown",
   "metadata": {},
   "source": [
    "***\n",
    "## Overlapping-generations model\n",
    "\n",
    "In previous lectures, we studied a simple two-period consumption-savings problem\n",
    "in *partial equilibrium*. This can be taken to a general-equilibrium setting \n",
    "if we assume that at each point in time there are two generations alive,\n",
    "one young and one old.\n",
    "Additionally, we extend the model with the same production sector that we introduced \n",
    "in the previous example, i.e., perfectly competitive firms \n",
    "with Cobb-Douglas technology which use capital $K$ and labor $L$.\n",
    "Unlike in the previous example, we now study a setting with\n",
    "*endogenous* capital which arises from the households' savings decision,\n",
    "but we fix labor supply to be exogenous.\n",
    "\n",
    "*Additional material*\n",
    "\n",
    "- [The Overlapping Generations Model](https://intro.quantecon.org/olg.html)\n",
    "  on QuantEcon provides an alternative exposition of this topic.\n",
    "\n",
    "### Household problem\n",
    "\n",
    "At each point in time, the economy is populated by $N$ identical young and \n",
    "$N$ identical old household. Without loss of generality, we can set $N=1$.\n",
    "Each cohort solves the same household problem as we had before,\n",
    "$$\n",
    "\\begin{aligned}\n",
    "\\max_{c_y,~c_o,~a} \\enskip & \\Bigl\\{ u(c_y) + \\beta u(c_o) \\Bigr\\} \\\\\n",
    "\\text{s.t.} \\quad c_y + a &= w \\\\\n",
    "                  c_o &= (1+r)a \\\\\n",
    "    c_y &\\geq 0, ~ c_o \\geq 0,~ a \\geq 0\n",
    "\\end{aligned}\n",
    "$$\n",
    "where $\\beta$ is the discount factor,\n",
    "$r$ is the interest rate, $w$ is the wage income received when young, $a$ are savings by the young, \n",
    "and $(c_y,c_o)$ is the optimal consumption allocation\n",
    "when young and old. \n",
    "Per-period utility $u(c)$ is the CRRA utility function given by\n",
    "$$\n",
    "u(c) = \\begin{cases}\n",
    "    \\frac{c^{1-\\gamma}}{1-\\gamma} & \\text{if } \\gamma \\neq 1 \\\\\n",
    "    \\log(c) & \\text{if } \\gamma = 1\n",
    "    \\end{cases}\n",
    "$$\n",
    "where $\\gamma$ is the RRA coefficient and $\\log(\\bullet)$ denotes\n",
    "the natural logarithm.\n",
    "\n",
    "We assume that the household inelastically supplies one unit of labor when \n",
    "young, therefore $w$ is both the wage rate and their labor income.\n",
    "We impose that the household does not work when old, and it therefore\n",
    "needs to rely on its savings to finance consumption."
   ]
  },
  {
   "cell_type": "markdown",
   "metadata": {},
   "source": [
    "### Firm problem\n",
    "\n",
    "\n",
    "The firm problem is unchanged from what we had earlier and is summarized here for convenience.\n",
    "Firms produce output using Cobb-Douglas technology\n",
    "$$\n",
    "Y = z K^{\\alpha} L^{1-\\alpha}\n",
    "$$\n",
    "and maximize profits according to\n",
    "$$\n",
    "\\max_{K,~L} \\enskip \\Pi = z K^{\\alpha} L^{1-\\alpha} - r K - w L\n",
    "$$\n",
    "The solution is characterized by the firm's first-order conditions\n",
    "$$\n",
    "\\begin{aligned}\n",
    "r &= \\alpha z \\left(\\frac{K}{L}\\right)^{\\alpha-1} = \\alpha z k^{\\alpha-1} \\\\\n",
    "w &= (1-\\alpha) z\\left(\\frac{K}{L}\\right)^{\\alpha} = (1-\\alpha) z k^{\\alpha}\n",
    "\\end{aligned}\n",
    "$$\n",
    "where we define the capital-labor ratio as $k \\equiv \\frac{K}{L}$.\n",
    "We'll use these conditions in the numerical solution below.\n"
   ]
  },
  {
   "cell_type": "markdown",
   "metadata": {},
   "source": [
    "\n",
    "### Equilibrium\n",
    "\n",
    "The general equilibrium in this economy is a set of quantities $(K,L,Y,c_o,c_y,a)$ and prices $(r,w)$ \n",
    "which solve the household's and firm's problem\n",
    "such that the following market clearing conditions are satisfied:\n",
    "\n",
    "- Asset market: $K = N\\cdot a$ (aggregate savings $N \\cdot a$ supplied by households equal capital $K$ demanded by firms).\n",
    "- Labor market: $L = N$ (Labor $L$ demanded by firms equals exogenously supplied labor by households).\n",
    "- Goods market: $Y = N(c_y + c_o)$ (the amount of goods consumed by young and old each period equals aggregate output).\n",
    "\n",
    "Due to Walras' Law, we only have to make sure that two of these markets clear as \n",
    "this implies market clearing in the residual market. \n"
   ]
  },
  {
   "cell_type": "markdown",
   "metadata": {},
   "source": [
    "### Numerical solution\n",
    "\n",
    "\n",
    "#### Some useful analytical results\n",
    "\n",
    "To solve the problem numerically, we explore an alternative approach to what we did in the previous section where we ran a minimizer in each iteration of the equilibrium root-finder to solve the household problem. Now we'll use the household's \n",
    "first-order conditions to find an analytical expression for savings $a$ so we don't have to\n",
    "run a minimizer.\n",
    "\n",
    "Recall from the previous lecture that the solution to the two-period savings\n",
    "problem is\n",
    "$$\n",
    "c_y = \\frac{1}{1 + \\beta (1+r)^{\\frac{1}{\\gamma} - 1}} w\n",
    "$$\n",
    "which can be derived by combining the Euler equation and the first-period\n",
    "budget constraint and solving for $c_y$.\n",
    "If we define $s$ as the savings rate when young\n",
    "(i.e., the fraction of income saved), this can be written as\n",
    "$$\n",
    "c_y = (1-s) w\n",
    "$$\n",
    "where\n",
    "$$\n",
    "s = \\frac{1}{1 + \\beta^{-\\frac{1}{\\gamma}} (1+r)^{1-\\frac{1}{\\gamma}}}\n",
    "$$\n",
    "and consequently, savings are given by\n",
    "$$\n",
    "a = s\\cdot w\n",
    "$$\n",
    "We'll use this expression to compute capital supply by households \n",
    "for a given interest rate."
   ]
  },
  {
   "cell_type": "markdown",
   "metadata": {},
   "source": [
    "#### Solution algorithm\n",
    "\n",
    "The structure of the solution algorithm is similar to the previous section. This time, we opt to find the equilibrium capital-labor ratio $k = \\frac{K}{L}$, but we could have just as well opted to iterate over one of the equilibrium prices $r$ or $w$.\n",
    "\n",
    "The implementation to find the general equilibrium proceeds as follows:\n",
    "\n",
    "1.  Implement a function $f(k)$ which returns the excess demand for capital if the \n",
    "    conjectured capital-labor ratio is $k$.\n",
    "3.  Call a root-finder to locate the root of $f$.\n",
    "4.  The root-finder will repeatedly call $f$. For each invocation of $f$ with the current guess of $k$,\n",
    "\n",
    "    1. Compute the prices $(r,w)$ implied by $k$ that satisfy the firm's first-order conditions\n",
    "        stated above.\n",
    "    2. Compute household savings given $(r, w)$ using the savings formula derived above.\n",
    "    3.  Compute the excess capital demand $K - Na$ as the return value of $f$.\n",
    "5.  Once the root-finder terminates and returns the equilibrium $k$,\n",
    "    compute and store all other equilibrium quantities and prices."
   ]
  },
  {
   "cell_type": "markdown",
   "metadata": {},
   "source": [
    "#### Implementation\n",
    "\n",
    "The full implementation is provided in the file [`lecture06_olg.py`](lecture06_olg.py).\n",
    "For expositional convenience, the following code segments replicate selected code blocks from that file.\n",
    "\n",
    "We define a \n",
    "[`data class`](https://docs.python.org/3/library/dataclasses.html)\n",
    "called `Parameters` to store the problem parameters. In theory, we could \n",
    "have repurposed the `Parameters` class introduced in the previous section for this purpose,\n",
    "but since the problems have slightly different parameters, it is cleaner to create one from scratch."
   ]
  },
  {
   "cell_type": "code",
   "execution_count": 20,
   "metadata": {},
   "outputs": [],
   "source": [
    "from dataclasses import dataclass\n",
    "\n",
    "@dataclass\n",
    "class Parameters:\n",
    "    \"\"\"\n",
    "    Parameters for the overlapping generations model.\n",
    "    \"\"\"\n",
    "    alpha: float = 0.36     # Capital share in production function\n",
    "    z: float = 1.0          # TFP \n",
    "    beta: float = 0.96      # Discount factor\n",
    "    gamma: float = 2.0      # RRA in utility\n",
    "    N: int = 1              # Number of households per cohort  \n"
   ]
  },
  {
   "cell_type": "markdown",
   "metadata": {},
   "source": [
    "The root-finder will ask us to evaluate excess capital demand for each conjectured $k$. First, we implement the following function to map $k$ to factor prices $r$ and $w$ using the firm's first-order conditions."
   ]
  },
  {
   "cell_type": "code",
   "execution_count": 21,
   "metadata": {},
   "outputs": [],
   "source": [
    "def compute_prices(k, par: Parameters):\n",
    "    \"\"\"\n",
    "    Return the solution to the firm's problem for given return on capital \n",
    "    and parameters.\n",
    "\n",
    "    Parameters\n",
    "    ----------\n",
    "    k : float\n",
    "        Capital-labor ratio\n",
    "    par : Parameters\n",
    "        Parameters for the given problem\n",
    "\n",
    "    Returns\n",
    "    -------\n",
    "    r : float\n",
    "        Return on capital\n",
    "    w : float\n",
    "        Wage rate\n",
    "\n",
    "    \"\"\"\n",
    "\n",
    "    # Return on capital\n",
    "    r = par.alpha * par.z * k**(par.alpha - 1)\n",
    "\n",
    "    # Wage rate\n",
    "    w = (1-par.alpha) * par.z * k**par.alpha\n",
    "    \n",
    "    return r, w"
   ]
  },
  {
   "cell_type": "markdown",
   "metadata": {},
   "source": [
    "The last building block required for the root-finder is the solution to the household problem.\n",
    "We define the following function which returns the household's optimal savings rate\n",
    "given $r$:"
   ]
  },
  {
   "cell_type": "code",
   "execution_count": 22,
   "metadata": {},
   "outputs": [],
   "source": [
    "def compute_savings_rate(r, par: Parameters):\n",
    "    \"\"\"\n",
    "    Compute the savings rate using the analytical solution\n",
    "    to the household problem.\n",
    "\n",
    "    Parameters\n",
    "    ----------\n",
    "    r : float\n",
    "        Return on capital\n",
    "    par : Parameters\n",
    "        Parameters for the given problem\n",
    "\n",
    "    Returns\n",
    "    -------\n",
    "    s : float\n",
    "        Savings rate\n",
    "    \"\"\"\n",
    "\n",
    "    s = 1/(1 + par.beta**(-1/par.gamma) * (1+r)**(1-1/par.gamma))\n",
    "\n",
    "    return s"
   ]
  },
  {
   "cell_type": "markdown",
   "metadata": {},
   "source": [
    "We can now combine the results from these functions to compute excess demand for capital. We implement the following function to do that which will be called by the root-finder."
   ]
  },
  {
   "cell_type": "code",
   "execution_count": 23,
   "metadata": {},
   "outputs": [],
   "source": [
    "def compute_capital_ex_demand(k, par: Parameters):\n",
    "    \"\"\"\n",
    "    Compute the excess demand for capital.\n",
    "\n",
    "    Parameters\n",
    "    ----------\n",
    "    k : float\n",
    "        Capital-labor ratio\n",
    "    par : Parameters\n",
    "        Parameters for the given problem\n",
    "\n",
    "    Returns\n",
    "    -------\n",
    "    ex_demand : float\n",
    "        Excess demand for capital\n",
    "    \"\"\"\n",
    "    \n",
    "    # Compute prices from firm's FOCs\n",
    "    r, w = compute_prices(k, par)\n",
    "\n",
    "    # Compute savings rate\n",
    "    srate = compute_savings_rate(r, par)\n",
    "\n",
    "    # Aggregate supply of savings by households (savings)\n",
    "    A = srate * w * par.N\n",
    "\n",
    "    # Aggregate labor supply\n",
    "    L = par.N\n",
    "\n",
    "    # Aggregate capital demand\n",
    "    K = k * L\n",
    "\n",
    "    # Excess demand for capital\n",
    "    ex_demand = K  - A\n",
    "\n",
    "    return ex_demand"
   ]
  },
  {
   "cell_type": "markdown",
   "metadata": {},
   "source": [
    "To solve the problem, we first create an instance of the problem parameters:"
   ]
  },
  {
   "cell_type": "code",
   "execution_count": 24,
   "metadata": {},
   "outputs": [],
   "source": [
    "# Create parameter instance\n",
    "par = Parameters()"
   ]
  },
  {
   "cell_type": "markdown",
   "metadata": {},
   "source": [
    "<div class=\"alert alert-info\">\n",
    "<h3> Your turn</h3>\n",
    "\n",
    "Using the code we just wrote, plot the function <tt>compute_capital_ex_demand()</tt> for 50 points of \n",
    "<tt>k</tt> which are uniformly spaced on the interval [0.01, 1].\n",
    "\n",
    "</div>"
   ]
  },
  {
   "cell_type": "markdown",
   "metadata": {},
   "source": [
    "We can now test the code by calling the root-finder. We opt to use the default `'brentq'` method, but could just as well have opted for a Newton-based algorithm."
   ]
  },
  {
   "cell_type": "code",
   "execution_count": 25,
   "metadata": {},
   "outputs": [],
   "source": [
    "from scipy.optimize import root_scalar\n",
    "\n",
    "# Initial bracket for k used by root-finder\n",
    "bracket = (1.0e-3, 10)\n",
    "\n",
    "res = root_scalar(\n",
    "    compute_capital_ex_demand, bracket=bracket, args=(par, )\n",
    ")\n"
   ]
  },
  {
   "cell_type": "markdown",
   "metadata": {},
   "source": [
    "Inspecting the result return by the root-finder show that the algorithm terminated successfully."
   ]
  },
  {
   "cell_type": "code",
   "execution_count": 26,
   "metadata": {},
   "outputs": [
    {
     "data": {
      "text/plain": [
       "      converged: True\n",
       "           flag: converged\n",
       " function_calls: 14\n",
       "     iterations: 13\n",
       "           root: 0.11175097268785739\n",
       "         method: brentq"
      ]
     },
     "execution_count": 26,
     "metadata": {},
     "output_type": "execute_result"
    }
   ],
   "source": [
    "res"
   ]
  },
  {
   "cell_type": "markdown",
   "metadata": {},
   "source": [
    "The module \n",
    "[`lecture06_olg.py`](lecture06_olg.py)\n",
    "implements two additional convenience functions\n",
    "`compute_olg_equilibrium()` and `print_olg_equilibrium()` which \n",
    "compute and print the equilibrium allocation for a set of parameters.\n",
    "We can use these to print all equilibrium quantities and prices:\n"
   ]
  },
  {
   "cell_type": "code",
   "execution_count": 27,
   "metadata": {},
   "outputs": [
    {
     "name": "stdout",
     "output_type": "stream",
     "text": [
      "Equilibrium:\n",
      "  Households:\n",
      "    c_y = 0.17902\n",
      "    c_o = 0.27531\n",
      "    a = 0.11175\n",
      "  Firms:\n",
      "    K = 0.11175\n",
      "    L = 1.00000\n",
      "    Y = 0.45433\n",
      "  Prices:\n",
      "    r = 1.46360\n",
      "    w = 0.29077\n",
      "  Market clearing:\n",
      "    Capital market: 1.08247e-15\n",
      "    Goods market: -1.55431e-15\n"
     ]
    }
   ],
   "source": [
    "from lecture06_olg import compute_olg_equilibrium, print_olg_equilibrium\n",
    "\n",
    "# Compute equilibrium, return OLGEquilbrium instance \n",
    "eq = compute_olg_equilibrium(par)\n",
    "\n",
    "# Print equilibrium allocation & prices\n",
    "print_olg_equilibrium(eq)"
   ]
  },
  {
   "cell_type": "markdown",
   "metadata": {},
   "source": [
    "<div class=\"alert alert-info\">\n",
    "<h3> Your turn</h3>\n",
    "\n",
    "You are interested in how the equilibrium prices depend on the cohort size <i>N</i>. Plot the equilibrium prices <i>r</i> and <i>w</i> when varying <i>N</i> over the range of integers from 1 to 10.\n",
    "\n",
    "</div>"
   ]
  }
 ],
 "metadata": {
  "kernelspec": {
   "display_name": "FIE463",
   "language": "python",
   "name": "python3"
  },
  "language_info": {
   "codemirror_mode": {
    "name": "ipython",
    "version": 3
   },
   "file_extension": ".py",
   "mimetype": "text/x-python",
   "name": "python",
   "nbconvert_exporter": "python",
   "pygments_lexer": "ipython3",
   "version": "3.12.8"
  }
 },
 "nbformat": 4,
 "nbformat_minor": 2
}
