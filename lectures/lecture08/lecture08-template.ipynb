{
 "cells": [
  {
   "cell_type": "markdown",
   "metadata": {},
   "source": [
    "# Stochastic processes & wealth dynamics"
   ]
  },
  {
   "cell_type": "markdown",
   "metadata": {},
   "source": [
    "## Topics for today\n",
    "\n",
    "1.  Autoregressive processes: AR(1)\n",
    "2.  Simulating wealth dynamics with IID income\n",
    "3.  Simulating wealth dynamics with AR(1) income  "
   ]
  },
  {
   "cell_type": "code",
   "execution_count": null,
   "metadata": {},
   "outputs": [],
   "source": [
    "# Enable automatic reloading of external modules\n",
    "%load_ext autoreload\n",
    "%autoreload 2"
   ]
  },
  {
   "cell_type": "markdown",
   "metadata": {},
   "source": [
    "***\n",
    "## AR(1) process\n",
    "\n",
    "-   One of the most widely used stochastic processes in economics and finance (linear & parsimonious)\n",
    "-   Law-of-motion:\n",
    "    $$\n",
    "    \\begin{aligned}\n",
    "        x_{t+1} &= \\mu + \\rho x_t + \\epsilon_{t+1} \\\\\n",
    "        \\epsilon_{t+1} &\\stackrel{\\text{iid}}{\\sim} \\mathcal{N}\\left(0, \\sigma^2\\right)\n",
    "    \\end{aligned}\n",
    "    $$\n",
    "\n",
    "-   Parameters:\n",
    "\n",
    "    -  $\\mu$ controls the mean\n",
    "    -  $\\rho$ controls the autocorrelation\n",
    "    -  $\\sigma^2$ controls the variance of the error term $\\epsilon_t$ (also called \"innovation\" or \"shock\")\n",
    "\n",
    "-   Process is stationary if $\\rho \\in (-1, 1)$\n",
    "\n",
    "-   Moments of the stationary distribution:\n",
    "\n",
    "    -   (unconditional) mean:\n",
    "        $$\n",
    "        \\mathbb{E}[x_t] = \\frac{\\mu}{1-\\rho}\n",
    "        $$\n",
    "\n",
    "    -   (unconditional) variance:\n",
    "        $$\n",
    "        \\text{Var}(x_t) = \\frac{\\sigma^2}{1-\\rho^2}\n",
    "        $$\n",
    "\n",
    "    -   Stationary distribution:\n",
    "        $$\n",
    "        x_t \\sim \\mathcal{N}\\left(\\frac{\\mu}{1-\\rho}, \\frac{\\sigma^2}{1-\\rho^2} \\right)\n",
    "        $$"
   ]
  },
  {
   "cell_type": "markdown",
   "metadata": {
    "vscode": {
     "languageId": "plaintext"
    }
   },
   "source": [
    "***\n",
    "### Simulating an AR(1) process\n",
    "\n",
    "-   Simulate AR(1) for some given initial value $x_0$\n",
    "-   Use [normal()](https://numpy.org/doc/stable/reference/random/generated/numpy.random.Generator.normal.html) to draw innovations $\\epsilon_t$"
   ]
  },
  {
   "cell_type": "code",
   "execution_count": null,
   "metadata": {},
   "outputs": [],
   "source": [
    "import numpy as np\n",
    "\n",
    "def simulate_ar1(x0, mu, rho, sigma, T):\n",
    "    \"\"\"\n",
    "    Simulate an AR(1) process.\n",
    "\n",
    "    Parameters\n",
    "    ----------\n",
    "    x0 : float\n",
    "        The initial value of the process.\n",
    "    mu : float\n",
    "        Intercept.\n",
    "    rho : float\n",
    "        The autoregressive parameter.\n",
    "    sigma : float\n",
    "        The standard deviation of the noise term.\n",
    "    T : int\n",
    "        The number of time periods to simulate.\n",
    "\n",
    "    Returns\n",
    "    -------\n",
    "    numpy.ndarray\n",
    "        An array of length `n` containing the simulated AR(1) process.\n",
    "    \"\"\""
   ]
  },
  {
   "cell_type": "markdown",
   "metadata": {},
   "source": [
    "- Simulate AR(1) for $x_0 = 0$, $\\mu = 0$, $\\rho = 0.9$, $\\sigma = 0.1$ for $T=100$ periods"
   ]
  },
  {
   "cell_type": "markdown",
   "metadata": {},
   "source": [
    "<div class=\"alert alert-info\">\n",
    "<h3> Your turn</h3>\n",
    "\n",
    "Modify the above code to simulate the AR(1) from an initial value of <i>x<sub>0</sub> = 10</i>. Where does this simulated series converge to?\n",
    "</div>"
   ]
  },
  {
   "cell_type": "markdown",
   "metadata": {},
   "source": [
    "- Simulate and plot $N=20$ different sequences using `simulate_ar1()`"
   ]
  },
  {
   "cell_type": "code",
   "execution_count": null,
   "metadata": {},
   "outputs": [],
   "source": [
    "# Simulate 20 different sequences\n",
    "N = 20"
   ]
  },
  {
   "cell_type": "markdown",
   "metadata": {},
   "source": [
    "<div class=\"alert alert-info\">\n",
    "<h3> Your turn</h3>\n",
    "\n",
    "Let <i>µ = 1</i>, <i>ρ=0.95</i>, and <i>σ = 0.1</i>.\n",
    "Using the function <tt>simulate_ar1()</tt>,\n",
    "simulate 1,000,000 draws of <i>x<sub>t</sub></i> and verify that the unconditional mean and variance are close to the values given by the exact formulas above,\n",
    "i.e., <i>E[x] = µ/(1-ρ)</i> and <i>Var(x) = σ<sup>2</sup> / (1-ρ<sup>2</sup>)</i>.\n",
    "</div>"
   ]
  },
  {
   "cell_type": "markdown",
   "metadata": {},
   "source": [
    "***\n",
    "## Wealth dynamics\n",
    "\n",
    "### Savings rule\n",
    "\n",
    "-   Household $i$'s wealth $a_t$ evolves according to\n",
    "    $$\n",
    "    a_{i,t+1} = R (a_{i,t} - c_{i,t}) + y_{i,t+1}\n",
    "    $$\n",
    "\n",
    "    where\n",
    "\n",
    "    -   $c_{i,t}$ is consumption in period $t$\n",
    "    -   $y_{i,t+1}$ is labor income in period $t+1$\n",
    "    -   $R$ is the fixed (exogenous) interest rate\n",
    "\n",
    "-   Assume *exogenous* rule-of-thumb savings rate $s$ :\n",
    "\n",
    "    $$\n",
    "    \\begin{aligned}\n",
    "        c_{i,t} &= (1-s)a_{i,t} \\\\\n",
    "        a_{i,t+1} &= R s a_{i,t} + y_{i,t+1}\n",
    "    \\end{aligned}\n",
    "    $$\n"
   ]
  },
  {
   "cell_type": "markdown",
   "metadata": {},
   "source": [
    "***\n",
    "### Wealth dynamics with stochastic IID income\n",
    "\n",
    "-   Assume log income is IID normal (income in levels is *log-normal*:\n",
    "    $$\n",
    "    \\log y_{i,t+1} \\stackrel{\\text{iid}}{\\sim} \\mathcal{N}\\left(\\mu_y, \\sigma_y^2 \\right)\n",
    "    $$\n",
    "\n",
    "    Parameters:\n",
    "\n",
    "    -   $\\mu_y$: mean of log income\n",
    "    -   $\\sigma_y^2$: variance of log income\n",
    "\n",
    "-   **Goal**: Simulate wealth dynamics of a cross-section of households"
   ]
  },
  {
   "cell_type": "markdown",
   "metadata": {},
   "source": [
    "***\n",
    "#### Analytical results (to verify simulation results)\n",
    "\n",
    "-   For a log-normal random variable $X$ we have:\n",
    "\n",
    "    $$\n",
    "    \\begin{aligned}\n",
    "        \\log X \\stackrel{\\text{iid}}{\\sim} \\mathcal{N}\\left(\\mu, \\sigma^2 \\right)\n",
    "        \\quad\\Longrightarrow\\quad\n",
    "\n",
    "        \\begin{cases}\n",
    "        \\mathbb{E}[X] &= e^{ \\mu + \\frac{1}{2}\\sigma^2} \\\\\n",
    "        \\text{Var}(X) &= \\left( e^{\\sigma^2} - 1 \\right) e^{2 \\mu + \\sigma^2}\n",
    "        \\end{cases}\n",
    "    \\end{aligned}\n",
    "    $$\n",
    "\n",
    "-   Using this result, we can find the moments of the stationary distribution of wealth:\n",
    "\n",
    "    -   Mean:\n",
    "        $$\n",
    "        \\mathbb{E}[a_{i,t}] = \\frac{\\mathbb{E}[y_{i,t}]}{1 - Rs}\n",
    "        = \\frac{e^{\\mu_y + \\frac{1}{2}\\sigma_y^2}}{1 - Rs}\n",
    "        $$\n",
    "\n",
    "    -   Variance:\n",
    "        $$\n",
    "        \\text{Var}(a_{i,t}) = \\frac{\\text{Var}(y_{i,t})}{1-(Rs)^2} = \n",
    "        \\frac{\\left( e^{\\sigma_y^2} - 1 \\right) e^{2 \\mu_y + \\sigma_y^2}}{1-(Rs)^2}\n",
    "        $$\n",
    "\n",
    "-   Requires condition $R s < 1$ to hold!"
   ]
  },
  {
   "cell_type": "markdown",
   "metadata": {},
   "source": [
    "***\n",
    "#### Simulating the wealth distribution\n",
    "\n",
    "| Parameter  | Description | Value       |\n",
    "|------------|-------------|-------------|\n",
    "| s | Savings rate | 0.75 |\n",
    "| $R$ | Gross return | 1.1 |\n",
    "| $\\sigma_y$ | Volatility of log labor income | 0.1 |\n",
    "| $\\mu_y$ | Mean of log labor income | $-\\frac{1}{2}\\sigma_y^2$|"
   ]
  },
  {
   "cell_type": "code",
   "execution_count": null,
   "metadata": {},
   "outputs": [],
   "source": [
    "from dataclasses import dataclass\n",
    "\n",
    "@dataclass\n",
    "class Parameters:\n",
    "    \"\"\"\n",
    "    Container to store model parameters\n",
    "    \"\"\""
   ]
  },
  {
   "cell_type": "code",
   "execution_count": null,
   "metadata": {},
   "outputs": [],
   "source": [
    "# Create an instance of the Parameters class\n",
    "par = Parameters()"
   ]
  },
  {
   "cell_type": "code",
   "execution_count": null,
   "metadata": {},
   "outputs": [],
   "source": [
    "# Check for finite mean and variance of stationary distribution\n",
    "assert par.R * par.s < 1"
   ]
  },
  {
   "cell_type": "markdown",
   "metadata": {},
   "source": [
    "Finally, we verify that the analytical unconditional mean of income is 1 as intended, and we compute the mean of the stationary wealth distribution."
   ]
  },
  {
   "cell_type": "code",
   "execution_count": null,
   "metadata": {},
   "outputs": [],
   "source": [
    "# Mean of stationary INCOME distribution\n",
    "y_mean = np.exp(par.mu_y + par.sigma_y**2/2)\n",
    "\n",
    "# Mean of stationary ASSET distribution\n",
    "a_mean = y_mean / (1 - par.s * par.R)\n",
    "\n",
    "print(f'Mean income: {y_mean:.3f}')\n",
    "print(f'Mean wealth: {a_mean:.3f}')"
   ]
  },
  {
   "cell_type": "markdown",
   "metadata": {},
   "source": [
    "<div class=\"alert alert-info\">\n",
    "<h3> Your turn</h3>\n",
    "\n",
    "<p>\n",
    "Simulate 100,000 income draws of <i>y<sub>t</sub></i> and verify that the realizations have a mean of one, <i>E[y<sub>t</sub>] = 1</i>.\n",
    "</p>\n",
    "<p>\n",
    "<i>Hint:</i> You need to draw a sample from the underlying \n",
    "<a href=\"https://numpy.org/doc/stable/reference/random/generated/numpy.random.Generator.normal.html\">normal</a> \n",
    "distribution of <i>log y<sub>t</sub></i>\n",
    "with parameters <i>μ<sub>y</sub></i> and <i>σ<sub>y</sub></i> and then apply the exponential function\n",
    "<tt>np.exp()</tt>.\n",
    "</p>\n",
    "</div>"
   ]
  },
  {
   "cell_type": "markdown",
   "metadata": {},
   "source": [
    "##### Implementation\n",
    "\n",
    "*Steps:*\n",
    "\n",
    "1. Draw all income realizations for all $N$ households and all $T$ periods and store them in a $T \\times N$ array.\n",
    "2. Set the initial assets for all households to the given value $a_0$.\n",
    "3. Use the asset law-of-motion to simulate assets forward one period at a time."
   ]
  },
  {
   "cell_type": "code",
   "execution_count": null,
   "metadata": {},
   "outputs": [],
   "source": [
    "def simulate_wealth_iid_income(par: Parameters, a0, T, N, rng=None):\n",
    "    \"\"\"\n",
    "    Simulate the evolution of wealth over time when income is IID.\n",
    "\n",
    "    Parameters\n",
    "    ----------\n",
    "    par : Parameters\n",
    "    a0 : float\n",
    "        Initial wealth.\n",
    "    T : int\n",
    "        Number of time periods to simulate.\n",
    "    N : int\n",
    "        Number of individuals to simulate.\n",
    "    rng : numpy.random.Generator, optional\n",
    "        A random number generator instance.\n",
    "\n",
    "    Returns\n",
    "    -------\n",
    "    a_sim : numpy.ndarray\n",
    "        A (T+1, N) array where each column represents the simulated wealth path of an household.\n",
    "    \"\"\""
   ]
  },
  {
   "cell_type": "markdown",
   "metadata": {},
   "source": [
    "##### Simulating a small sample"
   ]
  },
  {
   "cell_type": "code",
   "execution_count": null,
   "metadata": {},
   "outputs": [],
   "source": [
    "# Number of households\n",
    "N = 20\n",
    "# Number of periods to simulate\n",
    "T = 100"
   ]
  },
  {
   "cell_type": "markdown",
   "metadata": {},
   "source": [
    "##### Simulating a large sample"
   ]
  },
  {
   "cell_type": "markdown",
   "metadata": {},
   "source": [
    "***\n",
    "##### Comparing simulated to analytical moments\n",
    "\n",
    "-   Compute analytical moments using formulates from above\n",
    "-   Compute moments of simulated data\n",
    "-   Plot analytical vs. simulated cross-sectional mean and variance"
   ]
  },
  {
   "cell_type": "code",
   "execution_count": null,
   "metadata": {},
   "outputs": [],
   "source": [
    "from lecture08_iid_income import compute_wealth_mean, compute_wealth_var\n",
    "\n",
    "# Compute analytical mean and variance\n",
    "a_mean_exact = compute_wealth_mean(par)\n",
    "a_var_exact = compute_wealth_var(par)"
   ]
  },
  {
   "cell_type": "code",
   "execution_count": null,
   "metadata": {},
   "outputs": [],
   "source": [
    "import matplotlib.pyplot as plt\n",
    "\n",
    "fig, (ax1, ax2) = plt.subplots(1, 2, figsize=(8, 3), sharex=True)\n",
    "\n",
    "# Plot simulated vs. analytical mean\n",
    "ax1.axhline(a_mean_exact, color='black', ls='--', lw=1, label='Exact')\n",
    "ax1.set_xlabel('Period')\n",
    "ax1.set_title('Cross-sectional mean of wealth')\n",
    "ax1.legend(loc='lower right')\n",
    "\n",
    "# Plot simulated vs. analytical variance\n",
    "ax2.axhline(a_var_exact, color='black', ls='--', lw=1, label='Exact')\n",
    "ax2.set_title('Cross-sectional variance of wealth')\n",
    "ax2.set_xlabel('Period')\n",
    "ax2.legend(loc='lower right')"
   ]
  },
  {
   "cell_type": "markdown",
   "metadata": {},
   "source": [
    "***\n",
    "##### Measuring wealth inequality\n",
    "\n",
    "-   Use Gini coefficient to measure wealth inequality in the simulated economy\n",
    "-   Implement `gini()` function using [formula for sorted arrays](https://en.wikipedia.org/wiki/Gini_coefficient#Alternative_expressions):\n",
    "\n",
    "    $$\n",
    "    G_t = \\frac{2}{N} \\frac{\\sum_{i=1}^N i \\cdot a_{i,t}}%\n",
    "        {\\sum_{i=1}^N a_{i,t}}\n",
    "        - \\frac{N+1}{N}\n",
    "    $$\n",
    "\n",
    "-   Use [np.sort()](https://numpy.org/doc/stable/reference/generated/numpy.sort.html) to sort NumPy array"
   ]
  },
  {
   "cell_type": "code",
   "execution_count": null,
   "metadata": {},
   "outputs": [],
   "source": [
    "def gini(x):\n",
    "    \"\"\"\n",
    "    Compute the Gini coefficient of an array.\n",
    "\n",
    "    Parameters\n",
    "    ----------\n",
    "    x : numpy.ndarray\n",
    "        An array of income, wealth, etc.\n",
    "\n",
    "    Returns\n",
    "    -------\n",
    "    float\n",
    "        The Gini coefficient.\n",
    "    \"\"\""
   ]
  },
  {
   "cell_type": "markdown",
   "metadata": {},
   "source": [
    "<div class=\"alert alert-info\">\n",
    "<h3> Your turn</h3>\n",
    "\n",
    "Change the parameter <i>σ<sub>y</sub></i> governing the volatility of income to <i>σ<sub>y</sub> = 0.5</i>\n",
    "and rerun the code for the whole current section. What happens to average wealth in the economy and to the Gini coefficient?\n",
    "</div>"
   ]
  },
  {
   "cell_type": "markdown",
   "metadata": {},
   "source": [
    "***\n",
    "### Wealth dynamics with persistent income\n",
    "\n",
    "-   Assume now that household $i$'s income follows an AR(1) in logs:\n",
    "$$\n",
    "\\begin{aligned}\n",
    "\\log y_{i,t+1} &= \\mu_y + \\rho \\log y_{i,t} + \\epsilon_{i,t+1} \\\\\n",
    "\\epsilon_{i,t+1} &\\stackrel{\\text{iid}}{\\sim} \\mathcal{N}\\left(0, \\sigma_{\\epsilon}^2 \\right)\n",
    "\\end{aligned}\n",
    "$$\n"
   ]
  },
  {
   "cell_type": "markdown",
   "metadata": {},
   "source": [
    "***\n",
    "#### Analytical results (to verify simulation results)\n",
    "\n",
    "-   **Income:**\n",
    "    -   Stationary distribution of log income:\n",
    "\n",
    "        $$\n",
    "        \\log y_{i,t} \\sim \\mathcal{N}\\left(\\frac{\\mu_y}{1-\\rho}, \\frac{\\sigma_{\\epsilon}^2}{1-\\rho^2} \\right)\n",
    "        $$\n",
    "\n",
    "    -   Mean of stationary income distribution:\n",
    "        $$\n",
    "        \\mathbb{E}[y_{i,t}] = \\exp\\left\\{\\frac{\\mu_y}{1-\\rho} + \\frac{1}{2} \\frac{\\sigma_{\\epsilon}^2}{1-\\rho^2}\\right\\}\n",
    "        $$\n",
    "\n",
    "-   **Assets:**\n",
    "    -   Mean of stationary asset distribution:\n",
    "\n",
    "        $$\n",
    "        \\mathbb{E}[a_{i,t}] = \\frac{\\mathbb{E}[y_{i,t}]}{1 - Rs}\n",
    "        $$\n",
    "\n",
    "    -   Variance? No closed-form expression available."
   ]
  },
  {
   "cell_type": "markdown",
   "metadata": {},
   "source": [
    "***\n",
    "#### Simulating the wealth distribution\n",
    "\n",
    "| Parameter  | Description | Value       |\n",
    "|------------|-------------|-------------|\n",
    "| s | Savings rate | 0.75 |\n",
    "| $R$ | Gross return | 1.1 |\n",
    "| $\\sigma_{\\epsilon}$ | Volatility of log labor income | 0.1 |\n",
    "| $\\rho$ | Autocorrelation of log labor income | 0.95 |\n",
    "| $\\mu_y$ | Mean of log labor income | $- \\frac{1}{2} \\frac{\\sigma_{\\epsilon}^2}{1+\\rho}$ |\n"
   ]
  },
  {
   "cell_type": "code",
   "execution_count": null,
   "metadata": {},
   "outputs": [],
   "source": [
    "from dataclasses import dataclass\n",
    "\n",
    "@dataclass\n",
    "class Parameters:\n",
    "    \"\"\"\n",
    "    Container to store model parameters\n",
    "    \"\"\"\n"
   ]
  },
  {
   "cell_type": "code",
   "execution_count": null,
   "metadata": {},
   "outputs": [],
   "source": [
    "# Create an instance of the Parameters class\n",
    "par = Parameters()"
   ]
  },
  {
   "cell_type": "markdown",
   "metadata": {},
   "source": [
    "-   Compute analytical mean of income and assets"
   ]
  },
  {
   "cell_type": "code",
   "execution_count": null,
   "metadata": {},
   "outputs": [],
   "source": [
    "# Mean of stationary INCOME distribution \n",
    "y_mean = np.exp(par.mu_y/(1-par.rho) + par.sigma_eps**2/2/(1-par.rho**2))\n",
    "\n",
    "# Mean of stationary ASSET distribution\n",
    "a_mean = y_mean / (1 - par.s * par.R)\n",
    "\n",
    "print(f'Mean income: {y_mean:.3f}')\n",
    "print(f'Mean wealth: {a_mean:.3f}')"
   ]
  },
  {
   "cell_type": "markdown",
   "metadata": {},
   "source": [
    "<div class=\"alert alert-info\">\n",
    "<h3> Your turn</h3>\n",
    "\n",
    "Simulate a time series of 10,000,000 income draws <i>y<sub>t</sub></i> and verify that the realizations have a mean of one.\n",
    "Use the <tt>simulate_ar1()</tt> function we wrote earlier for this task.\n",
    "\n",
    "</div>"
   ]
  },
  {
   "cell_type": "markdown",
   "metadata": {},
   "source": [
    "##### Implementation\n",
    "\n",
    "*Steps:*\n",
    "\n",
    "1. Draw all AR(1) shock realizations for all $N$ households and all $T$ periods and store them in a $T \\times N$ array.\n",
    "2. Assume that all individuals start with the same income which corresponds to the unconditional mean of the AR(1).\n",
    "3. Set the initial assets for all households to the given value $a_0$.\n",
    "4. Use the AR(1) law-of-motion to simulate next-period income given current income.\n",
    "5. Use the asset law-of-motion to simulate next-period assets."
   ]
  },
  {
   "cell_type": "code",
   "execution_count": 11,
   "metadata": {},
   "outputs": [],
   "source": [
    "def simulate_wealth_ar1_income(par: Parameters, a0, T, N, rng=None):\n",
    "    \"\"\"\n",
    "    Simulate the evolution of wealth over time if income follows an AR(1).\n",
    "\n",
    "    Parameters\n",
    "    ----------\n",
    "    par : Parameters\n",
    "    a0 : float\n",
    "        Initial wealth.\n",
    "    T : int\n",
    "        Number of time periods to simulate.\n",
    "    N : int\n",
    "        Number of individuals to simulate.\n",
    "    rng : numpy.random.Generator, optional\n",
    "        A random number generator instance.\n",
    "\n",
    "    Returns\n",
    "    -------\n",
    "    a_sim : numpy.ndarray\n",
    "        A (T+1, N) array where each column represents the simulated wealth path of a household.\n",
    "    \"\"\""
   ]
  },
  {
   "cell_type": "markdown",
   "metadata": {},
   "source": [
    "##### Simulating a small sample"
   ]
  },
  {
   "cell_type": "code",
   "execution_count": null,
   "metadata": {},
   "outputs": [],
   "source": [
    "# Number of households\n",
    "N = 20\n",
    "# Number of periods to simulate\n",
    "T = 100"
   ]
  },
  {
   "cell_type": "code",
   "execution_count": null,
   "metadata": {},
   "outputs": [],
   "source": [
    "import matplotlib.pyplot as plt\n",
    "\n",
    "plt.figure(figsize=(7, 4))\n",
    "\n",
    "\n",
    "plt.xlabel('Period')\n",
    "plt.ylabel('Wealth')\n",
    "plt.title('Simulated wealth paths with AR(1) income')\n",
    "# Add unconditional mean of wealth distribution\n",
    "plt.axhline(a_mean, color='black', ls='--', lw=1, label='Stationary mean')\n",
    "plt.legend(loc='lower right')"
   ]
  },
  {
   "cell_type": "markdown",
   "metadata": {},
   "source": [
    "##### Simulating a large sample"
   ]
  },
  {
   "cell_type": "code",
   "execution_count": 12,
   "metadata": {},
   "outputs": [],
   "source": [
    "# Number of households\n",
    "N = 100_000\n",
    "# Number of periods to simulate\n",
    "T = 100"
   ]
  },
  {
   "cell_type": "markdown",
   "metadata": {},
   "source": [
    "***\n",
    "##### Comparing simulated to analytical moments\n",
    "\n",
    "-   Compute analytical moments using formulates from above\n",
    "-   Compute moments of simulated data\n",
    "-   Plot analytical vs. simulated cross-sectional mean and variance"
   ]
  },
  {
   "cell_type": "code",
   "execution_count": null,
   "metadata": {},
   "outputs": [],
   "source": [
    "from lecture08_ar1_income import compute_wealth_mean\n",
    "\n",
    "# Compute analytical mean\n",
    "a_mean_exact = compute_wealth_mean(par)"
   ]
  },
  {
   "cell_type": "code",
   "execution_count": null,
   "metadata": {},
   "outputs": [],
   "source": [
    "fig, (ax1, ax2) = plt.subplots(1, 2, figsize=(8, 3), sharex=True)\n",
    "\n",
    "# Plot simulated vs. analytical mean\n",
    "ax1.axhline(a_mean_exact, color='black', ls='--', lw=1, label='Exact')\n",
    "ax1.set_xlabel('Period')\n",
    "ax1.set_title('Cross-sectional mean of wealth')\n",
    "ax1.legend(loc='lower right')\n",
    "\n",
    "# Plot simulated variance\n",
    "ax2.set_title('Cross-sectional variance of wealth')\n",
    "ax2.set_xlabel('Period')\n",
    "ax2.legend(loc='lower right')"
   ]
  },
  {
   "cell_type": "markdown",
   "metadata": {},
   "source": [
    "***\n",
    "##### Measuring wealth inequality"
   ]
  },
  {
   "cell_type": "markdown",
   "metadata": {},
   "source": [
    "<div class=\"alert alert-info\">\n",
    "<h3> Your turn</h3>\n",
    "\n",
    "Change the parameter <i>ρ</i> governing the persistence of income to\n",
    "<ol>\n",
    "    <li><i>ρ=0.5</i></li>\n",
    "    <li><i>ρ=0.99</i></li>\n",
    "</ol>\n",
    "and rerun the code for the whole current section. What happens to average wealth in the economy and to the Gini coefficient?\n",
    "</div>"
   ]
  }
 ],
 "metadata": {
  "kernelspec": {
   "display_name": "FIE463",
   "language": "python",
   "name": "python3"
  },
  "language_info": {
   "codemirror_mode": {
    "name": "ipython",
    "version": 3
   },
   "file_extension": ".py",
   "mimetype": "text/x-python",
   "name": "python",
   "nbconvert_exporter": "python",
   "pygments_lexer": "ipython3",
   "version": "3.12.9"
  }
 },
 "nbformat": 4,
 "nbformat_minor": 2
}
