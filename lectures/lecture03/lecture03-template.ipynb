{
 "cells": [
  {
   "cell_type": "markdown",
   "metadata": {},
   "source": [
    "# Last week: conditional execution and loops\n",
    "\n",
    "**Conditional execution**\n",
    "\n",
    "- `if`/`elif`/`else` statements\n",
    "- Boolean operators: `==`, `!=`, `is`, `in`, `not`, `or`, `and`, ...\n",
    "- Most Python objects evaluate to `True` or `False`\n",
    "- Conditional expressions:  `<value if true> if <condition> else <value if false>`\n",
    "\n",
    "\n",
    "**Loops**\n",
    "\n",
    "- `for` loops iterate over ranges of integers or any other collection\n",
    "- `while` loops used if collection or iteration count is not known ex ante\n",
    "- Use `enumerate()` to get additional iteration counter\n",
    "- Use `zip()` to iterate over several collections in parallel\n",
    "- Use `continue` and `break` to prematurely terminate iteration or loop\n",
    "\n",
    "**List comprehensions**\n",
    "\n",
    "- Compact loop-like expression to create lists, tuples, or dictionaries"
   ]
  },
  {
   "attachments": {},
   "cell_type": "markdown",
   "metadata": {
    "collapsed": true,
    "pycharm": {
     "name": "#%% md\n"
    }
   },
   "source": [
    "***\n",
    "# This week: Reusing code: Functions and modules\n",
    "\n",
    "## Functions\n",
    "\n",
    "- So far we used built-in functions that others wrote: `len()`, `sum()`, ...\n",
    "- Use `def` keyword to define own functions\n",
    "- Function body needs to be indented\n",
    "\n",
    "Main reasons to use functions:\n",
    "\n",
    "1.  Code re-use\n",
    "2.  Robust implementation shielded from other code using clean interfaces\n",
    "    (inputs and outputs)\n"
   ]
  },
  {
   "attachments": {},
   "cell_type": "markdown",
   "metadata": {
    "pycharm": {
     "name": "#%% md\n"
    }
   },
   "source": [
    "### Arguments\n",
    "\n",
    "- Can have arbitrary number of positional and keyword arguments"
   ]
  },
  {
   "attachments": {},
   "cell_type": "markdown",
   "metadata": {
    "pycharm": {
     "name": "#%% md\n"
    }
   },
   "source": [
    "### Return values\n",
    "\n",
    "- `return` statement is used to return a value\n",
    "- Multiple return values are packed into a `tuple`\n",
    "- Default return value: `None`\n",
    "- `return` immediately terminates a function"
   ]
  },
  {
   "cell_type": "markdown",
   "metadata": {},
   "source": [
    "### Documenting functions\n",
    "\n",
    "- Use doc-strings (ignored by Python interpreter)"
   ]
  },
  {
   "cell_type": "markdown",
   "metadata": {},
   "source": [
    "<div class=\"alert alert-info\">\n",
    "<h3> Your turn</h3>\n",
    "<ol>\n",
    "    <li>Write a function <tt>power()</tt> which takes a single argument and returns \n",
    "    the argument taken to the power of 2.</li>\n",
    "    <li>Modify the function such that it returns the original argument <i>and</i>\n",
    "    its square.</li>\n",
    "</ol>\n",
    "</div>"
   ]
  },
  {
   "attachments": {},
   "cell_type": "markdown",
   "metadata": {
    "pycharm": {
     "name": "#%% md\n"
    }
   },
   "source": [
    "### More on arguments\n",
    "\n",
    "#### Default arguments\n",
    "\n",
    "- Declared using the `name=value` syntax"
   ]
  },
  {
   "attachments": {},
   "cell_type": "markdown",
   "metadata": {},
   "source": [
    "#### Keyword (or named) arguments\n",
    "\n",
    "- Can specify argument name when calling the function\n",
    "- Keyword arguments can appear in arbitrary order (as long as they are at the end)"
   ]
  },
  {
   "cell_type": "markdown",
   "metadata": {},
   "source": [
    "<div class=\"alert alert-info\">\n",
    "<h3> Your turn</h3>\n",
    "<ol>\n",
    "    <li>Modify the <tt>power()</tt> function you wrote earlier to take an additional <i>optional</i> argument <tt>xp</tt>\n",
    "    (for \"exponent\") with a default value of 2.\n",
    "    The first argument should now be taken to the power of <tt>xp</tt>.\n",
    "    </li>\n",
    "    <li>Call the function in three different ways: \n",
    "    (1) without the optional argument <tt>xp</tt>; (2) with the optional argument \n",
    "    passed as a positional argument; and (3) with the optional argument \n",
    "    passed as a keyword argument.\n",
    "    </li>\n",
    "</ol>\n",
    "</div>"
   ]
  },
  {
   "attachments": {},
   "cell_type": "markdown",
   "metadata": {
    "pycharm": {
     "name": "#%% md\n"
    }
   },
   "source": [
    "#### Arbitrary number of optional arguments\n",
    "\n",
    "-   `*args`: collects any number of \"excess\" *positional arguments* and packs\n",
    "    them into a tuple.\n",
    "-   `**kwargs`: collects any number of \"excess\" *keyword arguments* and packs them\n",
    "    into a dictionary. It needs to be placed at the end of the argument list!"
   ]
  },
  {
   "cell_type": "markdown",
   "metadata": {},
   "source": [
    "*Example: Function with unnamed positional arguments*"
   ]
  },
  {
   "cell_type": "markdown",
   "metadata": {},
   "source": [
    "*Example: Function with unlimited keyword arguments*"
   ]
  },
  {
   "cell_type": "markdown",
   "metadata": {},
   "source": [
    "*Example: Function with multiple types of arguments*"
   ]
  },
  {
   "cell_type": "markdown",
   "metadata": {},
   "source": [
    "<div class=\"alert alert-info\">\n",
    "<h3> Your turn</h3>\n",
    "<ol>\n",
    "    <li>Write a function <tt>my_sum()</tt> which accepts an arbitrary\n",
    "    number of <i>positional</i> arguments and returns their sum (you can assume\n",
    "    that arguments are numeric).\n",
    "    </li>\n",
    "    <li>Test your function with zero, one, and multiple arguments.\n",
    "    When called without any arguments, your function should return 0.\n",
    "    </li>\n",
    "</ol>\n",
    "</div>"
   ]
  },
  {
   "cell_type": "markdown",
   "metadata": {},
   "source": [
    "***\n",
    "### Working data from the outer scope"
   ]
  },
  {
   "cell_type": "markdown",
   "metadata": {},
   "source": [
    "#### Accessing data from the outer scope\n",
    "\n",
    "- Functions can *read* variables from outer scope (e.g., global module variables)"
   ]
  },
  {
   "cell_type": "markdown",
   "metadata": {},
   "source": [
    "*Example: print value from outer scope*"
   ]
  },
  {
   "cell_type": "markdown",
   "metadata": {},
   "source": [
    "*Example: changed outer scope can affect functions*"
   ]
  },
  {
   "attachments": {},
   "cell_type": "markdown",
   "metadata": {},
   "source": [
    "#### Modifying data in the outer scope\n",
    "\n",
    "- Cannot write variables from outer scope unless declared with `global` or `nonlocal` (very limited legitimate use cases)\n",
    "- Usage of outside variables can alter function results, not transparent to caller (avoid this).\n",
    "\n",
    "*Example: Modifying value from global outer scope*"
   ]
  },
  {
   "attachments": {},
   "cell_type": "markdown",
   "metadata": {
    "pycharm": {
     "name": "#%% md\n"
    }
   },
   "source": [
    "***\n",
    "### Pass by value or pass by reference?\n",
    "\n",
    "**Traditional programming languages (C, Fortran)**\n",
    "\n",
    "-   *pass by value*: a copy of every argument is\n",
    "    created before it is passed into the function\n",
    "\n",
    "-   *pass by reference*: a reference to a value\n",
    "    is passed to the function\n",
    "\n",
    "**Python**\n",
    "\n",
    "- Passes a copy of a reference to a variable "
   ]
  },
  {
   "cell_type": "markdown",
   "metadata": {},
   "source": [
    "*Example: pass scalar value to function*"
   ]
  },
  {
   "cell_type": "markdown",
   "metadata": {},
   "source": [
    "*Example: pass list to function*"
   ]
  },
  {
   "cell_type": "markdown",
   "metadata": {},
   "source": [
    "*Example: pass immutable object to function*"
   ]
  },
  {
   "attachments": {},
   "cell_type": "markdown",
   "metadata": {
    "pycharm": {
     "name": "#%% md\n"
    }
   },
   "source": [
    "### Methods\n",
    "\n",
    "- Special functions implicitly invoked on a bound object"
   ]
  },
  {
   "cell_type": "markdown",
   "metadata": {},
   "source": [
    "*Example: list.append()*"
   ]
  },
  {
   "cell_type": "markdown",
   "metadata": {},
   "source": [
    "*Example: ndarray.reshape()*"
   ]
  },
  {
   "attachments": {},
   "cell_type": "markdown",
   "metadata": {
    "pycharm": {
     "name": "#%% md\n"
    }
   },
   "source": [
    "### Functions as objects\n",
    "\n",
    "Functions in Python are objects themselves:\n",
    "\n",
    "-   Assign a function to a variable.\n",
    "-   Store functions in collections.\n",
    "-   Pass function as an argument to other functions.\n",
    "\n",
    "*Examples:*\n",
    "\n",
    "- Store functions in list\n",
    "- Pass function to function"
   ]
  },
  {
   "attachments": {},
   "cell_type": "markdown",
   "metadata": {
    "pycharm": {
     "name": "#%% md\n"
    }
   },
   "source": [
    "### lambda expressions\n",
    "\n",
    "- Compact expression to perform task similar to declaring a function\n",
    "- Can be placed almost everywhere as it is an expression, not a statement.\n",
    "- Syntax: `lambda x: <do something with x>`\n",
    "- Value of expression is automatically returned (no explicit return statement!)\n"
   ]
  },
  {
   "cell_type": "markdown",
   "metadata": {},
   "source": [
    "*Example: use `lambda` to specify operation to performed*"
   ]
  },
  {
   "cell_type": "markdown",
   "metadata": {},
   "source": [
    "<div class=\"alert alert-info\">\n",
    "<h3>Your turn</h3>\n",
    "\n",
    "Consider the tuple <tt>(1, 2, 3)</tt>.\n",
    "\n",
    "<ol>\n",
    "    <li>Find the minimum of this tuple using the built-in \n",
    "    <a href=\"https://docs.python.org/3/library/functions.html#min\"><tt>min()</tt></a>\n",
    "    function.\n",
    "    </li>\n",
    "    <li>Now imagine you want to find the <i>maximum</i> but don't have a <tt>max()</tt>\n",
    "    function at hand. While this seems far-fetched, in fact all of the optimization\n",
    "    routines we will encounter later in the SciPy package are <i>minimizers</i>.\n",
    "    <p>\n",
    "    Any minimizer can be repurposed to be a maximizer by flipping the sign of the objective function.\n",
    "    This can be achieved using <tt>key</tt> argument of \n",
    "    <a href=\"https://docs.python.org/3/library/functions.html#min\"><tt>min()</tt></a>.\n",
    "    Write a <tt>lambda</tt> expression that takes a single argument <tt>x</tt> \n",
    "    and returns <tt>-x</tt>, and pass this lambda expression to <tt>min()</tt>\n",
    "    using the <tt>key</tt> argument to find the maximum of the above tuple.\n",
    "    </p>\n",
    "    </li>\n",
    "</ol>\n",
    "</div>"
   ]
  },
  {
   "attachments": {},
   "cell_type": "markdown",
   "metadata": {
    "pycharm": {
     "name": "#%% md\n"
    }
   },
   "source": [
    "***\n",
    "## Modules and packages\n",
    "\n",
    "### Modules\n",
    "\n",
    "\n",
    "-   Allow us to bundle related code in a single location\n",
    "-   Each Python file (with the extension `.py`)\n",
    "    automatically corresponds to a module of the same name\n",
    "-   Don't use spaces or other invalid characters in module names!\n",
    "-   Objects defined within module are not visible to outside code, unless imported"
   ]
  },
  {
   "cell_type": "markdown",
   "metadata": {},
   "source": [
    "#### Automatic reloading of module contents\n",
    "\n",
    "- Use [`%autoreload`](https://ipython.readthedocs.io/en/stable/config/extensions/autoreload.html#autoreload) \n",
    " to automatically reload changes to modules outside of Jupyter notebook\n",
    "- Only useful for Jupyter notebooks, not for regular `.py` files"
   ]
  },
  {
   "cell_type": "code",
   "execution_count": null,
   "metadata": {},
   "outputs": [],
   "source": [
    "%load_ext autoreload\n",
    "%autoreload 2"
   ]
  },
  {
   "attachments": {},
   "cell_type": "markdown",
   "metadata": {},
   "source": [
    "#### Module search path\n",
    "\n",
    "- Determines where Python looks for modules"
   ]
  },
  {
   "cell_type": "code",
   "execution_count": null,
   "metadata": {},
   "outputs": [],
   "source": [
    "import sys\n",
    "sys.path"
   ]
  },
  {
   "attachments": {},
   "cell_type": "markdown",
   "metadata": {},
   "source": [
    "#### Importing symbols\n",
    "\n",
    "1.  Alternative 1: import module and use fully qualified names\n",
    "    to reference objects\n",
    "2.  Alternative 2: Select subset of objects to be imported directly"
   ]
  },
  {
   "cell_type": "markdown",
   "metadata": {},
   "source": [
    "*Example: Import module*"
   ]
  },
  {
   "cell_type": "markdown",
   "metadata": {},
   "source": [
    "*Example: Import selected symbols*"
   ]
  },
  {
   "cell_type": "markdown",
   "metadata": {},
   "source": [
    "*Example: Overwrite imported symbol in importing code*"
   ]
  },
  {
   "cell_type": "markdown",
   "metadata": {},
   "source": [
    "*Example: Import module using alias*"
   ]
  },
  {
   "cell_type": "markdown",
   "metadata": {},
   "source": [
    "<div class=\"alert alert-info\">\n",
    "<h3>Your turn</h3>\n",
    "\n",
    "Recall the <tt>power()</tt> function you wrote earlier in this unit.\n",
    "\n",
    "<ol>\n",
    "    <li>Create a module <tt>mymath.py</tt> and place it in the same directory\n",
    "    as this notebook.\n",
    "    </li>\n",
    "    <li>\n",
    "        Add a print statement to <tt>power()</tt> so it reports the module\n",
    "        where it is located:\n",
    "        <p>\n",
    "        <tt>\n",
    "        print(f'Called from {__name__}')\n",
    "        </tt>\n",
    "        </p>\n",
    "    </li>\n",
    "    <li>\n",
    "        Import the <tt>power()</tt> function from this module and call it.\n",
    "    </li>\n",
    "</ol>\n",
    "</div>"
   ]
  }
 ],
 "metadata": {
  "kernelspec": {
   "display_name": "FIE463",
   "language": "python",
   "name": "python3"
  },
  "language_info": {
   "codemirror_mode": {
    "name": "ipython",
    "version": 3
   },
   "file_extension": ".py",
   "mimetype": "text/x-python",
   "name": "python",
   "nbconvert_exporter": "python",
   "pygments_lexer": "ipython3",
   "version": "3.12.8"
  }
 },
 "nbformat": 4,
 "nbformat_minor": 1
}
