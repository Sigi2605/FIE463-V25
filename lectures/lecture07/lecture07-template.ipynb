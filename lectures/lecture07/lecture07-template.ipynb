{
 "cells": [
  {
   "cell_type": "markdown",
   "metadata": {},
   "source": [
    "# Overlapping-generations model (OLG)"
   ]
  },
  {
   "cell_type": "markdown",
   "metadata": {},
   "source": [
    "## Steady-state equilibrium"
   ]
  },
  {
   "cell_type": "markdown",
   "metadata": {},
   "source": [
    "\n",
    "### Household problem\n",
    "\n",
    "- Household problem (assume $N$ identical households):\n",
    "    $$\n",
    "    \\begin{aligned}\n",
    "    \\max_{c_y,~c_o,~a} \\enskip & \\Bigl\\{ u(c_y) + \\beta u(c_o) \\Bigr\\} \\\\\n",
    "    \\text{s.t.} \\quad c_y + a &= w \\\\\n",
    "                    c_o &= (1+r)a \\\\\n",
    "        c_y &\\geq 0, ~ c_o \\geq 0,~ a \\geq 0\n",
    "    \\end{aligned}\n",
    "    $$\n",
    "\n",
    "-   Flow utility:\n",
    "    $$\n",
    "    u(c) = \\begin{cases}\n",
    "        \\frac{c^{1-\\gamma}}{1-\\gamma} & \\text{if } \\gamma \\neq 1 \\\\\n",
    "        \\log(c) & \\text{if } \\gamma = 1\n",
    "        \\end{cases}\n",
    "    $$\n",
    "\n",
    "-   Choice variables:\n",
    "\n",
    "    -   $c_y$:  Consumption when young\n",
    "    -   $c_o$:  Consumption when old\n",
    "    -   $a$:    Savings when young\n",
    "\n",
    "- Parameters:\n",
    "\n",
    "    -   $\\beta$: Discount factor\n",
    "    -   $\\gamma$: Relative risk aversion\n",
    "    -   Each household inelastically supplies 1 unit of labor when young (h = 1)\n",
    "\n",
    "- Prices (taken as given, competitive equilibrium):\n",
    "\n",
    "    -   $r$: Interest rate (return on capital)\n",
    "    -   $w$: Wage rate"
   ]
  },
  {
   "cell_type": "markdown",
   "metadata": {},
   "source": [
    "***\n",
    "### Firm problem (representative firm) — same as above\n",
    "\n",
    "- Firm problem:\n",
    "    $$\n",
    "    \\max_{K,~L} \\enskip \\Pi = \n",
    "        \\underbrace{z K^{\\alpha} L^{1-\\alpha}}_{\\text{Output } Y}\n",
    "         - \\underbrace{r K}_{\\text{Cost of capital}} \n",
    "         - \\underbrace{w L}_{\\text{Cost of labor}}\n",
    "    $$\n",
    "\n",
    "- Choice variables:\n",
    "\n",
    "    - $K$: Capital\n",
    "    - $L$: Labor\n",
    "\n",
    "- Parameters:\n",
    "\n",
    "    - $\\alpha$: Capital share (or elasticity with respect to capital)\n",
    "    - $z$: Total factor productivity (TFP)\n",
    "\n",
    "- Prices (taken as given, competitive equilibrium):\n",
    "\n",
    "    -   $r$: Return on capital\n",
    "    -   $w$: Wage rate\n",
    "\n",
    "- First-order conditions:\n",
    "    <a id='olg-firm-prices'></a>\n",
    "    $$\n",
    "    \\tag{1}\n",
    "    \\begin{aligned}\n",
    "    r &= \\alpha z \\left(\\frac{K}{L}\\right)^{\\alpha-1} = \\alpha z k^{\\alpha-1} \\\\\n",
    "    w &= (1-\\alpha) z\\left(\\frac{K}{L}\\right)^{\\alpha} = (1-\\alpha) z k^{\\alpha}\n",
    "    \\end{aligned}\n",
    "    $$\n",
    "    where $k \\equiv \\frac{K}{L}$ is the capital-labor ratio.\n",
    "\n"
   ]
  },
  {
   "cell_type": "markdown",
   "metadata": {},
   "source": [
    "***\n",
    "### Equilibrium\n",
    "\n",
    "Set of quantities $(K,L,Y,c_o,c_y,a)$ and prices $(r,w)$ such that:\n",
    "\n",
    "- Asset market: $K = N a$ (aggregate savings $N a$ supplied by households equal capital $K$ demanded by firms).\n",
    "- Labor market: $L = N$ (Labor $L$ demanded by firms equals exogenously supplied labor by households).\n",
    "- Goods market: $Y = N(c_y + c_o)$ (the amount of goods consumed by young and old each period equals aggregate output).\n"
   ]
  },
  {
   "cell_type": "markdown",
   "metadata": {},
   "source": [
    "***\n",
    "### Analytical solution\n",
    "\n",
    "- Households: \n",
    "    -   Optimal **savings rate** of the young:\n",
    "        <a id='olg-hh-srate'></a>\n",
    "        $$\n",
    "        \\tag{2}\n",
    "        s = \\frac{1}{1 + \\beta^{-\\frac{1}{\\gamma}} (1+r)^{1-\\frac{1}{\\gamma}}}\n",
    "        $$\n",
    "    - Optimal **savings** of the young:\n",
    "        $$\n",
    "        a = s \\cdot w\n",
    "        $$\n"
   ]
  },
  {
   "cell_type": "markdown",
   "metadata": {},
   "source": [
    "***\n",
    "### Numerical solution"
   ]
  },
  {
   "cell_type": "markdown",
   "metadata": {},
   "source": [
    "#### Solution algorithm\n",
    "\n",
    "1. Define parameters\n",
    "\n",
    "2. Function to compute **prices** $(r,w)$ for a given $k$ \n",
    "    (use firm's first-order conditions [(1)](#olg-firm-prices)).\n",
    "\n",
    "3.  Function to solve the household problem for given $r$ and return\n",
    "    the **savings rate $s$** (use analytical solution [(2)](#olg-hh-srate))\n",
    "\n",
    "4.  Function $f(k)$ to compute **excess demand for capital** $K - Na$\n",
    "    for given $k$.\n",
    "\n",
    "    Use the functions defined in steps (2) and (3) for this purpose.\n",
    "\n",
    "5.  Call a root-finder to locate the root $k^*$ of $f$, $f(k^*) = 0$\n",
    "\n",
    "6.  Compute and store all other equilibrium quantities and prices given equilibrium $k^*$."
   ]
  },
  {
   "cell_type": "markdown",
   "metadata": {},
   "source": [
    "#### Implementation\n",
    "\n",
    "- See [`lecture07_olg.py`](lecture07_olg.py) for full implementation"
   ]
  },
  {
   "cell_type": "markdown",
   "metadata": {},
   "source": [
    "##### Step 1: Define parameters"
   ]
  },
  {
   "cell_type": "code",
   "execution_count": null,
   "metadata": {},
   "outputs": [],
   "source": [
    "from dataclasses import dataclass\n",
    "\n",
    "@dataclass\n",
    "class Parameters:\n",
    "    \"\"\"\n",
    "    Parameters for the overlapping generations model.\n",
    "    \"\"\"\n",
    "    alpha: float = 0.36     # Capital share in production function\n",
    "    z: float = 1.0          # TFP \n",
    "    beta: float = 0.96      # Discount factor\n",
    "    gamma: float = 2.0      # RRA in utility\n",
    "    N: int = 1              # Number of households per cohort  \n"
   ]
  },
  {
   "cell_type": "code",
   "execution_count": null,
   "metadata": {},
   "outputs": [],
   "source": [
    "# Create parameter instance\n",
    "par = Parameters()"
   ]
  },
  {
   "cell_type": "markdown",
   "metadata": {},
   "source": [
    "##### Step 2: Compute equilibrium prices from $k$"
   ]
  },
  {
   "cell_type": "code",
   "execution_count": null,
   "metadata": {},
   "outputs": [],
   "source": [
    "def compute_prices(k, par: Parameters):\n",
    "    \"\"\"\n",
    "    Return the solution to the firm's problem for given return on capital \n",
    "    and parameters.\n",
    "\n",
    "    Parameters\n",
    "    ----------\n",
    "    k : float\n",
    "        Capital-labor ratio\n",
    "    par : Parameters\n",
    "        Parameters for the given problem\n",
    "\n",
    "    Returns\n",
    "    -------\n",
    "    r : float\n",
    "        Return on capital\n",
    "    w : float\n",
    "        Wage rate\n",
    "\n",
    "    \"\"\""
   ]
  },
  {
   "cell_type": "markdown",
   "metadata": {},
   "source": [
    "##### Step 3: Solve the household problem"
   ]
  },
  {
   "cell_type": "code",
   "execution_count": null,
   "metadata": {},
   "outputs": [],
   "source": [
    "def compute_savings_rate(r, par: Parameters):\n",
    "    \"\"\"\n",
    "    Compute the savings rate using the analytical solution\n",
    "    to the household problem.\n",
    "\n",
    "    Parameters\n",
    "    ----------\n",
    "    r : float\n",
    "        Return on capital\n",
    "    par : Parameters\n",
    "        Parameters for the given problem\n",
    "\n",
    "    Returns\n",
    "    -------\n",
    "    s : float\n",
    "        Savings rate\n",
    "    \"\"\""
   ]
  },
  {
   "cell_type": "markdown",
   "metadata": {},
   "source": [
    "<div class=\"alert alert-info\">\n",
    "<h3> Your turn</h3>\n",
    "\n",
    "Plot the households's optimal savings rate <i>s</i> returned by <tt>compute_savings_rate()</tt> \n",
    "for <tt>r</tt> on the interval [0.01, 0.2]. Does the shape intuitively make sense (given the parameter for the risk aversion γ)?\n",
    "</div>"
   ]
  },
  {
   "cell_type": "markdown",
   "metadata": {},
   "source": [
    "##### Step 4: Compute excess capital demand"
   ]
  },
  {
   "cell_type": "code",
   "execution_count": null,
   "metadata": {},
   "outputs": [],
   "source": [
    "def compute_capital_ex_demand(k, par: Parameters):\n",
    "    \"\"\"\n",
    "    Compute the excess demand for capital.\n",
    "\n",
    "    Parameters\n",
    "    ----------\n",
    "    k : float\n",
    "        Capital-labor ratio\n",
    "    par : Parameters\n",
    "        Parameters for the given problem\n",
    "\n",
    "    Returns\n",
    "    -------\n",
    "    ex_demand : float\n",
    "        Excess demand for capital\n",
    "    \"\"\""
   ]
  },
  {
   "cell_type": "markdown",
   "metadata": {},
   "source": [
    "<div class=\"alert alert-info\">\n",
    "<h3> Your turn</h3>\n",
    "\n",
    "Using the code we just wrote, plot the function <tt>compute_capital_ex_demand()</tt> for 50 points of \n",
    "<tt>k</tt> which are uniformly spaced on the interval [0.01, 1].\n",
    "\n",
    "</div>"
   ]
  },
  {
   "cell_type": "markdown",
   "metadata": {},
   "source": [
    "##### Step 5: Call the root-finder\n",
    "\n",
    "- Use \n",
    "[`root_scalar()`](https://docs.scipy.org/doc/scipy/reference/generated/scipy.optimize.root_scalar.html)\n",
    "- Use `method='brentq'` (the default) and specify initial bracket"
   ]
  },
  {
   "cell_type": "markdown",
   "metadata": {},
   "source": [
    "##### Step 5: Compute remaining equilibrium quantities"
   ]
  },
  {
   "cell_type": "markdown",
   "metadata": {},
   "source": [
    "- Compute equilibrium using `compute_olg_equilibrium()` from [`lecture06_olg`](lecture06_olg.py) module\n",
    "- Print equilibrium using `print_olg_equilibrium()` from [`lecture06_olg`](lecture06_olg.py) module"
   ]
  },
  {
   "cell_type": "code",
   "execution_count": null,
   "metadata": {},
   "outputs": [],
   "source": [
    "from lecture06_olg import compute_olg_equilibrium, print_olg_equilibrium\n",
    "\n",
    "# Compute equilibrium, return OLGEquilbrium instance \n",
    "eq = compute_olg_equilibrium(par)\n",
    "\n",
    "# Print equilibrium allocation & prices\n",
    "print_olg_equilibrium(eq)"
   ]
  },
  {
   "cell_type": "markdown",
   "metadata": {},
   "source": [
    "<div class=\"alert alert-info\">\n",
    "<h3> Your turn</h3>\n",
    "\n",
    "You are interested in how the equilibrium prices depend on the cohort size <i>N</i>. Plot the equilibrium prices <i>r</i> and <i>w</i> when varying <i>N</i> over the range of integers from 1 to 10.\n",
    "\n",
    "</div>"
   ]
  },
  {
   "cell_type": "markdown",
   "metadata": {},
   "source": [
    "***\n",
    "## Transition dynamics"
   ]
  }
 ],
 "metadata": {
  "kernelspec": {
   "display_name": "FIE463",
   "language": "python",
   "name": "python3"
  },
  "language_info": {
   "codemirror_mode": {
    "name": "ipython",
    "version": 3
   },
   "file_extension": ".py",
   "mimetype": "text/x-python",
   "name": "python",
   "nbconvert_exporter": "python",
   "pygments_lexer": "ipython3",
   "version": "3.12.8"
  }
 },
 "nbformat": 4,
 "nbformat_minor": 2
}
