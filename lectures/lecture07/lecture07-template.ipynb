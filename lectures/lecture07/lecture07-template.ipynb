{
 "cells": [
  {
   "cell_type": "markdown",
   "metadata": {},
   "source": [
    "# Overlapping-generations model (OLG)"
   ]
  },
  {
   "cell_type": "markdown",
   "metadata": {},
   "source": [
    "## Steady-state equilibrium"
   ]
  },
  {
   "cell_type": "markdown",
   "metadata": {},
   "source": [
    "\n",
    "### Household problem ($N$ identical households)\n",
    "\n",
    "- Households choose consumption & savings:\n",
    "    $$\n",
    "    \\begin{aligned}\n",
    "    \\max_{c_y,~c_o,~a} \\enskip & \\Bigl\\{ u(c_y) + \\beta u(c_o) \\Bigr\\} \\\\\n",
    "    \\text{s.t.} \\quad c_y + a &= w \\\\\n",
    "                    c_o &= (1+r)a \\\\\n",
    "        c_y &\\geq 0, ~ c_o \\geq 0,~ a \\geq 0\n",
    "    \\end{aligned}\n",
    "    $$\n",
    "\n",
    "-   Flow utility:\n",
    "    $$\n",
    "    u(c) = \\begin{cases}\n",
    "        \\frac{c^{1-\\gamma}}{1-\\gamma} & \\text{if } \\gamma \\neq 1 \\\\\n",
    "        \\log(c) & \\text{if } \\gamma = 1\n",
    "        \\end{cases}\n",
    "    $$\n",
    "\n",
    "-   Choice variables:\n",
    "\n",
    "    -   $c_y$:  Consumption when young\n",
    "    -   $c_o$:  Consumption when old\n",
    "    -   $a$:    Savings when young\n",
    "\n",
    "- Parameters:\n",
    "\n",
    "    -   $\\beta$: Discount factor\n",
    "    -   $\\gamma$: Relative risk aversion\n",
    "    -   Each household inelastically supplies 1 unit of labor when young\n",
    "\n",
    "- Prices (taken as given, competitive equilibrium):\n",
    "\n",
    "    -   $r$: Interest rate (return on capital)\n",
    "    -   $w$: Wage rate\n",
    "\n",
    "\n",
    "#### Analytical solution\n",
    "\n",
    "-   Optimal **savings rate** of the young:\n",
    "    <a id='olg-hh-srate'></a>\n",
    "    $$\n",
    "    \\tag{1}\n",
    "    s = \\frac{1}{1 + \\beta^{-\\frac{1}{\\gamma}} (1+r)^{1-\\frac{1}{\\gamma}}}\n",
    "    $$\n",
    "- Optimal **savings** of the young:\n",
    "    $$\n",
    "    a = s \\cdot w\n",
    "    $$"
   ]
  },
  {
   "cell_type": "markdown",
   "metadata": {},
   "source": [
    "***\n",
    "### Firm problem (representative firm)\n",
    "\n",
    "- Firm problem:\n",
    "    $$\n",
    "    \\max_{K,~L} \\enskip \\Pi = \n",
    "        \\underbrace{z K^{\\alpha} L^{1-\\alpha}}_{\\text{Output } Y}\n",
    "         - \\underbrace{(r + \\delta) K}_{\\text{Cost of capital}} \n",
    "         - \\underbrace{w L}_{\\text{Cost of labor}}\n",
    "    $$\n",
    "\n",
    "- Choice variables:\n",
    "\n",
    "    - $K$: Capital\n",
    "    - $L$: Labor\n",
    "\n",
    "- Parameters:\n",
    "\n",
    "    - $\\alpha$: Capital share (or elasticity with respect to capital)\n",
    "    - $\\delta$: Capital depreciation rate\n",
    "    - $z$: Total factor productivity (TFP)\n",
    "\n",
    "- Prices (taken as given, competitive equilibrium):\n",
    "\n",
    "    -   $r$: Return on capital\n",
    "    -   $w$: Wage rate\n",
    "\n",
    "- First-order conditions:\n",
    "    <a id='olg-firm-prices'></a>\n",
    "    $$\n",
    "    \\tag{2}\n",
    "    \\begin{aligned}\n",
    "    r + \\delta &= \\alpha z \\left(\\frac{K}{L}\\right)^{\\alpha-1} = \\alpha z k^{\\alpha-1} \\\\\n",
    "    w &= (1-\\alpha) z\\left(\\frac{K}{L}\\right)^{\\alpha} = (1-\\alpha) z k^{\\alpha}\n",
    "    \\end{aligned}\n",
    "    $$\n",
    "    where $k \\equiv \\frac{K}{L}$ is the capital-labor ratio.\n",
    "\n"
   ]
  },
  {
   "cell_type": "markdown",
   "metadata": {},
   "source": [
    "***\n",
    "### Equilibrium\n",
    "\n",
    "Set of quantities $(K,L,Y,c_o,c_y,a)$ and prices $(r,w)$ such that:\n",
    "\n",
    "- Asset market: $K = N a$\n",
    "- Labor market: $L = N$\n",
    "- Goods market: $Y + (1-\\delta)K = N(c_y + c_o + a)$\n"
   ]
  },
  {
   "cell_type": "markdown",
   "metadata": {},
   "source": [
    "***\n",
    "### Numerical solution"
   ]
  },
  {
   "cell_type": "markdown",
   "metadata": {},
   "source": [
    "#### Solution algorithm\n",
    "\n",
    "1. Define parameters\n",
    "\n",
    "2. Function to compute **prices** $(r,w)$ for a given $k$ \n",
    "    (use firm's first-order conditions [(1)](#olg-firm-prices)).\n",
    "\n",
    "3.  Function to solve the household problem for given $r$ and return\n",
    "    the **savings rate $s$** (use analytical solution [(2)](#olg-hh-srate))\n",
    "\n",
    "4.  Function $f(k)$ to compute **excess demand for capital** $K - Na$\n",
    "    for given $k$.\n",
    "\n",
    "    Use the functions defined in steps (2) and (3) for this purpose.\n",
    "\n",
    "5.  Call a root-finder to locate the root $k^*$ of $f$, $f(k^*) = 0$\n",
    "\n",
    "6.  Compute and store all other equilibrium quantities and prices given equilibrium $k^*$."
   ]
  },
  {
   "cell_type": "markdown",
   "metadata": {},
   "source": [
    "#### Implementation\n",
    "\n",
    "- See [`lecture07_olg.py`](lecture07_olg.py) for full implementation"
   ]
  },
  {
   "cell_type": "code",
   "execution_count": null,
   "metadata": {},
   "outputs": [],
   "source": [
    "# Enable automatic reloading of external modules\n",
    "%load_ext autoreload\n",
    "%autoreload 2"
   ]
  },
  {
   "cell_type": "markdown",
   "metadata": {},
   "source": [
    "##### Step 1: Define parameters"
   ]
  },
  {
   "cell_type": "code",
   "execution_count": null,
   "metadata": {},
   "outputs": [],
   "source": [
    "from dataclasses import dataclass\n",
    "\n",
    "@dataclass\n",
    "class Parameters:\n",
    "    \"\"\"\n",
    "    Parameters for the OLG model.\n",
    "    \"\"\"\n",
    "    alpha: float = 0.36     # Capital share in production function\n",
    "    delta: float = 1.0      # Depreciation rate (full depreciation)\n",
    "    z: float = 1.0          # TFP \n",
    "    beta: float = 0.96**30  # Discount factor (0.96 per year, 30-year periods)\n",
    "    gamma: float = 2.0      # RRA in utility\n",
    "    N: int = 1              # Number of households per cohort  \n"
   ]
  },
  {
   "cell_type": "code",
   "execution_count": null,
   "metadata": {},
   "outputs": [],
   "source": [
    "# Create parameter instance\n",
    "par = Parameters()"
   ]
  },
  {
   "cell_type": "markdown",
   "metadata": {},
   "source": [
    "##### Step 2: Compute equilibrium prices from $k$"
   ]
  },
  {
   "cell_type": "code",
   "execution_count": null,
   "metadata": {},
   "outputs": [],
   "source": [
    "def compute_prices(k, par: Parameters):\n",
    "    \"\"\"\n",
    "    Return factor prices for a given capital-labor ratio and parameters.\n",
    "\n",
    "    Parameters\n",
    "    ----------\n",
    "    k : float\n",
    "        Capital-labor ratio\n",
    "    par : Parameters\n",
    "        Parameters for the given problem\n",
    "\n",
    "    Returns\n",
    "    -------\n",
    "    r : float\n",
    "        Return on capital after depreciation (interest rate)\n",
    "    w : float\n",
    "        Wage rate\n",
    "\n",
    "    \"\"\"\n",
    "\n",
    "    # TODO: Use firm's FOCs from equation (2) to solve for r and w"
   ]
  },
  {
   "cell_type": "markdown",
   "metadata": {},
   "source": [
    "##### Step 3: Solve the household problem"
   ]
  },
  {
   "cell_type": "code",
   "execution_count": null,
   "metadata": {},
   "outputs": [],
   "source": [
    "def compute_savings_rate(r, par: Parameters):\n",
    "    \"\"\"\n",
    "    Compute the savings rate using the analytical solution\n",
    "    to the household problem.\n",
    "\n",
    "    Parameters\n",
    "    ----------\n",
    "    r : float\n",
    "        Return on capital\n",
    "    par : Parameters\n",
    "        Parameters for the given problem\n",
    "\n",
    "    Returns\n",
    "    -------\n",
    "    s : float\n",
    "        Savings rate\n",
    "    \"\"\"\n",
    "\n",
    "    # TODO: Use formula for savings rate from equation (1)"
   ]
  },
  {
   "cell_type": "markdown",
   "metadata": {},
   "source": [
    "<div class=\"alert alert-info\">\n",
    "<h3> Your turn</h3>\n",
    "\n",
    "Plot the households's optimal savings rate <i>s</i> returned by <tt>compute_savings_rate()</tt> \n",
    "for <tt>r</tt> on the interval [0.01, 0.2]. Does the shape intuitively make sense (given the parameter for the risk aversion γ)?\n",
    "</div>"
   ]
  },
  {
   "cell_type": "markdown",
   "metadata": {},
   "source": [
    "##### Step 4: Compute excess capital demand"
   ]
  },
  {
   "cell_type": "code",
   "execution_count": null,
   "metadata": {},
   "outputs": [],
   "source": [
    "def compute_capital_ex_demand(k, par: Parameters):\n",
    "    \"\"\"\n",
    "    Compute the excess demand for capital.\n",
    "\n",
    "    Parameters\n",
    "    ----------\n",
    "    k : float\n",
    "        Capital-labor ratio\n",
    "    par : Parameters\n",
    "        Parameters for the given problem\n",
    "\n",
    "    Returns\n",
    "    -------\n",
    "    ex_demand : float\n",
    "        Excess demand for capital\n",
    "    \"\"\"\n",
    "\n",
    "    # TODO: Use solutions to firm and HH problem to compute excess demand for capital"
   ]
  },
  {
   "cell_type": "markdown",
   "metadata": {},
   "source": [
    "<div class=\"alert alert-info\">\n",
    "<h3> Your turn</h3>\n",
    "\n",
    "Using the code we just wrote, plot the function <tt>compute_capital_ex_demand()</tt> for 50 points of \n",
    "<tt>k</tt> which are uniformly spaced on the interval [0.01, 1].\n",
    "\n",
    "</div>"
   ]
  },
  {
   "cell_type": "markdown",
   "metadata": {},
   "source": [
    "##### Step 5: Call the root-finder\n",
    "\n",
    "- Use \n",
    "[`root_scalar()`](https://docs.scipy.org/doc/scipy/reference/generated/scipy.optimize.root_scalar.html)\n",
    "- Use `method='brentq'` (the default) and specify initial bracket"
   ]
  },
  {
   "cell_type": "markdown",
   "metadata": {},
   "source": [
    "##### Step 6: Compute remaining equilibrium quantities"
   ]
  },
  {
   "cell_type": "markdown",
   "metadata": {},
   "source": [
    "- Store equilibrium quantities & prices in `SteadyState` instance"
   ]
  },
  {
   "cell_type": "code",
   "execution_count": null,
   "metadata": {},
   "outputs": [],
   "source": [
    "@dataclass\n",
    "class SteadyState:\n",
    "    \"\"\"\n",
    "    Steady-state equilibrium of the OLG model.\n",
    "    \"\"\"\n",
    "    par: Parameters = None      # Parameters used to compute equilibrium\n",
    "    c_y: float = None           # Consumption when young\n",
    "    c_o: float = None           # Consumption when old \n",
    "    a: float = None             # Savings when young\n",
    "    s: float = None             # Savings rate when young    \n",
    "    r: float = None             # Interest rate (return on capital)\n",
    "    w: float = None             # Wage rate\n",
    "    K: float = None             # Aggregate capital stock\n",
    "    L: float = None             # Aggregate labor demand\n",
    "    I: float = None             # Aggregate investment\n",
    "    Y: float = None             # Aggregate output"
   ]
  },
  {
   "cell_type": "markdown",
   "metadata": {},
   "source": [
    "- Write function `compute_steady_state()` to find equilibrium and compute remaining quantities & prices"
   ]
  },
  {
   "cell_type": "code",
   "execution_count": null,
   "metadata": {},
   "outputs": [],
   "source": [
    "def compute_steady_state(par: Parameters):\n",
    "    \"\"\"\n",
    "    Compute the steady-state equilibrium for the OLG model.\n",
    "\n",
    "    Parameters\n",
    "    ----------\n",
    "    par : Parameters\n",
    "        Parameters for the given problem\n",
    "\n",
    "    Returns\n",
    "    -------\n",
    "    eq : SteadyState\n",
    "        Steady state equilibrium of the OLG model\n",
    "    \"\"\"\n",
    "\n",
    "    # TODO: Insert root-finder call and compute remaining variables\n",
    "    # TODO: Check goods market clearing"
   ]
  },
  {
   "cell_type": "markdown",
   "metadata": {},
   "source": [
    "- Print equilibrium using `print_steady_state()` from [`lecture07_olg`](lecture07_olg.py) module"
   ]
  },
  {
   "cell_type": "code",
   "execution_count": null,
   "metadata": {},
   "outputs": [],
   "source": [
    "from lecture07_olg import print_steady_state\n",
    "\n",
    "# Compute equilibrium, return SteadyState instance \n",
    "eq = compute_steady_state(par)\n",
    "\n",
    "# Print equilibrium allocation & prices\n",
    "print_steady_state(eq)"
   ]
  },
  {
   "cell_type": "markdown",
   "metadata": {},
   "source": [
    "<div class=\"alert alert-info\">\n",
    "<h3> Your turn</h3>\n",
    "\n",
    "You are interested in how the equilibrium prices depend on the cohort size <i>N</i>. Plot the equilibrium prices <i>r</i> and <i>w</i> when varying <i>N</i> over the range of integers from 1 to 10.\n",
    "\n",
    "</div>"
   ]
  },
  {
   "cell_type": "markdown",
   "metadata": {},
   "source": [
    "***\n",
    "## Transition dynamics\n",
    "\n",
    "- How does economy evolve after **unanticipated** shocks?\n",
    "- Scenario:\n",
    "\n",
    "    1.  Economy is in steady-state equilibrium\n",
    "    2.  Economy is hit by a shock to TFP\n",
    "\n",
    "        -   Examine permanent shock here, transitory/persistent shocks in optional exercises\n",
    "\n",
    "    3.  Compute transition path to new steady state\n",
    "    \n",
    "-   Households have perfect foresight about evolution of all variables once shock is realized (full information rational expectations)\n",
    "\n"
   ]
  },
  {
   "cell_type": "markdown",
   "metadata": {},
   "source": [
    "***\n",
    "### Household problem ($N$ identical households)\n",
    "\n",
    "- Households choose consumption & savings:\n",
    "    $$\n",
    "    \\begin{aligned}\n",
    "    \\max_{c_{y,t},~c_{o,t+1},~a_t} \\enskip & \\Bigl\\{ u(c_{y,t}) + \\beta u(c_{o,t+1}) \\Bigr\\} \\\\\n",
    "    \\text{s.t.} \\quad c_{y,t} + a_t &= w_t \\\\\n",
    "                    c_{o,t+1} &= (1+r_{t+1})a_t \\\\\n",
    "        c_{y,t} &\\geq 0, ~ c_{o,t+1} \\geq 0,~ a_t \\geq 0 \\enskip \\text{for all } t\n",
    "    \\end{aligned}\n",
    "    $$\n",
    "\n",
    "-   Choice variables:\n",
    "\n",
    "    -   $c_{y,t}$:  Consumption when young\n",
    "    -   $c_{o,t+1}$:  Consumption when old\n",
    "    -   $a_t$:    Savings when young\n",
    "\n",
    "- Prices (taken as given, competitive equilibrium):\n",
    "\n",
    "    -   $r_{t+1}$: Interest rate (return on capital)\n",
    "    -   $w_t$: Wage rate"
   ]
  },
  {
   "cell_type": "markdown",
   "metadata": {},
   "source": [
    "#### Analytical results\n",
    "\n",
    "-   General CRRA preferences:\n",
    "\n",
    "    -   Savings rate depends on next-period $r_{t+1}$\n",
    "        <a id='olg-trans-srate'></a>\n",
    "        $$\n",
    "        \\tag{3}\n",
    "        s_t = \\left[ 1 + \\beta^{-\\frac{1}{\\gamma}} (1+r_{t+1})^{1-\\frac{1}{\\gamma}}\\right]^{-1}\n",
    "        $$\n",
    "\n",
    "    -   Next-period $r_{t+1}$ depends on savings rate $s_t$:\n",
    "        $$\n",
    "        r_{t+1} = \\alpha z_{t+1} \\left(\\frac{K_{t+1}}{N}\\right)^{\\alpha-1}  - \\delta = \\alpha z_{t+1} \\left( s_t  w_t \\right)^{\\alpha-1} - \\delta\n",
    "        $$\n",
    "\n",
    "    -   **Is this a problem?**\n",
    "\n",
    "-   Simplifying assumption: $\\gamma = 1$\n",
    "    $$\n",
    "    s_t = \\frac{\\beta}{1+\\beta}\n",
    "    $$\n",
    "\n",
    "-   See optional exercises to a solution with general CRRA preferences"
   ]
  },
  {
   "cell_type": "markdown",
   "metadata": {},
   "source": [
    "***\n",
    "### Equilibrium\n",
    "\n",
    "Set of quantities $(K_t,L_t,Y_t,c_{o,t},c_{y,t},a_t)$ and prices $(r_t,w_t)$ such that:\n",
    "\n",
    "- Asset market: $K_t = N a_{t-1}$\n",
    "- Labor market: $L_t = N$\n",
    "- Goods market: $Y_t + (1-\\delta)K_t = N(c_{y,t} + c_{o,t} + a_t)$\n"
   ]
  },
  {
   "cell_type": "markdown",
   "metadata": {},
   "source": [
    "***\n",
    "### Transition path\n",
    "\n",
    "Timeline of events:\n",
    "\n",
    "- Period $t=0$: The economy is in the steady state with $K_0 = K^*$, $w_0 = w^*$, $a_0 = a^*$ etc.\n",
    "- Period $t \\geq 1$:\n",
    "    -   The capital stock is pre-determined from the previous period, $K_t = N a_{t-1}$\n",
    "    -   Production takes place:\n",
    "        -   Young households earn $w_t = (1-\\alpha) z_t (K_t / L)^{\\alpha}$\n",
    "        -   Old households earn gross asset returns $(1+r_t)a_{t-1}$ with $r_t = \\alpha z_t (K_t / L)^{\\alpha -1} - \\delta$\n",
    "    -   Consumption and savings:\n",
    "        - Young households save $a_t = s w_t$ and consume $c_{y,t} = (1-s) w_t$\n",
    "        - Old households consume $c_{o,t} = (1+r_t) a_{t-1}$\n"
   ]
  },
  {
   "cell_type": "markdown",
   "metadata": {},
   "source": [
    "***\n",
    "### Numerical implementation\n",
    "\n",
    "\n",
    "1.  Define `Simulation` class to store simulation results\n",
    "2.  Set model parameter & compute pre-shock steady state as starting point\n",
    "3.  Implement function to perform simulation \n",
    "4.  Run simulation\n",
    "5.  Plot simulated trajectories for selected variables"
   ]
  },
  {
   "cell_type": "markdown",
   "metadata": {},
   "source": [
    "#### Step 1: `Simulation` class"
   ]
  },
  {
   "cell_type": "code",
   "execution_count": null,
   "metadata": {},
   "outputs": [],
   "source": [
    "import numpy as np\n",
    "\n",
    "@dataclass\n",
    "class Simulation:\n",
    "    c_y: np.ndarray = None      # Time series for consumption when young\n",
    "    c_o: np.ndarray = None      # Time series for consumption when old \n",
    "    a: np.ndarray = None        # Time series for savings when young\n",
    "    s: np.ndarray = None        # Time series for savings rate when young\n",
    "    r: np.ndarray = None        # Time series for interest rate (return on capital)\n",
    "    w: np.ndarray = None        # Time series for wages\n",
    "    K: np.ndarray = None        # Time series for aggregate capital stock\n",
    "    Y: np.ndarray = None        # Time series for aggregate output\n",
    "    z: np.ndarray = None        # Time series for TFP\n",
    "    "
   ]
  },
  {
   "cell_type": "markdown",
   "metadata": {},
   "source": [
    "#### Step 2: Initial steady state\n",
    "\n",
    "-   Need to use $\\gamma = 1$\n",
    "-   Use functions defined earlier to compute and report steady state"
   ]
  },
  {
   "cell_type": "code",
   "execution_count": null,
   "metadata": {},
   "outputs": [],
   "source": [
    "# Parameter instance with risk aversion gamma=1\n",
    "par = Parameters(gamma=1)\n",
    "\n",
    "# Compute equilibrium at original TFP level\n",
    "eq_init = compute_steady_state(par)\n",
    "\n",
    "# Print initial equilibrium\n",
    "print_steady_state(eq_init)  "
   ]
  },
  {
   "cell_type": "markdown",
   "metadata": {},
   "source": [
    "#### Step 3: Implement simulation"
   ]
  },
  {
   "cell_type": "code",
   "execution_count": null,
   "metadata": {},
   "outputs": [],
   "source": [
    "def simulate_olg(z_new, eq: SteadyState, T = 10):\n",
    "    \"\"\"\n",
    "    Simulate the transition dynamics of the overlapping generations model.\n",
    "\n",
    "    Parameters\n",
    "    ----------\n",
    "    z_new : float\n",
    "        New level of TFP after the shock.\n",
    "    eq : SteadyState\n",
    "        Initial steady-state equilibrium before the shock.\n",
    "    T : int\n",
    "        Number of periods to simulate.\n",
    "\n",
    "    Returns\n",
    "    -------\n",
    "    sim : Simulation\n",
    "        Simulation object containing the time series for each variable.\n",
    "    \"\"\"\n",
    "\n",
    "    # TODO:\n",
    "    # 1. Make sure gamma = 1\n",
    "    # 2. Initialize Simulation object\n",
    "    # 3. Loop through all periods\n",
    "    # 4. Verify goods market clearing in each period"
   ]
  },
  {
   "cell_type": "markdown",
   "metadata": {},
   "source": [
    "#### Step 4: Run simulation"
   ]
  },
  {
   "cell_type": "code",
   "execution_count": null,
   "metadata": {},
   "outputs": [],
   "source": [
    "# Number of periods to simulate\n",
    "T = 20\n",
    "\n",
    "# New TFP level (10% drop from steady state)\n",
    "z_new = 0.9 * par.z\n",
    "\n",
    "# Perform simulation\n",
    "sim = simulate_olg(z_new, eq_init, T=T)"
   ]
  },
  {
   "cell_type": "markdown",
   "metadata": {},
   "source": [
    "#### Step 5: Plot simulation & new steady state\n",
    "\n",
    "- Compute new steady state (where economy transitions to)"
   ]
  },
  {
   "cell_type": "markdown",
   "metadata": {},
   "source": [
    "- Plot impulse-response functions (IRFs) for selected variables as % deviation from initial steady state"
   ]
  },
  {
   "cell_type": "code",
   "execution_count": null,
   "metadata": {},
   "outputs": [],
   "source": [
    "from lecture07_olg import plot_simulation\n",
    "\n",
    "# Plot impulse responses for selected variables\n",
    "plot_simulation(eq_init, sim)"
   ]
  },
  {
   "cell_type": "markdown",
   "metadata": {},
   "source": [
    "<div class=\"alert alert-info\">\n",
    "<h3> Your turn</h3>\n",
    "\n",
    "As a robustness check, verify that the simulated trajectories are <i>constant</i> if the new TFP level is unchanged from the initial TFP level.\n",
    "\n",
    "</div>"
   ]
  }
 ],
 "metadata": {
  "kernelspec": {
   "display_name": "FIE463",
   "language": "python",
   "name": "python3"
  },
  "language_info": {
   "codemirror_mode": {
    "name": "ipython",
    "version": 3
   },
   "file_extension": ".py",
   "mimetype": "text/x-python",
   "name": "python",
   "nbconvert_exporter": "python",
   "pygments_lexer": "ipython3",
   "version": "3.12.9"
  }
 },
 "nbformat": 4,
 "nbformat_minor": 2
}
